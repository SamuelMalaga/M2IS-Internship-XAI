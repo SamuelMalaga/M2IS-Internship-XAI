{
 "cells": [
  {
   "cell_type": "markdown",
   "id": "d8447061-1f7a-4a5c-a248-795d1875e064",
   "metadata": {},
   "source": [
    "#### Imports"
   ]
  },
  {
   "cell_type": "code",
   "execution_count": 1,
   "id": "2ac6119e-a800-435b-aa4a-4467414369dc",
   "metadata": {},
   "outputs": [],
   "source": [
    "import pandas as pd\n",
    "import numpy as np\n",
    "import matplotlib.pyplot as plt"
   ]
  },
  {
   "cell_type": "markdown",
   "id": "ec24d2c0-8c6d-4619-a2f8-8f5ea3548605",
   "metadata": {},
   "source": [
    "#### Loading the datasources"
   ]
  },
  {
   "cell_type": "code",
   "execution_count": 2,
   "id": "3b271eaf-b9a8-4296-90a4-104e25ea2069",
   "metadata": {},
   "outputs": [
    {
     "name": "stdout",
     "output_type": "stream",
     "text": [
      "Election details Index(['ID', 'project_id', 'project_title', 'created_at', 'checked_out_at',\n",
      "       'project_url', 'vote_finished'],\n",
      "      dtype='object') \n",
      "\n"
     ]
    }
   ],
   "source": [
    "electionDetailsDF = pd.read_csv('projectDetails.csv', sep=\";\")\n",
    "print(\"Election details\",electionDetailsDF.columns,\"\\n\")"
   ]
  },
  {
   "cell_type": "code",
   "execution_count": 4,
   "id": "e8554c77-d6b8-42d8-b318-b0bf7fa7a3d5",
   "metadata": {},
   "outputs": [
    {
     "name": "stdout",
     "output_type": "stream",
     "text": [
      "project_id  4    5    6    7    8    9    10   11   12   13   ...  194  195  \\\n",
      "ID                                                            ...             \n",
      "9             0    0    0    0    0    0    0    0    0    0  ...    0    0   \n",
      "11            0    0    0    0    0    0    0    0    0    0  ...    0    0   \n",
      "12            0    0    0    0    0    0    0    0    0    0  ...    0    0   \n",
      "13            0    1    0    0    0    0    0    0    0    0  ...    0    0   \n",
      "15            0    0    0    0    0    0    0    0    0    0  ...    0    0   \n",
      "...         ...  ...  ...  ...  ...  ...  ...  ...  ...  ...  ...  ...  ...   \n",
      "5228          0    0    0    0    0    0    0    0    0    0  ...    0    0   \n",
      "5229          0    0    0    1    0    0    0    1    0    0  ...    0    0   \n",
      "5230          0    0    0    0    0    0    0    0    0    0  ...    0    0   \n",
      "5231          0    0    0    0    0    0    0    0    0    0  ...    0    0   \n",
      "5232          0    0    0    0    0    0    0    0    0    0  ...    0    0   \n",
      "\n",
      "project_id  196  197  198  199  200  201  202  203  \n",
      "ID                                                  \n",
      "9             0    0    0    0    0    0    0    0  \n",
      "11            0    0    0    0    0    0    0    0  \n",
      "12            0    0    0    0    0    0    0    0  \n",
      "13            0    0    0    0    0    0    0    0  \n",
      "15            0    0    0    0    0    0    0    0  \n",
      "...         ...  ...  ...  ...  ...  ...  ...  ...  \n",
      "5228          0    0    0    0    0    0    0    0  \n",
      "5229          0    0    0    0    0    0    0    0  \n",
      "5230          0    0    0    0    0    0    0    0  \n",
      "5231          0    0    0    0    0    0    0    0  \n",
      "5232          0    0    0    0    0    0    0    0  \n",
      "\n",
      "[4532 rows x 199 columns]\n"
     ]
    }
   ],
   "source": [
    "##Creating the binary matrix\n",
    "voter_matrix = pd.crosstab(electionDetailsDF['ID'], electionDetailsDF['project_id'])\n",
    "\n",
    "print(voter_matrix)"
   ]
  },
  {
   "cell_type": "code",
   "execution_count": null,
   "id": "fa1f71e1-c31b-4cc7-9ad4-cf44b36ce44e",
   "metadata": {},
   "outputs": [],
   "source": []
  }
 ],
 "metadata": {
  "kernelspec": {
   "display_name": "Python 3 (ipykernel)",
   "language": "python",
   "name": "python3"
  },
  "language_info": {
   "codemirror_mode": {
    "name": "ipython",
    "version": 3
   },
   "file_extension": ".py",
   "mimetype": "text/x-python",
   "name": "python",
   "nbconvert_exporter": "python",
   "pygments_lexer": "ipython3",
   "version": "3.12.3"
  }
 },
 "nbformat": 4,
 "nbformat_minor": 5
}
