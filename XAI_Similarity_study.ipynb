{
 "cells": [
  {
   "cell_type": "markdown",
   "id": "d8447061-1f7a-4a5c-a248-795d1875e064",
   "metadata": {},
   "source": [
    "#### Imports"
   ]
  },
  {
   "cell_type": "code",
   "execution_count": 1,
   "id": "2ac6119e-a800-435b-aa4a-4467414369dc",
   "metadata": {},
   "outputs": [],
   "source": [
    "import pandas as pd\n",
    "import numpy as np\n",
    "import matplotlib.pyplot as plt\n",
    "\n",
    "from sklearn.metrics.pairwise import cosine_similarity\n",
    "from sklearn.metrics import jaccard_score\n",
    "from scipy import sparse\n",
    "from scipy.spatial.distance import pdist, squareform"
   ]
  },
  {
   "cell_type": "markdown",
   "id": "ec24d2c0-8c6d-4619-a2f8-8f5ea3548605",
   "metadata": {},
   "source": [
    "#### Loading the datasources"
   ]
  },
  {
   "cell_type": "code",
   "execution_count": 2,
   "id": "3b271eaf-b9a8-4296-90a4-104e25ea2069",
   "metadata": {},
   "outputs": [
    {
     "name": "stdout",
     "output_type": "stream",
     "text": [
      "Election details Index(['ID', 'project_id', 'project_title', 'created_at', 'checked_out_at',\n",
      "       'project_url', 'vote_finished'],\n",
      "      dtype='object') \n",
      "\n"
     ]
    }
   ],
   "source": [
    "electionDetailsDF = pd.read_csv('projectDetails.csv', sep=\";\")\n",
    "print(\"Election details\",electionDetailsDF.columns,\"\\n\")"
   ]
  },
  {
   "cell_type": "code",
   "execution_count": 3,
   "id": "e8554c77-d6b8-42d8-b318-b0bf7fa7a3d5",
   "metadata": {},
   "outputs": [
    {
     "name": "stdout",
     "output_type": "stream",
     "text": [
      "project_id  4    5    6    7    8    9    10   11   12   13   ...  194  195  \\\n",
      "ID                                                            ...             \n",
      "9             0    0    0    0    0    0    0    0    0    0  ...    0    0   \n",
      "11            0    0    0    0    0    0    0    0    0    0  ...    0    0   \n",
      "12            0    0    0    0    0    0    0    0    0    0  ...    0    0   \n",
      "13            0    1    0    0    0    0    0    0    0    0  ...    0    0   \n",
      "15            0    0    0    0    0    0    0    0    0    0  ...    0    0   \n",
      "...         ...  ...  ...  ...  ...  ...  ...  ...  ...  ...  ...  ...  ...   \n",
      "5228          0    0    0    0    0    0    0    0    0    0  ...    0    0   \n",
      "5229          0    0    0    1    0    0    0    1    0    0  ...    0    0   \n",
      "5230          0    0    0    0    0    0    0    0    0    0  ...    0    0   \n",
      "5231          0    0    0    0    0    0    0    0    0    0  ...    0    0   \n",
      "5232          0    0    0    0    0    0    0    0    0    0  ...    0    0   \n",
      "\n",
      "project_id  196  197  198  199  200  201  202  203  \n",
      "ID                                                  \n",
      "9             0    0    0    0    0    0    0    0  \n",
      "11            0    0    0    0    0    0    0    0  \n",
      "12            0    0    0    0    0    0    0    0  \n",
      "13            0    0    0    0    0    0    0    0  \n",
      "15            0    0    0    0    0    0    0    0  \n",
      "...         ...  ...  ...  ...  ...  ...  ...  ...  \n",
      "5228          0    0    0    0    0    0    0    0  \n",
      "5229          0    0    0    0    0    0    0    0  \n",
      "5230          0    0    0    0    0    0    0    0  \n",
      "5231          0    0    0    0    0    0    0    0  \n",
      "5232          0    0    0    0    0    0    0    0  \n",
      "\n",
      "[4532 rows x 199 columns]\n"
     ]
    }
   ],
   "source": [
    "##Creating the binary matrix\n",
    "voter_matrix = pd.crosstab(electionDetailsDF['ID'], electionDetailsDF['project_id'])\n",
    "\n",
    "print(voter_matrix)"
   ]
  },
  {
   "cell_type": "markdown",
   "id": "066257bc-233d-49c0-8b7d-ac53f0520296",
   "metadata": {},
   "source": [
    "**Item-item collaborative filtering**"
   ]
  },
  {
   "cell_type": "code",
   "execution_count": 6,
   "id": "5237ec89-47bd-49ac-bbf1-5343cd43e119",
   "metadata": {},
   "outputs": [
    {
     "name": "stdout",
     "output_type": "stream",
     "text": [
      "project_id\n",
      "9      1.000000\n",
      "7      0.202053\n",
      "5      0.123059\n",
      "4      0.093903\n",
      "12     0.087337\n",
      "27     0.068525\n",
      "11     0.066182\n",
      "19     0.062021\n",
      "6      0.060111\n",
      "126    0.059572\n",
      "21     0.057758\n",
      "Name: 9, dtype: float64\n",
      "ID\n",
      "9      1.0\n",
      "11     1.0\n",
      "28     1.0\n",
      "29     1.0\n",
      "40     1.0\n",
      "43     1.0\n",
      "47     1.0\n",
      "73     1.0\n",
      "89     1.0\n",
      "277    1.0\n",
      "422    1.0\n",
      "Name: 9, dtype: float64\n"
     ]
    }
   ],
   "source": [
    "##Magnitude vector to apply normalization\n",
    "magnitude = np.sqrt(np.square(voter_matrix).sum(axis=1))\n",
    "\n",
    "##Unit vector (normalized matrix)\n",
    "voter_matrix = voter_matrix.divide(magnitude, axis='index')\n",
    "\n",
    "def calculate_similarity(data_items):\n",
    "    \"\"\"\n",
    "    Calculate the column-wise cosine similarity for a sparse\n",
    "    matrix. Return a new dataframe matrix with similarities.\n",
    "    \"\"\"\n",
    "    data_sparse = sparse.csr_matrix(data_items)\n",
    "    similarities = cosine_similarity(data_sparse.transpose())\n",
    "    sim = pd.DataFrame(data=similarities, index = data_items.columns, columns=data_items.columns)\n",
    "    return sim\n",
    "\n",
    "def calculate_similarity_jaccard(data_items):\n",
    "    \"\"\"\n",
    "    Calculate the column-wise cosine similarity for a sparse\n",
    "    matrix. Return a new dataframe matrix with similarities.\n",
    "    \"\"\"\n",
    "    distances = pdist(data_items, metric='jaccard')\n",
    "    similarities = 1 - squareform(distances)\n",
    "    return pd.DataFrame(similarities, index=data_items.index, columns=data_items.index)\n",
    "\n",
    "data_matrix = calculate_similarity(voter_matrix)\n",
    "data_matrix_test = calculate_similarity_jaccard(voter_matrix)\n",
    "\n",
    "print(data_matrix.loc[9].nlargest(11))\n",
    "print(data_matrix_test.loc[9].nlargest(11))"
   ]
  },
  {
   "cell_type": "code",
   "execution_count": null,
   "id": "528139c3-85af-4fa1-afd0-474549c559bf",
   "metadata": {},
   "outputs": [],
   "source": []
  }
 ],
 "metadata": {
  "kernelspec": {
   "display_name": "Python 3 (ipykernel)",
   "language": "python",
   "name": "python3"
  },
  "language_info": {
   "codemirror_mode": {
    "name": "ipython",
    "version": 3
   },
   "file_extension": ".py",
   "mimetype": "text/x-python",
   "name": "python",
   "nbconvert_exporter": "python",
   "pygments_lexer": "ipython3",
   "version": "3.12.3"
  }
 },
 "nbformat": 4,
 "nbformat_minor": 5
}
