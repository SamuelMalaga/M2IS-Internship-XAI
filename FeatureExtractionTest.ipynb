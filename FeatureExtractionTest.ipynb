{
 "cells": [
  {
   "cell_type": "code",
   "execution_count": 3,
   "id": "d3ef22b6-d043-4541-98aa-ab85533f50a1",
   "metadata": {},
   "outputs": [],
   "source": [
    "idee_principale_prompt =\"\"\"\n",
    "Je te donne une description de projet urbain. Ton objectif est d'abord d'en extraire l'idée principale de manière concise, puis de classer cette idée principale dans l'une des catégories suivantes. Si un projet peut correspondre à plusieurs catégories, choisis celle qui représente le mieux l'objectif central et le plus dominant du projet.\n",
    "\n",
    "Description du projet :\n",
    "\n",
    "{project_title}\n",
    "\n",
    "\n",
    "Catégories disponibles :\n",
    "\n",
    "Végétalisation & Biodiversité Urbaine\n",
    "\n",
    "Mobilité & Transports\n",
    "\n",
    "Lutte contre les Nuisances & Amélioration de l'Environnement Sonore/Visuel\n",
    "\n",
    "Aménagements Sportifs & Loisirs\n",
    "\n",
    "Aménagements & Services Publics\n",
    "\n",
    "Rénovation & Réhabilitation d'Espaces Urbains\n",
    "\n",
    "Gestion de l'Eau & du Climat Urbain\n",
    "\n",
    "Innovation & Énergie\n",
    "\n",
    "Education & Pédagogie\n",
    "\n",
    "Convivialité & Vie de Quartier\n",
    "\n",
    "\n",
    "Format de la réponse souhaité :\n",
    "\n",
    "Idée Principale: [Nom de la catégorie choisie dans la liste]\n",
    "\"\"\""
   ]
  },
  {
   "cell_type": "markdown",
   "id": "a90ba3d2-7d66-47a0-b42d-1959d2eea182",
   "metadata": {},
   "source": [
    "**This prompt need to be improved**"
   ]
  },
  {
   "cell_type": "code",
   "execution_count": 2,
   "id": "c2ad4b63-f28c-4875-8378-4c5f8f2563aa",
   "metadata": {},
   "outputs": [],
   "source": [
    "lieu_prompt = \"\"\"\n",
    "À partir de la description du projet ci-dessous, identifie et extrais le ou les lieux spécifiques où le projet sera appliqué. Si aucune information explicite sur un lieu précis (par exemple, une rue, une place, un quartier, un bâtiment, une zone géographique) n'est mentionnée dans le texte, réponds par 'pas specifiée'.\n",
    "\n",
    "Description du projet :\n",
    "\n",
    "{project_description}\n",
    "\n",
    "Format de la réponse souhaité :\n",
    "\n",
    "Lieu d'application: [Le lieu extrait, ou 'pas specifiée'] \n",
    "\"\"\""
   ]
  },
  {
   "cell_type": "markdown",
   "id": "a912afa0-3fba-4f8f-980d-c3e21ada2788",
   "metadata": {},
   "source": [
    "**This prompt need to be improved**"
   ]
  },
  {
   "cell_type": "code",
   "execution_count": null,
   "id": "b74f0aa2-8de9-42c9-87ff-a0c7433c5a05",
   "metadata": {},
   "outputs": [],
   "source": [
    "amplitude_du_projet_prompt = \"\"\"\n",
    "Je te fournis une description de projet urbain. Ton rôle est de déterminer l'échelle ou l'amplitude géographique de ce projet en te basant uniquement sur les informations explicites contenues dans la description. Choisis la catégorie qui décrit le mieux l'étendue du projet parmi la liste suivante.\n",
    "\n",
    "Description du projet :\n",
    "\n",
    "{project_description}\n",
    "\n",
    "Catégories d'amplitude disponibles :\n",
    "\n",
    "\n",
    "ville (concerne l'ensemble de la ville ou de multiples zones non contiguës)\n",
    "\n",
    "quartier (concerne une zone géographique bien définie, un ensemble de rues ou une partie d'un quartier, un espace public d'envergure locale)\n",
    "\n",
    "rues (concerne plusieurs rues spécifiques et nommées)\n",
    "\n",
    "rue (concerne une seule rue spécifique et nommée)\n",
    "\n",
    "Format de la réponse souhaité :\n",
    "\n",
    "Amplitude du projet: [Catégorie choisie parmi 'ville', 'quartier', 'rues', 'rue']\n",
    "\"\"\""
   ]
  },
  {
   "cell_type": "markdown",
   "id": "92941e36-36a5-41bd-85bb-8560b92f2ba7",
   "metadata": {},
   "source": [
    "**This prompt needs to be more well thought (this whole attribute tbh)**"
   ]
  },
  {
   "cell_type": "code",
   "execution_count": null,
   "id": "0f8a08c1-315c-47f1-89b3-c154259ded8b",
   "metadata": {},
   "outputs": [],
   "source": [
    "target_audience_prompt = \"\"\"\n",
    "Je te donne une description de projet urbain. Ton rôle est d'identifier le public cible principal de ce projet, en te basant uniquement sur les informations contenues dans la description. Choisis la catégorie la plus appropriée parmi les options suivantes. Si la description ne spécifie pas un public particulier, considère que le projet s'adresse à 'tous'.\n",
    "\n",
    "Description du projet :\n",
    "\n",
    "{project_description}\n",
    "\n",
    "Catégories de public cible disponibles :\n",
    "\n",
    "    enfants (concerne principalement les jeunes enfants ou les adolescents)\n",
    "    adultes (concerne principalement les adultes)\n",
    "    tous (concerne l'ensemble de la population, ou si aucun public spécifique n'est mentionné)\n",
    "\n",
    "Format de la réponse souhaité :\n",
    "Public cible: [Catégorie choisie parmi 'enfants', 'adultes', 'tous']\n",
    "\"\"\""
   ]
  },
  {
   "cell_type": "code",
   "execution_count": null,
   "id": "63dd95b4-d104-42db-ba19-3d72672dd209",
   "metadata": {},
   "outputs": [],
   "source": []
  }
 ],
 "metadata": {
  "kernelspec": {
   "display_name": "Python 3 (ipykernel)",
   "language": "python",
   "name": "python3"
  },
  "language_info": {
   "codemirror_mode": {
    "name": "ipython",
    "version": 3
   },
   "file_extension": ".py",
   "mimetype": "text/x-python",
   "name": "python",
   "nbconvert_exporter": "python",
   "pygments_lexer": "ipython3",
   "version": "3.12.3"
  }
 },
 "nbformat": 4,
 "nbformat_minor": 5
}
