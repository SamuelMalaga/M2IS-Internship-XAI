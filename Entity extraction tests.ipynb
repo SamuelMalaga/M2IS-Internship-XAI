{
 "cells": [
  {
   "cell_type": "markdown",
   "id": "fb7edfdd-9b89-4efa-827d-937f386a3ce1",
   "metadata": {},
   "source": [
    "**Imports**"
   ]
  },
  {
   "cell_type": "code",
   "execution_count": 1,
   "id": "4ffd9bda-6055-465f-a33c-26b65f5c882d",
   "metadata": {},
   "outputs": [],
   "source": [
    "import pandas as pd\n",
    "import numpy as np\n",
    "#Spacy import\n",
    "import spacy\n",
    "\n",
    "#HuggingFace imports\n",
    "from transformers import pipeline\n",
    "from transformers import AutoTokenizer, AutoModelForTokenClassification\n",
    "from transformers import pipeline"
   ]
  },
  {
   "cell_type": "markdown",
   "id": "990be5a0-7e65-41e7-9ba4-8606b62b529d",
   "metadata": {},
   "source": [
    "**Load the dataset for analysis**  "
   ]
  },
  {
   "cell_type": "code",
   "execution_count": 2,
   "id": "9f883b93-62b5-42c4-8cf3-160287e7d34d",
   "metadata": {},
   "outputs": [],
   "source": [
    "aggregatedProjectsDF = pd.read_csv('projectsAgg2.csv',sep=\";\")"
   ]
  },
  {
   "cell_type": "markdown",
   "id": "fb177ccf-960e-43b6-8e27-d6e15cdb67d3",
   "metadata": {},
   "source": [
    "### Testing a spaCy pre-built model (no additional training)"
   ]
  },
  {
   "cell_type": "markdown",
   "id": "b2295fc8-a8e2-4008-9bb7-70048fe8a081",
   "metadata": {},
   "source": [
    "**Sample of a description**"
   ]
  },
  {
   "cell_type": "code",
   "execution_count": 16,
   "id": "95da6efc-7339-46d8-a23f-d59903a69c90",
   "metadata": {},
   "outputs": [
    {
     "name": "stdout",
     "output_type": "stream",
     "text": [
      "Dés les 1er mois, les enfants sont sensibles à beaucoup de choses. Un tel lieu serait un formidable espace de pédagogie et un véritable lieu d’exploration. Il permettrait de développer leur sensibilité à l’environnement. Ce serait aussi un espace où les professionnels de la petite enfance pourraient s’exprimer, initier des activités créatives. Ce lieu serait accessible aux professionnel(les) de la petite enfance mais aussi aux parents et grands-parents qui le souhaitent. Cet environnement serait un levier indispensable pour répondre aux besoins fondamentaux des bébés (cognitifs, émotionnels, psychologiques et d’expression par le langage). Le contact avec la nature conditionne le développement et le bien-être d'un enfant et d'autant plus pour celui d'un enfant citadin. Un tel endroit favoriserait sa curiosité, sa construction et son épanouissement. Au-delà même du jardinage, le jardin et la nature sont de formidables espaces de créativité. Un tel environnement permet tout à fait l’éveil artistique et culturel des jeunes enfants. La nature fournit en effet aux enfants des opportunités uniques d’apprentissage que ce soit en matière d’engagement, de prise de risques, de découverte, de maîtrise des situations, d’estime de soi et de créativité. Chaque professionnel(les) de la petite enfance y puiseront des idées pour savoir comment intégrer l’éveil à la nature, la créativité et la culture, l'histoire qui lui est liée, dans leur pratique quotidienne. Une variété de projets pourrait s'y développer, tous reliés par le souci de faire vivre ce lieu comme un espace d’ouverture à la créativité, à l'enrichissement de l'environnement du jeune enfant et à tisser des liens dans le quartier. \"La période de la conception aux deux premières années de la vie après la naissance sont déterminantes pour le développement de l’enfant et la santé de l’adulte qu’il deviendra\" : selon le rapport des 1000 premiers jours.Modalités de réalisation - Avis technique :Cette idée est réalisable sur le parc de la Vache. Le service municipal compétent pourra être support pour le choix de la palette végétale et le gros entretien mais il conviendra d’associer un acteur associatif pour la gestion courante et pédagogique. Cette idée sera donc conditionnée à cette organisation.\n"
     ]
    }
   ],
   "source": [
    "print(aggregatedProjectsDF.iloc[88].description)"
   ]
  },
  {
   "cell_type": "markdown",
   "id": "080c1e97-9fd2-4759-b6f6-a795c9e9ac2a",
   "metadata": {},
   "source": [
    "**Load the model downloaded**  \n",
    "For reference, the package documentation and structures can be found here: https://spacy.io/  \n",
    "It is important to note that they also have a polish model, so the entity recognition/extraction can also be used in the polish datasets"
   ]
  },
  {
   "cell_type": "markdown",
   "id": "8d22be35-fd93-4e5f-8ae4-97112ae8c5fb",
   "metadata": {},
   "source": [
    "**This is a test to check the performance of entity recognition of spaCy package by default**"
   ]
  },
  {
   "cell_type": "code",
   "execution_count": 19,
   "id": "9a1dbb95-53dc-4964-b31d-df4cc1e16f3d",
   "metadata": {},
   "outputs": [],
   "source": [
    "##Load the specific model for the french language\n",
    "nlp = spacy.load(\"fr_core_news_sm\")"
   ]
  },
  {
   "cell_type": "code",
   "execution_count": 20,
   "id": "b02133f2-cc2d-4748-9a8c-30c5f48d494e",
   "metadata": {},
   "outputs": [],
   "source": [
    "text = aggregatedProjectsDF.iloc[88].description\n",
    "doc = nlp(text)"
   ]
  },
  {
   "cell_type": "code",
   "execution_count": 21,
   "id": "78453bac-3f2e-4614-adf7-ac980a9f5477",
   "metadata": {},
   "outputs": [
    {
     "name": "stdout",
     "output_type": "stream",
     "text": [
      "LOC | s’exprimer\n",
      "MISC | d’\n",
      "MISC | qu’\n",
      "PER | Modalités\n",
      "ORG | Avis\n"
     ]
    }
   ],
   "source": [
    "for entity in doc.ents:\n",
    "    print(entity.label_ ,\"|\", entity.text)"
   ]
  },
  {
   "cell_type": "markdown",
   "id": "6a480e86-045b-4041-980f-6e1b06692a1e",
   "metadata": {},
   "source": [
    "From this example, we can check that we need to train the model to get better entity recognition"
   ]
  },
  {
   "cell_type": "markdown",
   "id": "79133c16-7ff9-4863-aebc-52c3f3f6b8cc",
   "metadata": {},
   "source": [
    "### Testing with a huggingface pre-trained model"
   ]
  },
  {
   "cell_type": "markdown",
   "id": "37da26cb-6ee3-4a61-87a3-56f0745a895a",
   "metadata": {},
   "source": [
    "**Loading the model**"
   ]
  },
  {
   "cell_type": "code",
   "execution_count": 22,
   "id": "95f5d88e-094e-4f45-8d53-2a631c43e97f",
   "metadata": {},
   "outputs": [
    {
     "name": "stderr",
     "output_type": "stream",
     "text": [
      "Device set to use cuda:0\n"
     ]
    }
   ],
   "source": [
    "tokenizer = AutoTokenizer.from_pretrained(\"Babelscape/wikineural-multilingual-ner\")\n",
    "model = AutoModelForTokenClassification.from_pretrained(\"Babelscape/wikineural-multilingual-ner\")\n",
    "\n",
    "nlp = pipeline(\"ner\", model=model, tokenizer=tokenizer, grouped_entities=True)\n"
   ]
  },
  {
   "cell_type": "code",
   "execution_count": 23,
   "id": "89d56b7f-4f7a-4d0a-9753-d21e3741a86b",
   "metadata": {},
   "outputs": [
    {
     "name": "stdout",
     "output_type": "stream",
     "text": [
      "Entity group | LOC | Score--> 0.9806381464004517 | Word--> parc de la Vache \n",
      "\n"
     ]
    }
   ],
   "source": [
    "ner_results = nlp(text)\n",
    "for result in ner_results:\n",
    "    print(f\"Entity group | {result['entity_group']} | Score--> {result['score']} | Word--> {result['word']} \\n\")"
   ]
  },
  {
   "cell_type": "markdown",
   "id": "26212269-040e-4619-8205-a050259afd24",
   "metadata": {},
   "source": [
    "We can see that the without a clear instructions, the known entities are not detected and without it a entity extraction of a good quality is not possible at all. This raises a question and also a task to verify, if we structure the entities that we want and guide the LLM via a well structured prompt, can we extract more relevant features?  \n",
    "The inspiration for this comes from these articles:  \n",
    "https://medium.com/@lucasmassucci/entity-recognition-with-llms-and-the-importance-of-prompt-engineering-all-languages-ceda8a7ff3e2  \n",
    "https://medium.com/@manoranjan.rajguru/extracting-entities-from-unstructured-documents-using-large-language-models-f7f2c4d203ee  \n",
    "With this we can try to use more performant models to do it like ollama, deepseek and etc...\n"
   ]
  },
  {
   "cell_type": "markdown",
   "id": "c7e03500-c56d-43ff-ba9d-4954f64b465d",
   "metadata": {},
   "source": [
    "**Using text generation with Deepseek (plus promp engineering)**  "
   ]
  },
  {
   "cell_type": "code",
   "execution_count": null,
   "id": "083a7682-157d-4398-8fec-37c830a5475f",
   "metadata": {},
   "outputs": [
    {
     "data": {
      "application/vnd.jupyter.widget-view+json": {
       "model_id": "183149a1ffb148c0a3c05201b7aec7c0",
       "version_major": 2,
       "version_minor": 0
      },
      "text/plain": [
       "config.json:   0%|          | 0.00/679 [00:00<?, ?B/s]"
      ]
     },
     "metadata": {},
     "output_type": "display_data"
    },
    {
     "data": {
      "application/vnd.jupyter.widget-view+json": {
       "model_id": "ccb4276445db4be589404e8dc2066444",
       "version_major": 2,
       "version_minor": 0
      },
      "text/plain": [
       "model.safetensors:   0%|          | 0.00/3.55G [00:00<?, ?B/s]"
      ]
     },
     "metadata": {},
     "output_type": "display_data"
    },
    {
     "name": "stderr",
     "output_type": "stream",
     "text": [
      "Error while downloading from https://cdn-lfs-us-1.hf.co/repos/80/3b/803bf3a0c970ed5c554d34586697cf1613396ec4158c96d5290742c7421a5d88/58858233513d76b8703e72eed6ce16807b523328188e13329257fb9594462945?response-content-disposition=inline%3B+filename*%3DUTF-8%27%27model.safetensors%3B+filename%3D%22model.safetensors%22%3B&Expires=1747846974&Policy=eyJTdGF0ZW1lbnQiOlt7IkNvbmRpdGlvbiI6eyJEYXRlTGVzc1RoYW4iOnsiQVdTOkVwb2NoVGltZSI6MTc0Nzg0Njk3NH19LCJSZXNvdXJjZSI6Imh0dHBzOi8vY2RuLWxmcy11cy0xLmhmLmNvL3JlcG9zLzgwLzNiLzgwM2JmM2EwYzk3MGVkNWM1NTRkMzQ1ODY2OTdjZjE2MTMzOTZlYzQxNThjOTZkNTI5MDc0MmM3NDIxYTVkODgvNTg4NTgyMzM1MTNkNzZiODcwM2U3MmVlZDZjZTE2ODA3YjUyMzMyODE4OGUxMzMyOTI1N2ZiOTU5NDQ2Mjk0NT9yZXNwb25zZS1jb250ZW50LWRpc3Bvc2l0aW9uPSoifV19&Signature=HHpXasz6AIGD8q%7E6p75xycL2abCFK4f7tRnrK198ZEgytIvafIjVMdvRFz%7EskdXeMoAnZ-SXQ4CHY%7EVnJQSgQoUL0SzKYswSTQI2H%7EzPZTov8ZXaw6BRwIt7UYREHJxJd30LE0FZ12VDTpYK3fFKgXquLlbhvd1YFf5L1pUdb4TymkulT33FpZr0aSsBBzAsiQ5zwW5k0CIHyrQ6sO-7rDxT6k5E1wdGDjCtiuoSWf1%7ESjIVgZvpW1A8Jo33YB69BDC5d%7EEFdUYH1m%7E1EFj6ZaxDlLXP%7EcsTGYrEDCDLlHjQjn%7EkimKYq4WaeD0%7EYlvdFxjVmjcppUrtOi2zaO11oQ__&Key-Pair-Id=K24J24Z295AEI9: HTTPSConnectionPool(host='cdn-lfs-us-1.hf.co', port=443): Read timed out.\n",
      "Trying to resume download...\n"
     ]
    },
    {
     "data": {
      "application/vnd.jupyter.widget-view+json": {
       "model_id": "2a14bf1a8992478e981df4449b721fbb",
       "version_major": 2,
       "version_minor": 0
      },
      "text/plain": [
       "model.safetensors:  24%|##3       | 1.11G/4.67G [00:00<?, ?B/s]"
      ]
     },
     "metadata": {},
     "output_type": "display_data"
    }
   ],
   "source": [
    "pipeline = pipeline(task=\"text-generation\", model=\"deepseek-ai/DeepSeek-R1-Distill-Qwen-1.5B\")"
   ]
  },
  {
   "cell_type": "code",
   "execution_count": null,
   "id": "b01ea5db-fc0f-4378-b09e-870efd1820c2",
   "metadata": {},
   "outputs": [],
   "source": []
  }
 ],
 "metadata": {
  "kernelspec": {
   "display_name": "Python 3 (ipykernel)",
   "language": "python",
   "name": "python3"
  },
  "language_info": {
   "codemirror_mode": {
    "name": "ipython",
    "version": 3
   },
   "file_extension": ".py",
   "mimetype": "text/x-python",
   "name": "python",
   "nbconvert_exporter": "python",
   "pygments_lexer": "ipython3",
   "version": "3.12.3"
  }
 },
 "nbformat": 4,
 "nbformat_minor": 5
}
