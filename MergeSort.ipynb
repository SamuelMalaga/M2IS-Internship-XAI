{
 "cells": [
  {
   "cell_type": "code",
   "execution_count": 7,
   "id": "04736435-9a8f-40d2-af12-754ecca1a1ce",
   "metadata": {},
   "outputs": [],
   "source": [
    "arr1=[3,6,4,5,8,9]\n",
    "arr2=[3,5,7,8,3,3,1]"
   ]
  },
  {
   "cell_type": "code",
   "execution_count": 8,
   "id": "615b88d6-3ce9-4111-8656-6a0cf3486e2d",
   "metadata": {},
   "outputs": [
    {
     "name": "stdout",
     "output_type": "stream",
     "text": [
      "0\n",
      "1\n"
     ]
    }
   ],
   "source": [
    "print(len(arr1)%2) #Remainder of 0\n",
    "print(len(arr2)%2) #Remainder of 1"
   ]
  },
  {
   "cell_type": "code",
   "execution_count": 30,
   "id": "22ebfb28-b63b-4551-a2db-c496dca67d9e",
   "metadata": {},
   "outputs": [],
   "source": [
    "def merge_sort(arr:list[int]) -> list[int]:\n",
    "    \n",
    "    if len(arr) > 1:\n",
    "        left_arr = arr[0:len(arr)//2]\n",
    "        right_arr = arr[len(arr)//2:]\n",
    "\n",
    "        # print(f\"left arr -> {left_arr}\")\n",
    "        # print(f\"right arr -> {right_arr}\")\n",
    "        \n",
    "        #Recursion\n",
    "        merge_sort(left_arr)\n",
    "        merge_sort(right_arr)\n",
    "\n",
    "        #merge\n",
    "        i = 0 # LEft array index\n",
    "        j = 0 # Right array index\n",
    "        k = 0 # Merged array Index\n",
    "        while i < len(left_arr) and j < len(right_arr):\n",
    "            if left_arr[i] > right_arr[j]:\n",
    "                arr[k] = left_arr[i]\n",
    "                i += 1\n",
    "            else:\n",
    "                arr[k] = right_arr[j]\n",
    "                j += 1\n",
    "            k += 1\n",
    "\n",
    "        ## this is the case where the right array have every element sorted, this means that we only want to transfer \n",
    "        # elements from the right array\n",
    "        while i < len(left_arr):\n",
    "            arr[k] = left_arr[i]\n",
    "            i += 1\n",
    "            k += 1\n",
    "\n",
    "        while j < len(right_arr):\n",
    "            arr[k] = right_arr[j]\n",
    "            j += 1\n",
    "            k += 1"
   ]
  },
  {
   "cell_type": "code",
   "execution_count": 31,
   "id": "bb1c46b0-287a-4a49-8fda-fec649e258a3",
   "metadata": {},
   "outputs": [],
   "source": [
    "merge_sort(arr1)\n",
    "merge_sort(arr2)"
   ]
  },
  {
   "cell_type": "code",
   "execution_count": 32,
   "id": "d9ab2bc5-3c3d-4a28-998b-857c448a3012",
   "metadata": {},
   "outputs": [
    {
     "name": "stdout",
     "output_type": "stream",
     "text": [
      "[9, 8, 6, 5, 4, 3]\n",
      "[8, 7, 5, 3, 3, 3, 1]\n"
     ]
    }
   ],
   "source": [
    "print(arr1)\n",
    "print(arr2)"
   ]
  },
  {
   "cell_type": "code",
   "execution_count": null,
   "id": "29ddd553-8ed5-4ca2-93f2-7e9877717902",
   "metadata": {},
   "outputs": [],
   "source": []
  }
 ],
 "metadata": {
  "kernelspec": {
   "display_name": "Python 3 (ipykernel)",
   "language": "python",
   "name": "python3"
  },
  "language_info": {
   "codemirror_mode": {
    "name": "ipython",
    "version": 3
   },
   "file_extension": ".py",
   "mimetype": "text/x-python",
   "name": "python",
   "nbconvert_exporter": "python",
   "pygments_lexer": "ipython3",
   "version": "3.12.3"
  }
 },
 "nbformat": 4,
 "nbformat_minor": 5
}
