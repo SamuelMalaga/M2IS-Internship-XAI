{
 "cells": [
  {
   "cell_type": "code",
   "execution_count": 1,
   "id": "d5f9bcf6-abce-45f5-b564-26506e589315",
   "metadata": {},
   "outputs": [],
   "source": [
    "from ollama import chat\n",
    "from langchain_ollama import OllamaLLM\n",
    "from langchain_core.prompts import ChatPromptTemplate\n",
    "from pydantic import BaseModel, Field\n",
    "import pandas as pd\n",
    "from sentence_transformers import SentenceTransformer\n",
    "import torch"
   ]
  },
  {
   "cell_type": "code",
   "execution_count": 2,
   "id": "d1c83692-b268-495f-8dae-33c6cbdbf5b5",
   "metadata": {},
   "outputs": [],
   "source": [
    "aggregatedProjectsDF = pd.read_csv('projectsAggWResults.csv',sep=\",\")\n",
    "aggregatedProjectsDF = aggregatedProjectsDF.drop('Unnamed: 0',axis=1)\n",
    "aggregatedProjectsDF[['description','avis_technique']] = aggregatedProjectsDF['description'].str.split('Modalités de réalisation - Avis technique :', expand=True)\n",
    "electionDetails = pd.read_csv('projectDetails.csv',sep=\";\")"
   ]
  },
  {
   "cell_type": "code",
   "execution_count": 3,
   "id": "70dc0510-5684-4549-862a-55e86ff438db",
   "metadata": {},
   "outputs": [
    {
     "name": "stdout",
     "output_type": "stream",
     "text": [
      "Winning projects\n",
      "      project_id                                       project_name  votes\n",
      "158          91  Nichoirs à martinets et chauve souris + pièges...    111\n",
      "192          94  Installation de pièges à moustiques à Croix Da...     49\n",
      "91          201  Voilage d'ombres sur les jeux public de plein ...     34\n",
      "68           93                        Réduire la pollution sonore     33\n",
      "14           99                              L'ornemental fruitier     29\n",
      "194          98                               Equipements sportifs     26\n",
      "83           92  Végétaliser le parking du cimetière de Croix D...     21\n",
      "Loosing projects\n",
      "     project_id                                       project_name  votes\n",
      "12          97  Création d'un terrain de cécifoot (foot pour n...     16\n",
      "9           95  Végétalisation des murs extérieurs de l'école ...     10\n"
     ]
    }
   ],
   "source": [
    "district_projects = aggregatedProjectsDF[aggregatedProjectsDF['src_district_code'] == 3.3].copy()\n",
    "district_winning_projects = district_projects[district_projects['approved_binary']==1]\n",
    "district_losing_projects = district_projects[district_projects['approved_binary']==0]\n",
    "print(\"Winning projects\\n\",district_winning_projects[['project_id','project_name', 'votes']].sort_values(by='votes', ascending=False))\n",
    "print(\"Loosing projects\\n\", district_losing_projects[['project_id','project_name', 'votes']].sort_values(by='votes', ascending=False))"
   ]
  },
  {
   "cell_type": "code",
   "execution_count": 5,
   "id": "fff3136a-3a0c-459e-88ff-c38608e8f936",
   "metadata": {},
   "outputs": [],
   "source": [
    "ground_truth = [94, 91, 92, 99, 201, 98, 93]"
   ]
  },
  {
   "cell_type": "code",
   "execution_count": 22,
   "id": "52fc42a9-4eb7-40fc-b06a-1dd85cad7c04",
   "metadata": {},
   "outputs": [],
   "source": [
    "def check_out_perf(transformer_output: list[int], ground_truth:list[int]) -> float:\n",
    "    correct_score = 0\n",
    "    for i in range(len(transformer_output)):\n",
    "        ith_output = transformer_output[i]\n",
    "        ith_correct_output = ground_truth[i]\n",
    "        if ith_output == ith_correct_output:\n",
    "            correct_score +=1\n",
    "    return correct_score/len(ground_truth)"
   ]
  },
  {
   "cell_type": "code",
   "execution_count": null,
   "id": "474f493b-5b84-414b-a212-110cce620334",
   "metadata": {},
   "outputs": [],
   "source": [
    "test_project_description = district_losing_projects[district_losing_projects['project_id']==95]\n",
    "target_project = {\"id\":test_project_description.iloc[0]['project_id'].item(), \"description\":test_project_description.iloc[0]['description']}"
   ]
  },
  {
   "cell_type": "markdown",
   "id": "53b56aac-d4ad-470c-8e74-395a88837915",
   "metadata": {},
   "source": [
    "**This is the reference that is going to be considered right in terms of ordering by similarity**  \n",
    "answ = [94, 91, 92, 99, 201, 98, 93]"
   ]
  },
  {
   "cell_type": "markdown",
   "id": "0b6f4075-60a7-41e5-92a5-32418430eb3d",
   "metadata": {},
   "source": [
    "### Model BAAI/bge-m3 "
   ]
  },
  {
   "cell_type": "markdown",
   "id": "01a78f8a-821b-49bd-9261-fcb51a399768",
   "metadata": {},
   "source": [
    "### Model intfloat/e5-mistral-7b-instruct "
   ]
  },
  {
   "cell_type": "markdown",
   "id": "02d718f9-8e7b-4610-b319-c0b638431a68",
   "metadata": {},
   "source": [
    "### Model OrdalieTech/Solon-embeddings-large-0.1 "
   ]
  },
  {
   "cell_type": "markdown",
   "id": "fbff45e0-b40b-49d9-9c86-157af7e34451",
   "metadata": {},
   "source": [
    "### Model manu/sentence_croissant_alpha_v0.4"
   ]
  },
  {
   "cell_type": "markdown",
   "id": "05c45a53-d94b-4793-8400-42c199fe5fe5",
   "metadata": {},
   "source": [
    "### Model sentence-transformers/sentence-t5-xxl"
   ]
  }
 ],
 "metadata": {
  "kernelspec": {
   "display_name": "Python 3 (ipykernel)",
   "language": "python",
   "name": "python3"
  },
  "language_info": {
   "codemirror_mode": {
    "name": "ipython",
    "version": 3
   },
   "file_extension": ".py",
   "mimetype": "text/x-python",
   "name": "python",
   "nbconvert_exporter": "python",
   "pygments_lexer": "ipython3",
   "version": "3.12.3"
  }
 },
 "nbformat": 4,
 "nbformat_minor": 5
}
