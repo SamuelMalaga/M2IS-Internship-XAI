{
 "cells": [
  {
   "cell_type": "code",
   "execution_count": 1,
   "id": "d5f9bcf6-abce-45f5-b564-26506e589315",
   "metadata": {},
   "outputs": [],
   "source": [
    "from ollama import chat\n",
    "from langchain_ollama import OllamaLLM\n",
    "from langchain_core.prompts import ChatPromptTemplate\n",
    "from pydantic import BaseModel, Field\n",
    "import pandas as pd\n",
    "from sentence_transformers import SentenceTransformer\n",
    "import torch"
   ]
  },
  {
   "cell_type": "code",
   "execution_count": 2,
   "id": "d1c83692-b268-495f-8dae-33c6cbdbf5b5",
   "metadata": {},
   "outputs": [],
   "source": [
    "aggregatedProjectsDF = pd.read_csv('projectsAggWResults.csv',sep=\",\")\n",
    "aggregatedProjectsDF = aggregatedProjectsDF.drop('Unnamed: 0',axis=1)\n",
    "aggregatedProjectsDF[['description','avis_technique']] = aggregatedProjectsDF['description'].str.split('Modalités de réalisation - Avis technique :', expand=True)\n",
    "electionDetails = pd.read_csv('projectDetails.csv',sep=\";\")"
   ]
  },
  {
   "cell_type": "code",
   "execution_count": 3,
   "id": "70dc0510-5684-4549-862a-55e86ff438db",
   "metadata": {},
   "outputs": [
    {
     "name": "stdout",
     "output_type": "stream",
     "text": [
      "Winning projects\n",
      "      project_id                                       project_name  votes\n",
      "158          91  Nichoirs à martinets et chauve souris + pièges...    111\n",
      "192          94  Installation de pièges à moustiques à Croix Da...     49\n",
      "91          201  Voilage d'ombres sur les jeux public de plein ...     34\n",
      "68           93                        Réduire la pollution sonore     33\n",
      "14           99                              L'ornemental fruitier     29\n",
      "194          98                               Equipements sportifs     26\n",
      "83           92  Végétaliser le parking du cimetière de Croix D...     21\n",
      "Loosing projects\n",
      "     project_id                                       project_name  votes\n",
      "12          97  Création d'un terrain de cécifoot (foot pour n...     16\n",
      "9           95  Végétalisation des murs extérieurs de l'école ...     10\n"
     ]
    }
   ],
   "source": [
    "district_projects = aggregatedProjectsDF[aggregatedProjectsDF['src_district_code'] == 3.3].copy()\n",
    "district_winning_projects = district_projects[district_projects['approved_binary']==1]\n",
    "district_losing_projects = district_projects[district_projects['approved_binary']==0]\n",
    "print(\"Winning projects\\n\",district_winning_projects[['project_id','project_name', 'votes']].sort_values(by='votes', ascending=False))\n",
    "print(\"Loosing projects\\n\", district_losing_projects[['project_id','project_name', 'votes']].sort_values(by='votes', ascending=False))"
   ]
  },
  {
   "cell_type": "code",
   "execution_count": 4,
   "id": "fff3136a-3a0c-459e-88ff-c38608e8f936",
   "metadata": {},
   "outputs": [],
   "source": [
    "ground_truth = [94, 91, 92, 99, 201, 98, 93]\n",
    "embedding_benchmark_models = {}"
   ]
  },
  {
   "cell_type": "code",
   "execution_count": 5,
   "id": "52fc42a9-4eb7-40fc-b06a-1dd85cad7c04",
   "metadata": {},
   "outputs": [],
   "source": [
    "def check_out_perf(transformer_output: list[int], ground_truth:list[int]) -> float:\n",
    "    correct_score = 0\n",
    "    for i in range(len(transformer_output)):\n",
    "        ith_output = transformer_output[i]\n",
    "        ith_correct_output = ground_truth[i]\n",
    "        if ith_output == ith_correct_output:\n",
    "            correct_score +=1\n",
    "    return correct_score/len(ground_truth)"
   ]
  },
  {
   "cell_type": "code",
   "execution_count": 6,
   "id": "474f493b-5b84-414b-a212-110cce620334",
   "metadata": {},
   "outputs": [],
   "source": [
    "test_project_description = district_losing_projects[district_losing_projects['project_id']==95]\n",
    "target_project = {\"title\":test_project_description.iloc[0]['project_name'],\"id\":test_project_description.iloc[0]['project_id'].item(), \"description\":test_project_description.iloc[0]['description']}"
   ]
  },
  {
   "cell_type": "markdown",
   "id": "53b56aac-d4ad-470c-8e74-395a88837915",
   "metadata": {},
   "source": [
    "**This is the reference that is going to be considered right in terms of ordering by similarity**  \n",
    "answ = [94, 91, 92, 99, 201, 98, 93]"
   ]
  },
  {
   "cell_type": "markdown",
   "id": "0b6f4075-60a7-41e5-92a5-32418430eb3d",
   "metadata": {},
   "source": [
    "### Model BAAI/bge-m3 "
   ]
  },
  {
   "cell_type": "code",
   "execution_count": 7,
   "id": "4532d2b1-116f-4db2-8236-0592a1a0fb33",
   "metadata": {},
   "outputs": [],
   "source": [
    "from FlagEmbedding import BGEM3FlagModel"
   ]
  },
  {
   "cell_type": "code",
   "execution_count": 8,
   "id": "5c3e9d4c-4122-4e96-aec7-b4afa755c19d",
   "metadata": {},
   "outputs": [
    {
     "data": {
      "application/vnd.jupyter.widget-view+json": {
       "model_id": "f677339ac24f4e4789fb8a2c62c38536",
       "version_major": 2,
       "version_minor": 0
      },
      "text/plain": [
       "Fetching 30 files:   0%|          | 0/30 [00:00<?, ?it/s]"
      ]
     },
     "metadata": {},
     "output_type": "display_data"
    }
   ],
   "source": [
    "BGEM3 = BGEM3FlagModel('BAAI/bge-m3',use_fp16=True)\n",
    "# embedding_benchmark_models['BGEM3'] = BGEM3"
   ]
  },
  {
   "cell_type": "markdown",
   "id": "01a78f8a-821b-49bd-9261-fcb51a399768",
   "metadata": {},
   "source": [
    "### Model intfloat/e5-mistral-7b-instruct (NOGO)"
   ]
  },
  {
   "cell_type": "code",
   "execution_count": 9,
   "id": "935957d7-722c-4410-bf52-4c673c74e610",
   "metadata": {},
   "outputs": [],
   "source": [
    "from sentence_transformers import SentenceTransformer"
   ]
  },
  {
   "cell_type": "code",
   "execution_count": 10,
   "id": "a15b1998-f8b6-48d9-ab0b-fb7e4fa16e0d",
   "metadata": {},
   "outputs": [],
   "source": [
    "# Intfloat_mistral = SentenceTransformer(\"intfloat/e5-mistral-7b-instruct\")"
   ]
  },
  {
   "cell_type": "markdown",
   "id": "02d718f9-8e7b-4610-b319-c0b638431a68",
   "metadata": {},
   "source": [
    "### Model OrdalieTech/Solon-embeddings-large-0.1 "
   ]
  },
  {
   "cell_type": "code",
   "execution_count": 11,
   "id": "957af9b2-614c-47a5-a415-f20166ade4dc",
   "metadata": {},
   "outputs": [],
   "source": [
    "OrdalieTech = SentenceTransformer(\"OrdalieTech/Solon-embeddings-large-0.1\", device='cpu')\n",
    "embedding_benchmark_models['OrdalieTech']=OrdalieTech"
   ]
  },
  {
   "cell_type": "markdown",
   "id": "fbff45e0-b40b-49d9-9c86-157af7e34451",
   "metadata": {},
   "source": [
    "### Model manu/sentence_croissant_alpha_v0.4 (NOGO)\n",
    "*My hardware was not able to run it*"
   ]
  },
  {
   "cell_type": "code",
   "execution_count": 12,
   "id": "934c56f4-c31a-4107-be9f-adea2b12ba60",
   "metadata": {},
   "outputs": [],
   "source": [
    "# CroissantAlpha = SentenceTransformer(\"manu/sentence_croissant_alpha_v0.4\")"
   ]
  },
  {
   "cell_type": "markdown",
   "id": "05c45a53-d94b-4793-8400-42c199fe5fe5",
   "metadata": {},
   "source": [
    "### Model sentence-transformers/sentence-t5-xxl  (NOGO)\n",
    "*My hardware was not able to run it*\n",
    "\n",
    "### Model sentence-transformers/sentence-t5-xxl\n",
    "changed to dangvantuan/sentence-camembert-large"
   ]
  },
  {
   "cell_type": "code",
   "execution_count": 13,
   "id": "20f09fc4-c62a-4cdc-8eea-9acb05df5806",
   "metadata": {},
   "outputs": [
    {
     "name": "stderr",
     "output_type": "stream",
     "text": [
      "No sentence-transformers model found with name dangvantuan/sentence-camembert-large. Creating a new one with mean pooling.\n"
     ]
    }
   ],
   "source": [
    "camembert_large = SentenceTransformer(\"dangvantuan/sentence-camembert-large\",device='cpu')\n",
    "embedding_benchmark_models['camembert-large'] = camembert_large"
   ]
  },
  {
   "cell_type": "code",
   "execution_count": 18,
   "id": "4a3d80ba-7a62-4a27-9bee-fba9c148d45d",
   "metadata": {},
   "outputs": [],
   "source": [
    "class Project:\n",
    "    def __init__(self,project_id,project_title,description,embedded_description,embedded_title,similarity_score,title_similarity_score):\n",
    "        self.project_id=project_id\n",
    "        self.project_title=project_title\n",
    "        self.description=description\n",
    "        self.embedded_description=embedded_description\n",
    "        self.embedded_title = embedded_title\n",
    "        self.title_similarity_score = title_similarity_score\n",
    "        self.similarity_score=similarity_score"
   ]
  },
  {
   "cell_type": "code",
   "execution_count": 19,
   "id": "f2101373-a11c-4291-99dc-318eff74d3c6",
   "metadata": {},
   "outputs": [
    {
     "name": "stdout",
     "output_type": "stream",
     "text": [
      "OrdalieTech --------------------\n",
      "\n",
      "            id -> 92\n",
      "            proj_title -> Végétaliser le parking du cimetière de Croix Daurade\n",
      "            description score -> tensor([[0.4835]])\n",
      "            title_score -> tensor([[0.4450]])\n",
      "        \n",
      "\n",
      "            id -> 201\n",
      "            proj_title -> Voilage d'ombres sur les jeux public de plein air pour enfants\n",
      "            description score -> tensor([[0.4381]])\n",
      "            title_score -> tensor([[0.4428]])\n",
      "        \n",
      "\n",
      "            id -> 99\n",
      "            proj_title -> L'ornemental fruitier\n",
      "            description score -> tensor([[0.3202]])\n",
      "            title_score -> tensor([[0.2659]])\n",
      "        \n",
      "\n",
      "            id -> 91\n",
      "            proj_title -> Nichoirs à martinets et chauve souris + pièges à larves ou à adulte de moustique tigre\n",
      "            description score -> tensor([[0.3940]])\n",
      "            title_score -> tensor([[0.2647]])\n",
      "        \n",
      "\n",
      "            id -> 94\n",
      "            proj_title -> Installation de pièges à moustiques à Croix Daurade\n",
      "            description score -> tensor([[0.3923]])\n",
      "            title_score -> tensor([[0.2568]])\n",
      "        \n",
      "\n",
      "            id -> 93\n",
      "            proj_title -> Réduire la pollution sonore\n",
      "            description score -> tensor([[0.3497]])\n",
      "            title_score -> tensor([[0.1867]])\n",
      "        \n",
      "\n",
      "            id -> 98\n",
      "            proj_title -> Equipements sportifs\n",
      "            description score -> tensor([[0.4663]])\n",
      "            title_score -> tensor([[0.0911]])\n",
      "        \n",
      "Model perf:0.0\n",
      "camembert-large --------------------\n",
      "\n",
      "            id -> 92\n",
      "            proj_title -> Végétaliser le parking du cimetière de Croix Daurade\n",
      "            description score -> tensor([[0.4632]])\n",
      "            title_score -> tensor([[0.3779]])\n",
      "        \n",
      "\n",
      "            id -> 201\n",
      "            proj_title -> Voilage d'ombres sur les jeux public de plein air pour enfants\n",
      "            description score -> tensor([[0.4835]])\n",
      "            title_score -> tensor([[0.2857]])\n",
      "        \n",
      "\n",
      "            id -> 99\n",
      "            proj_title -> L'ornemental fruitier\n",
      "            description score -> tensor([[0.3932]])\n",
      "            title_score -> tensor([[0.2800]])\n",
      "        \n",
      "\n",
      "            id -> 94\n",
      "            proj_title -> Installation de pièges à moustiques à Croix Daurade\n",
      "            description score -> tensor([[0.3899]])\n",
      "            title_score -> tensor([[0.1033]])\n",
      "        \n",
      "\n",
      "            id -> 91\n",
      "            proj_title -> Nichoirs à martinets et chauve souris + pièges à larves ou à adulte de moustique tigre\n",
      "            description score -> tensor([[0.3465]])\n",
      "            title_score -> tensor([[0.0925]])\n",
      "        \n",
      "\n",
      "            id -> 98\n",
      "            proj_title -> Equipements sportifs\n",
      "            description score -> tensor([[0.3627]])\n",
      "            title_score -> tensor([[0.0570]])\n",
      "        \n",
      "\n",
      "            id -> 93\n",
      "            proj_title -> Réduire la pollution sonore\n",
      "            description score -> tensor([[0.2801]])\n",
      "            title_score -> tensor([[0.0377]])\n",
      "        \n",
      "Model perf:0.0\n"
     ]
    }
   ],
   "source": [
    "for model_name,model in embedding_benchmark_models.items():\n",
    "    embedded_winning_projects = []\n",
    "    embedded_target_project = model.encode(target_project['description'])\n",
    "    embedded_target_project_title = model.encode(target_project['title'])\n",
    "    print(f\"{model_name} --------------------\")\n",
    "\n",
    "    for index, row in district_winning_projects.iterrows():\n",
    "        encoded_description = model.encode(row['description'])\n",
    "        encoded_title = model.encode(row['project_name'])\n",
    "        obj = Project(\n",
    "            project_id=row['project_id'],\n",
    "            project_title = row['project_name'],\n",
    "            description= row['description'],\n",
    "            embedded_description= encoded_description,\n",
    "            embedded_title=encoded_title,\n",
    "            similarity_score= model.similarity(embedded_target_project,encoded_description),\n",
    "            title_similarity_score= model.similarity(embedded_target_project_title,encoded_title)\n",
    "\n",
    "        )\n",
    "        embedded_winning_projects.append(obj)\n",
    "\n",
    "    embedded_winning_projects.sort(key=lambda x: x.title_similarity_score, reverse=True)\n",
    "    for proj in embedded_winning_projects:\n",
    "        print(f\"\"\"\n",
    "            id -> {proj.project_id}\n",
    "            proj_title -> {proj.project_title}\n",
    "            description score -> {proj.similarity_score}\n",
    "            title_score -> {proj.title_similarity_score}\n",
    "        \"\"\")\n",
    "    perf_score = check_out_perf(embedded_winning_projects,ground_truth)\n",
    "    print(f\"Model perf:{perf_score}\")"
   ]
  },
  {
   "cell_type": "code",
   "execution_count": null,
   "id": "9c90258c-78db-4f4a-ab01-192852212fdb",
   "metadata": {},
   "outputs": [],
   "source": []
  }
 ],
 "metadata": {
  "kernelspec": {
   "display_name": "Python 3 (ipykernel)",
   "language": "python",
   "name": "python3"
  },
  "language_info": {
   "codemirror_mode": {
    "name": "ipython",
    "version": 3
   },
   "file_extension": ".py",
   "mimetype": "text/x-python",
   "name": "python",
   "nbconvert_exporter": "python",
   "pygments_lexer": "ipython3",
   "version": "3.12.3"
  }
 },
 "nbformat": 4,
 "nbformat_minor": 5
}
