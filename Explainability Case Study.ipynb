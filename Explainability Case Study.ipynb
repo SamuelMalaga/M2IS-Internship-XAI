{
 "cells": [
  {
   "cell_type": "code",
   "execution_count": 1,
   "id": "7962acb2-71e7-430f-a864-5f42bdbf2c13",
   "metadata": {},
   "outputs": [],
   "source": [
    "from ollama import chat\n",
    "from langchain_ollama import OllamaLLM\n",
    "from langchain_core.prompts import ChatPromptTemplate\n",
    "from pydantic import BaseModel, Field\n",
    "import pandas as pd"
   ]
  },
  {
   "cell_type": "markdown",
   "id": "8911d36b-16a6-414c-a008-a1b9e9d5d55d",
   "metadata": {},
   "source": [
    "**Importing the model and the dataset**"
   ]
  },
  {
   "cell_type": "code",
   "execution_count": 2,
   "id": "6668ff21-0c4a-4f19-b3d0-4cb9a2890f0d",
   "metadata": {},
   "outputs": [],
   "source": [
    "model = OllamaLLM(model=\"deepseek-r1:1.5b\")"
   ]
  },
  {
   "cell_type": "code",
   "execution_count": 3,
   "id": "855a5414-985a-440d-9931-3dc725030e6f",
   "metadata": {},
   "outputs": [],
   "source": [
    "aggregatedProjectsDF = pd.read_csv('projectsAggWResults.csv',sep=\",\")\n",
    "aggregatedProjectsDF = aggregatedProjectsDF.drop('Unnamed: 0',axis=1)\n",
    "electionDetails = pd.read_csv('projectDetails.csv',sep=\";\")"
   ]
  },
  {
   "cell_type": "markdown",
   "id": "8162fc6c-3e71-4e1b-a90a-c24660c4de52",
   "metadata": {},
   "source": [
    "Testing the similarity analysis"
   ]
  },
  {
   "cell_type": "code",
   "execution_count": 4,
   "id": "b3b7a696-34ee-4faf-9ff7-44b0807ddcdc",
   "metadata": {},
   "outputs": [],
   "source": [
    "test_template_en = \"\"\"\n",
    "    Given this short project description: {target_project}\n",
    "\n",
    "    Compare the description given with the following texts as rank them in order of similarity\n",
    "    to the given descriptions and organize them from the most similar to the least similar:\n",
    "    1-{desc_1},\n",
    "    2-{desc_2},\n",
    "    3-{desc_3}\n",
    "\n",
    "\"\"\""
   ]
  },
  {
   "cell_type": "code",
   "execution_count": 5,
   "id": "14574d31-feab-4a28-ae71-106a288d5659",
   "metadata": {},
   "outputs": [],
   "source": [
    "prompt_en = ChatPromptTemplate.from_template(test_template_en)\n",
    "chain = prompt_en | model\n"
   ]
  },
  {
   "cell_type": "code",
   "execution_count": 6,
   "id": "5065c8cb-1029-4569-a575-83583f6b4399",
   "metadata": {},
   "outputs": [
    {
     "name": "stdout",
     "output_type": "stream",
     "text": [
      "<think>\n",
      "Alright, so I need to figure out how to rank these three texts in order of their similarity to the given short project description about sufficient water each day. Let me break this down step by step.\n",
      "\n",
      "First, let's understand what the user is asking for. They provided a specific sentence: \"Il est important de boire suffisamment d’eau chaque jour pour rester en bonne santé.\" This translates to \"It is essential to drink enough water every day to stay in good health.\"\n",
      "\n",
      "Then, they gave three other texts and asked me to compare them with this description on a scale of similarity. They also want the ranked order from most similar to least similar.\n",
      "\n",
      "So, I need to analyze each of the three texts one by one and see how closely they match the project's description. Let's look at each text:\n",
      "\n",
      "1. \"Une alimentation équilibrée contribue aussi à améliorer l’énergie et la concentration.,\"\n",
      "2. \"Le volcan est entré en éruption soudainely, couvrant le ciel de cendres.,\"\n",
      "3. \"S’hydrater régulièrement aide le corps à bien fonctionner et prévent la fatigue.\"\n",
      "\n",
      "Starting with the first text: \"Une alimentation équilibrée contribue aussi à améliorer l’énergie et la concentration.\" This one talks about balancing nutrition, which is a food-related aspect of health. The project description is more about water. While both are about maintaining good health, this text seems to focus on diet rather than water. So, it's somewhat related but not as directly connected.\n",
      "\n",
      "Next, the second text: \"Le volcan est entré en éruption soudainely, couvrant le ciel de cendres.\" This is a statement about a volcanic eruption affecting the sky with bright colors. It seems to be describing an environmental event and its impact on the visual sky. This is unrelated to water or health in any way. So, this text is very different from the project description.\n",
      "\n",
      "The third text: \"S’hydrater régulièrement aide le corps à bien fonctionner et prévent la fatigue.\" This directly mentions hydration regularly helping the body function well and preventing fatigue. The project's description also touches on water intake being important for good health, specifically avoiding dehydration. So, this is very similar to the given project description.\n",
      "\n",
      "Now, ranking them based on similarity:\n",
      "\n",
      "1. \"S’hydrater régulièrement aide le corps à bien fonctionner et prévent la fatigue.\" - This is identical in intent and content to the project's statement about water intake.\n",
      "2. \"Une alimentation équilibrée contribue aussi à améliorer l’énergie et la concentration.\" - This seems related but focuses on diet, which isn't directly about hydration or health aspects mentioned in the project.\n",
      "3. \"Le volcan est entré en éruption soudainely, couvrant le ciel de cendres.\" - This is completely unrelated to the project's topic.\n",
      "\n",
      "So, I think this makes sense. The third text is a complete stranger to the issue of water health, while the second is somewhat related but on a different topic.\n",
      "</think>\n",
      "\n",
      "1. \"S’hydrater régulièrement aide le Corps à bien fonctionner et prévent la fatigue.\"  \n",
      "2. \"Une alimentation équilibrée contribue aussi à améliorer l’énergie et la concentration.,\"  \n",
      "3. \"Le volcan est entré en éruption soudainely, couvrant le ciel de cendres.\"\n"
     ]
    }
   ],
   "source": [
    "test_input = chain.invoke({\n",
    "    \"target_project\":\"Il est important de boire suffisamment d’eau chaque jour pour rester en bonne santé.\",\n",
    "    \"desc_1\":\"Une alimentation équilibrée contribue aussi à améliorer l’énergie et la concentration.\",\n",
    "    \"desc_2\":\"Le volcan est entré en éruption soudainement, couvrant le ciel de cendres.\",\n",
    "    \"desc_3\":\"S’hydrater régulièrement aide le corps à bien fonctionner et prévient la fatigue.\"\n",
    "})\n",
    "\n",
    "print(test_input)"
   ]
  },
  {
   "cell_type": "markdown",
   "id": "92b8045c-b52f-4cda-a729-0f33910c0d6e",
   "metadata": {},
   "source": [
    "As we can see, the model can do the comparisons between short texts, it takes some time but it works, now we'll need to see how does it works on a context more similar to our context"
   ]
  },
  {
   "cell_type": "code",
   "execution_count": 7,
   "id": "86fe8e3c-ca23-4856-857e-afdc62bacd3c",
   "metadata": {},
   "outputs": [
    {
     "name": "stdout",
     "output_type": "stream",
     "text": [
      "Index(['project_id', 'project_name', 'description', 'category', 'cost',\n",
      "       'district', 'votes', 'title_length', 'description_length',\n",
      "       'agg_district_code', 'agg_quartiers', 'src_district_code', 'approved',\n",
      "       'approved_binary'],\n",
      "      dtype='object')\n"
     ]
    }
   ],
   "source": [
    "print(aggregatedProjectsDF.columns)"
   ]
  },
  {
   "cell_type": "markdown",
   "id": "16d0962c-1224-4806-b1c2-996a5247bdd1",
   "metadata": {},
   "source": [
    "We are going to apply this analysis district by district and check the outputted results.  \n",
    "Info on how to format the output https://ollama.com/blog/structured-outputs\n",
    "**Ollama documentation**  \n",
    "https://github.com/ollama/ollama/blob/main/docs/api.md  \n",
    "https://github.com/ollama/ollama-python  \n",
    "https://github.com/ollama/ollama/blob/main/docs/api.md#generate-a-chat-completion  \n",
    "https://github.com/ollama/ollama/blob/main/docs/modelfile.md#valid-parameters-and-values"
   ]
  },
  {
   "cell_type": "code",
   "execution_count": 8,
   "id": "b027d3a2-2667-49de-b4af-dd698e682539",
   "metadata": {},
   "outputs": [],
   "source": [
    "class PairResponseFormatter(BaseModel):\n",
    "    target_project: int = Field(description=\"ID of the project of reference that is being used to compare to other projects\")\n",
    "    similar_project: int = Field(description=\"The id of the most similar project related to the target project\")\n",
    "\n",
    "class ResponseFormatter(BaseModel):\n",
    "    target_project: int = Field(description=\"ID of the project of reference that is being used to compare to other projects\")\n",
    "    ranked_similar_projects: list[int] = Field(description=\"The id's of similar projects ranked by their similarity from the most similar to the least similar\")\n",
    "    # ranked_similar_projects_score: list[float] = Field(description=\"the score of the similarity between projects ranked by their similarity from the most similar to the least similar\")\n",
    "\n",
    "\n",
    "class DetailedResponseFormatter(BaseModel):\n",
    "    target_project: int = Field(description=\"ID of the project of reference that is being used to compare to other projects\")\n",
    "    ranked_similar_projects: dict[str,float] = Field(description=\"A dictionary where the key is the project ID and the value is the score of similarity between the projects\")"
   ]
  },
  {
   "cell_type": "code",
   "execution_count": 9,
   "id": "eea8d6b9-4e29-4dfd-892b-1d6ee818281f",
   "metadata": {
    "scrolled": true
   },
   "outputs": [],
   "source": [
    "# response = chat(\n",
    "#     messages = [\n",
    "#         {\n",
    "#             'role': 'user',\n",
    "#             'content': \"\"\"\n",
    "#     Given this target project description in french: \n",
    "#     target_project : {\"id\": 1, \"description\": \"Développement d'une application mobile pour la gestion des tâches personnelles avec rappels et synchronisation cloud.\"}\n",
    "\n",
    "#     Compare the given description to this other descriptions, formatted in a json format and give me the ID of the project that is\n",
    "#     the most similar one to the target_project. Consider only similarity between descriptions\n",
    "\n",
    "#     Other descriptions:\n",
    "#     [\n",
    "#         {\"id\": 4, \"description\": \"Création d'une application mobile de gestion des tâches personnelles, intégrant rappels automatiques et synchronisation entre appareils.\"},\n",
    "#         {\"id\": 3, \"description\": \"Mise en place d'un système web pour la gestion de projets collaboratifs avec calendrier partagé.\"},\n",
    "#         {\"id\": 2, \"description\": \"Développement d'un jeu vidéo éducatif pour enfants en bas âge, avec des animations interactives.\"}\n",
    "#     ]\n",
    "\n",
    "#     Respond with the id of the target project, a list of id's of the similar projects ranked by their similarity ordered by the most similar to the least similar\n",
    "#     and include in the project list even the projects that are not related at all\n",
    "#     \"\"\"\n",
    "#         }\n",
    "#     ],\n",
    "#     model='deepseek-r1:1.5b',\n",
    "#     format = ResponseFormatter.model_json_schema(),\n",
    "# )\n",
    "\n",
    "# test_pair = ResponseFormatter.model_validate_json(response.message.content)\n",
    "# print(test_pair)"
   ]
  },
  {
   "cell_type": "markdown",
   "id": "97183d1e-020d-4848-82b1-bc8debfbf604",
   "metadata": {},
   "source": [
    "**Now that twe can use the LLM to process the similarity between projects and output that relation in a structured format using a custom prompt, we nee to find a way to compute the overlapping of projects voters**"
   ]
  },
  {
   "cell_type": "code",
   "execution_count": 10,
   "id": "b56127fa-ae91-48ad-add0-f1cb5808a2b5",
   "metadata": {},
   "outputs": [],
   "source": [
    "def compute_voter_overlap(target_project_id:int, compared_project_id:int, election_details_dataset) -> float:\n",
    "    result = {\n",
    "        \"overlapping_voters\":[],\n",
    "        \"overlap_percentage_target_project\":0,\n",
    "        \"overlap_percentage_compared_project\":0\n",
    "    }\n",
    "    \n",
    "    ##Get the voters per project\n",
    "    target_project_votes = election_details_dataset[election_details_dataset['project_id']==target_project_id]\n",
    "    compared_project_votes = election_details_dataset[election_details_dataset['project_id']==compared_project_id]\n",
    "\n",
    "\n",
    "    ###Get a list of voters ID's that voted for that same project\n",
    "    target_project_voters = target_project_votes['ID'].unique().tolist()\n",
    "    compared_project_voters = compared_project_votes['ID'].unique().tolist()\n",
    "\n",
    "    ##Calculate the overlapping percentage\n",
    "    overlap_set = list(set(target_project_voters) & set(compared_project_voters))\n",
    "\n",
    "    result[\"overlapping_voters\"] = overlap_set\n",
    "    result[\"overlap_percentage_target_project\"]= len(overlap_set)/len(target_project_voters)\n",
    "    result[\"overlap_percentage_compared_project\"]= len(overlap_set)/len(compared_project_voters)    \n",
    "\n",
    "    return result\n",
    "    "
   ]
  },
  {
   "cell_type": "code",
   "execution_count": 11,
   "id": "ca397c13-420f-4791-a112-8c2981e28778",
   "metadata": {},
   "outputs": [
    {
     "data": {
      "text/plain": [
       "{'overlapping_voters': [2465,\n",
       "  3425,\n",
       "  2533,\n",
       "  4519,\n",
       "  2408,\n",
       "  3401,\n",
       "  2139,\n",
       "  555,\n",
       "  3373,\n",
       "  3118,\n",
       "  558,\n",
       "  1491,\n",
       "  1749,\n",
       "  1401,\n",
       "  4539],\n",
       " 'overlap_percentage_target_project': 0.15625,\n",
       " 'overlap_percentage_compared_project': 0.38461538461538464}"
      ]
     },
     "execution_count": 11,
     "metadata": {},
     "output_type": "execute_result"
    }
   ],
   "source": [
    "compute_voter_overlap(52, 51, electionDetails)"
   ]
  },
  {
   "cell_type": "code",
   "execution_count": 89,
   "id": "bfce6b03-f0aa-4232-9f94-cceba9a6bd82",
   "metadata": {},
   "outputs": [
    {
     "name": "stdout",
     "output_type": "stream",
     "text": [
      "Winning projects\n",
      "      project_id                                       project_name  votes\n",
      "34          156  Aménager le Rond-Point des Français Libres et ...    178\n",
      "128         157  Plantation d'arbres et diversification de la p...    128\n",
      "149         153                Réduction de la pollution lumineuse    113\n",
      "58          155              Lutter contre la pollution des mégots     63\n",
      "3           149  Un jardin en mouvement le long de la voie ferr...     50\n",
      "Loosing projects\n",
      "      project_id                                       project_name  votes\n",
      "165         151                     Aménager la place Henri Russel     98\n",
      "144         150           Coup de pinceau sur le béton du quartier     56\n",
      "99          154                         Nichoirs pour des mésanges     44\n",
      "159         148             Plan du voisinage aux sorties de métro     24\n",
      "187         152  Aire de jeux accessible à tous au jardin du Pa...     14\n"
     ]
    }
   ],
   "source": [
    "district_projects = aggregatedProjectsDF[aggregatedProjectsDF['src_district_code'] == 5.3].copy()\n",
    "district_winning_projects = district_projects[district_projects['approved_binary']==1]\n",
    "district_losing_projects = district_projects[district_projects['approved_binary']==0]\n",
    "print(\"Winning projects\\n\",district_winning_projects[['project_id','project_name', 'votes']].sort_values(by='votes', ascending=False))\n",
    "print(\"Loosing projects\\n\", district_losing_projects[['project_id','project_name', 'votes']].sort_values(by='votes', ascending=False))"
   ]
  },
  {
   "cell_type": "markdown",
   "id": "9578e56a-b952-4248-b76b-f53c3ab80b53",
   "metadata": {},
   "source": [
    "#### Given the objective of this study, the proof of concept of this pipeline is going to go over three cases\n",
    "\n",
    "1. **Cloned projects** - Two projects that are very similar (similar description) - They share (ideally) no voter overlap -> Possible projects: (28,27), (51, 52), (95, 92), (151[98 votes], 156[178 votes])**\n",
    "2. **The project with a very low vote count** - Compare that project with a project that was approved -> Possible projects: (176 [2 votes], 169 [189 votes]),(178 [2 votes], 182 [33 votes]), (50 [2 votes], 44 [33 votes])\n",
    "3. **Two distinct projects**, one passed and the other one didn't and they overlap in voting intention (the same people that voted for project A also voted for project B but only project B was accepted) -> Possible projects: (95, 91), (103,102), (109,110), (122,125), (151, 156)**\n",
    "\n",
    "*The pairs are the project id's*  \n",
    "**This pairing fits in more than one case"
   ]
  },
  {
   "cell_type": "code",
   "execution_count": 90,
   "id": "c09d6e03-ffe0-438a-afbb-96a55c371ecf",
   "metadata": {},
   "outputs": [],
   "source": [
    "test_project_description = district_losing_projects[district_losing_projects['project_id']==151]\n",
    "# print(test_project_description)\n",
    "target_project = {\"id\":test_project_description.iloc[0]['project_id'].item(), \"description\":test_project_description.iloc[0]['description']}\n",
    "# print(case_1_test_project_description['project_name'])\n",
    "# print(len(district15_losing_projects.index))\n",
    "winning_projects = []\n",
    "for index, row in district_winning_projects.iterrows():\n",
    "    project = {\"id\":row['project_id'], \"description\":row['description']}\n",
    "    winning_projects.append(project)"
   ]
  },
  {
   "cell_type": "code",
   "execution_count": 91,
   "id": "c379a12a-e5e3-44cf-a707-42ee6aa63f51",
   "metadata": {},
   "outputs": [],
   "source": [
    "similarity_template_en = f\"\"\"\n",
    "    You are given a target project description written in French:\n",
    "\n",
    "target_project:\n",
    "{target_project}\n",
    "\n",
    "You are also given a list of other project descriptions in JSON format, each with an associated ID:\n",
    "\n",
    "{winning_projects}\n",
    "\n",
    "Your task is to compare the semantic content of the target project description to each of the other descriptions. Determine which projects are most similar based **only on the semantic similarity between the descriptions** (ignore any metadata, IDs, or structure beyond the text content).\n",
    "\n",
    "Return a ranked list of all the project IDs, from most similar to least similar. Include all projects, even those that are not semantically related.\n",
    "\n",
    "(Optional Example to guide behavior):\n",
    "\n",
    "Example:\n",
    "Target: {{\"id\": \"p4\", \"description\":\"La construction d'une école primaire écologique en région rurale.\"}}\n",
    "Other projects:\n",
    "[\n",
    "  {{\"id\": \"p1\", \"description\": \"Création d'un centre médical.\"}},\n",
    "  {{\"id\": \"p2\", \"description\": \"Construction d'un bâtiment scolaire pour 500 élèves.\"}},\n",
    "  {{\"id\": \"p3\", \"description\": \"Aménagement d’un parc de loisirs.\"}}\n",
    "]\n",
    "Most similar to least similar:\n",
    "p2, p1, p3\n",
    "\"\"\""
   ]
  },
  {
   "cell_type": "code",
   "execution_count": 92,
   "id": "beddc5a2-09f5-47f8-ba8b-4013e5ed2e6e",
   "metadata": {},
   "outputs": [
    {
     "name": "stdout",
     "output_type": "stream",
     "text": [
      "\n",
      "    You are given a target project description written in French:\n",
      "\n",
      "target_project:\n",
      "{'id': 151, 'description': \"La place Henri Russel est aujourd'hui entièrement minérale au sol, à l'exception des arbres qui l'entourent, elle est globalement délaissée par les habitants qui ne l'investissement pas. Son usage et sa conception doivent être repensés à l'instar de l'appel à idée qui est lancé. Proposition d'aménagement la concernant : - créer une barrière végétale qui l'isole de l'avenue Crampel - créer un espace de jeu pour enfant sur la thématique des 7 grottes d'Henri RusselModalités de réalisation - Avis technique : L'amélioration de la place Henri Russell sera envisagée comme cela :- Assurer l’accessibilité de la place et de ses traversées piétonnes;\\xa0- Végétalisation- Installations de davantage d’assises;\\xa0- Favoriser les déplacements modes doux en implantant des racks vélos et en déplaçant la station de station Vélô Toulouse;\\xa0- Conserver l’offre de stationnement;\\xa0- Mettre en valeur la fontaine Wallace;\\xa0- Aménagement d'une aire de jeux\"}\n",
      "\n",
      "You are also given a list of other project descriptions in JSON format, each with an associated ID:\n",
      "\n",
      "[{'id': 149, 'description': \"Pour accroitre la connaissance des citadins dans le fonctionnement des écosystèmes urbains, des plantes, des insectes... pourrait-on investir dans de nouvelles plantations la bande verte le long du rectorat et de la voie SNCF ? Les nouvelles plantations seraient composée : - de plantes annuelles/bianuelles semées (bleuet, centaurée, vesces, lotus, viperine, hypericum, knautia, chicorée, senecon, - des arbustes plantés : sureau, arbousier, figuier, chevrefeuilles... - des arbres plantés, semés, bouturés... - des installations artistique : pièges à graines, tresse de branches, rondins en décompositionPour que cet espace n'apparaissent pas abandonnée l'entretien des services techniques resterait similaire en temps passé mais orienté vers une recherche de diversité d'habitats, de gîtes et couverts. Une expérience animée par des relevés floristiques et faunistiques par les agents de la ville. Cet espace pourrait également accueillir les plantations des écoliers du quartier. Cette bande fait 250x13m de large, une belle opportunité !Modalités de réalisation - Avis technique :Création d’un jardin en mouvement sur l’impasse de la Charbonnière, sur la bande végétale longeant la foie ferrée. Le concept de jardin en mouvement s’inspire du principe de la friche, où les moyens d’entretiens sont tenus au strict minimum. L’objectif est de laisser les végétaux évoluer par eux-mêmes, en faveur de la biodiversité urbaine. Le site en question pourrait accueillir une vingtaine d’arbres supplémentaires (dont des arbres fruitiers), des arbustes (à fleurs et petits fruits), ainsi qu’une prairie fleurie naturelle de 1 000 m². Des actions en faveur de la biodiversité et pédagogiques pourraient également y être menées (fauches tardives, tas de bois pour créer des refuges à insectes, plantations participatives avec les écoles du quartier …).\"}, {'id': 156, 'description': \"1/ réduire la surface bitumée trop importante et végétaliser l'espace gagné 2/ améliorer le plan de circulation de ce carrefour (allée des Demoiselles - allées Mistral - avenue Frizac - rues St Joseph et Duméril) 3/ créer une piste cyclable depuis l'allée des Demoiselles vers la rue DumérilModalités de réalisation - Avis technique :Réaménagement du Rond Point des Français Libres et amélioration du carrefour Demoiselles-Mistral-Frizac-Duméril-Saint-Joseph : végétalisation, traitement des discontinuités cyclables et sécurisation accrue du carrefour.\"}, {'id': 155, 'description': \"En 2017, l’association Surfrider identifiait les mégots comme les principaux déchets plastiques retrouvés dans l’environnement, qu’il s’agisse des plages, des fonds marins, des rivières ou des lacs. Les mégots sont des déchets plastiques non biodégradables, le plus souvent en acétate de cellulose. Ils sont en revanche photodégradables ; la matière première finit donc par se diluer dans les eaux ou dans les sols. Selon l’INEPS (Institut National d’Éducation et de Prévention pour la Santé), on retrouve de l’acide cyanhydrique, du naphtalène, de la nicotine, de l’ammoniac, du cadmium, de l’arsenic, du mercure et même du plomb parmi les nombreuses substances toxiques. A savoir que la nicotine est utilisée comme insecticide depuis le XVème siècle ! Aujourd’hui encore, on l’emploie en tant que pesticide aux Etats-Unis, au Canada et en Europe de manière très encadrée à cause de sa toxicité sur la biodiversité aquatique (en effet, la molécule est très soluble dans l’eau). Selon une étude, menée par l’université d’État de San Diego en 2011 sur des poissons marins et d’eau douce, un seul mégot suffit à décimer la moitié de cette population de poisson. Les micro-organismes aquatiques sont également touchés : certains sont incapables de se reproduire et d’autres sont complètement paralysés après une exposition prolongée. De plus, les animaux marins peuvent ingérer les mégots, ce qui peut entraîner leur mort ou leur sous-nutrition en provoquant un faux sentiment de satiété (puisque les animaux ne régurgitent pas forcément cet élément). Ces essais écotoxicologiques conduisent à attribuer aux mégots « la propriété de danger HP 14 écotoxique », c’est-à-dire des déchets qui présentent ou peuvent présenter des risques immédiats ou différés pour une ou plusieurs composantes de l’environnement. A Toulouse, les mégots sont nombreux à être jetés par terre chaque année (pour donner une idée, dans la métropole bordelaise ils sont évalués à 200 millions). Or les eaux usées sont acheminées vers les stations d’épuration de la métropole tandis que les eaux pluviales elles sont dirigées vers le milieu naturel tel que la Garonne. Ce qui fait que les mégots y finissent directement, libérant au bout d’1 heure leurs composants chimiques dans l’eau qui l’entraine et la polluant ainsi avec 2500 substances nocives. Pour lutter contre ce problème nous pourrions : 1/ éduquer et sensibiliser le grand public notamment en mettant en place une campagne de communication permanente qui vise à informer les habitants du devenir des eaux pluviales et à l’impact sur le milieu naturel des déchets jetés dans les réseaux d’assainissement à l’image de ce qui a été fait à Bordeaux 2/ équiper les bouches d’égout de collecteurs de déchets : le principe consisterait à installer un système de bac grillagé amovible qui permettrait la retenue puis la collecte des déchets piégés par ce filtre évitant ainsi leur chute dans l’égout et leur entrainement jusqu’à la Garonne 3/ contractualiser un partenariat, développer une solution complète et innovante de sensibilisation, de collecte et de recyclage des mégots. Cela pourrait être sous forme d’une expérimentation dans des zones ciblées dans un premier temps (grosses zones fumeurs telles qu’aéroport, gares, cinémas, établissements scolaires types lycées écoles et facultés, regroupements de bars …) qui pourrait être généralisée ensuite si l’expérimentation est concluante. Nous pourrions commencer par traiter l'axe entre la Place Lafourcade et la Gare Saint Agne en passant par le Metro Saint Michel.Modalités de réalisation - Avis technique :Pour la lutte contre la pollution aux jets de mégots des eaux fluviales, l'opération suivante peut être réalisée :\\xa0L'installation de filets filtrants sur les exutoires pluviaux de la Garonne, permettant de récupérer les détritus polluants en amont.\\xa0En outre, la demande formulée s'inscrit dans la démarche globale de lutte contre les jets de mégots dans le cadre de la politique de propreté urbaine de Toulouse Métropole. Les actions de lutte contre les jets de mégots seront renforcés entre 2023 et 2026 avec la mise en place de la Responsabilité Elargie des Producteurs de tabac.\"}, {'id': 157, 'description': 'La rue Saint Roch présente un gabarit de voie variable sans d\\'ombrage. Une trame verte apporterait un ombrage appréciable et un cadre de vie plus harmonieux. Il semblerait possible de planter quelques arbres remarquables selon les opportunités et de diversifier la palette végétale du quartier. - La plantation d\\'arbres à fleurs de type Paulwnia apporterait un contraste avec les très grands arbres de l\\'avenue de l\\'URSS. (\"arbre impérial\", est un arbre originaire du centre de la Chine. Sa croissance est rapide mais il ne dépasse pas 10 à 12 mètres de hauteur (il est ainsi adapté aux petits jardins), et son port étalé est très élégant.) - La plantations de plantes vivaces aux pieds des massifs arbustifs serait une réponse à la recherche de biodiversité et d\\'habitat fertile. Le massif situé en façade nord, pourrait être enrichi par quelques arbustes hauts/petits arbres de type Sureaux.Modalités de réalisation - Avis technique :Végétalisation de la rue Saint Roch par la biais de plantation d\\'arbres. Des plantes vivaces seront plantées aux pieds des arbres afin de fournir un habitat fertile à la biodiversité urbaine. La proposition d\\'y planter des essences de Paulownia, ayant une forte valeur environnementale et esthétique, n’est pas adapté au profil de cette rue. Des essences de type “Poirier de Chine”, “Alisier Blanc” ou “Orme de Lutèce “ répondraient plus adéquatement à la question de végétalisation de cette voie (sous réserve de la compatibilité avec les réseaux enterrés).A noter qu\\'un tel projet de végétalisation aura un impact sur l\\'offre de stationnement sur voirie, qu\\'il conviendra d\\'évaluer avant la mise en œuvre.'}, {'id': 153, 'description': \"A l'instar du nouvel éclairage de la place du Busca et de l'avenue Frizac, équiper les rues du quartier aboutissant à la place du Busca de luminaires led éclairant uniquement vers le sol., contrairement aux lampadaires actuels qui éclairent violemment les façades provoquant inconfort pour les riverains et pollution lumineuse. Ceci présenterait le double avantage de réduire la consommation électrique et la pollution lumineuse. A terme un plan global de réduction de la pollution lumineuse à l'échelle de la métropole serait souhaitable. Toulouse, berceau du CNES doit pouvoir retrouver ses étoiles.Modalités de réalisation - Avis technique :Equiper les lampadaires du Busca le long du Canal du Midi de détecteurs de forme. La détection de forme permet de maîtriser les couts d’exploitation de l’éclairage en apportant la lumière uniquement en cas d’usage avéré de l’espace public. Il s'agit de détecter la présence de mouvements humains la nuit. Les lampadaires ne fonctionneraient qu’à 20% de leur puissance, sauf quand ils détectent une personne.\"}]\n",
      "\n",
      "Your task is to compare the semantic content of the target project description to each of the other descriptions. Determine which projects are most similar based **only on the semantic similarity between the descriptions** (ignore any metadata, IDs, or structure beyond the text content).\n",
      "\n",
      "Return a ranked list of all the project IDs, from most similar to least similar. Include all projects, even those that are not semantically related.\n",
      "\n",
      "(Optional Example to guide behavior):\n",
      "\n",
      "Example:\n",
      "Target: {\"id\": \"p4\", \"description\":\"La construction d'une école primaire écologique en région rurale.\"}\n",
      "Other projects:\n",
      "[\n",
      "  {\"id\": \"p1\", \"description\": \"Création d'un centre médical.\"},\n",
      "  {\"id\": \"p2\", \"description\": \"Construction d'un bâtiment scolaire pour 500 élèves.\"},\n",
      "  {\"id\": \"p3\", \"description\": \"Aménagement d’un parc de loisirs.\"}\n",
      "]\n",
      "Most similar to least similar:\n",
      "p2, p1, p3\n",
      "\n"
     ]
    }
   ],
   "source": [
    "print(similarity_template_en)"
   ]
  },
  {
   "cell_type": "code",
   "execution_count": 78,
   "id": "f76dd953-cba5-40c4-8ad8-e18e916ce891",
   "metadata": {},
   "outputs": [
    {
     "name": "stdout",
     "output_type": "stream",
     "text": [
      "target_project=28 ranked_similar_projects=[25, 29, 27, 20, 24, 19, 16, 17, 18, 14, 3, 15, 11, 10, 12, 13, 21, 23, 22, 26, 27, 25, 26, 27, 28, 29, 24, 20, 19, 16, 17, 18, 14, 13, 12, 11, 10, 9, 8, 7, 6, 5, 4, 3, 2, 1]\n"
     ]
    }
   ],
   "source": [
    "similarity_response = chat(\n",
    "    messages = [\n",
    "        {\n",
    "            'role': 'user',\n",
    "            'content': similarity_template_en\n",
    "        }\n",
    "    ],\n",
    "    model='deepseek-r1:1.5b',\n",
    "    format = ResponseFormatter.model_json_schema(),\n",
    ")\n",
    "\n",
    "similarity_response = ResponseFormatter.model_validate_json(similarity_response.message.content)\n",
    "print(similarity_response)"
   ]
  },
  {
   "cell_type": "markdown",
   "id": "04272b5e-39f5-4ea7-84ed-581d607775ba",
   "metadata": {},
   "source": [
    "**CASE 3-Overlapping voters case**"
   ]
  },
  {
   "cell_type": "code",
   "execution_count": 57,
   "id": "adc9d36a-8543-407d-a426-5fd34534c63e",
   "metadata": {},
   "outputs": [
    {
     "name": "stdout",
     "output_type": "stream",
     "text": [
      "CASE 3 Winning projects\n",
      "      project_id                                       project_name  votes\n",
      "34          156  Aménager le Rond-Point des Français Libres et ...    178\n",
      "128         157  Plantation d'arbres et diversification de la p...    128\n",
      "149         153                Réduction de la pollution lumineuse    113\n",
      "58          155              Lutter contre la pollution des mégots     63\n",
      "3           149  Un jardin en mouvement le long de la voie ferr...     50\n",
      "CASE 3 Loosing projects\n",
      "      project_id                                       project_name  votes\n",
      "165         151                     Aménager la place Henri Russel     98\n",
      "144         150           Coup de pinceau sur le béton du quartier     56\n",
      "99          154                         Nichoirs pour des mésanges     44\n",
      "159         148             Plan du voisinage aux sorties de métro     24\n",
      "187         152  Aire de jeux accessible à tous au jardin du Pa...     14\n"
     ]
    }
   ],
   "source": [
    "case_3_district_projects = aggregatedProjectsDF[aggregatedProjectsDF['src_district_code'] == 5.3].copy()\n",
    "case_3_district_winning_projects = case_3_district_projects[case_3_district_projects['approved_binary']==1]\n",
    "case_3_district_losing_projects = case_3_district_projects[case_3_district_projects['approved_binary']==0]\n",
    "print(\"CASE 3 Winning projects\\n\",case_3_district_winning_projects[['project_id','project_name', 'votes']].sort_values(by='votes', ascending=False))\n",
    "print(\"CASE 3 Loosing projects\\n\", case_3_district_losing_projects[['project_id','project_name', 'votes']].sort_values(by='votes', ascending=False))\n"
   ]
  },
  {
   "cell_type": "code",
   "execution_count": 58,
   "id": "c9af386c-872f-47a1-9590-17f08ca5f4fe",
   "metadata": {},
   "outputs": [
    {
     "name": "stdout",
     "output_type": "stream",
     "text": [
      "target project->151 | project_compared_to->149 | overlapping_score_to_target->0.061224489795918366\n",
      "Overlapping voters\n",
      "[4896, 5101, 4913, 1782, 4759, 5017] \n",
      "\n",
      "target project->151 | project_compared_to->156 | overlapping_score_to_target->0.6632653061224489\n",
      "Overlapping voters\n",
      "[4491, 1037, 4750, 1805, 2576, 1681, 18, 5008, 1301, 2711, 1434, 2716, 2720, 2721, 3874, 4900, 1063, 4906, 813, 1327, 1842, 4147, 3636, 2742, 1591, 4406, 2617, 1335, 2871, 5050, 1597, 2749, 4028, 2499, 2756, 4422, 3912, 715, 77, 2893, 3534, 4049, 5075, 1493, 2902, 2776, 2777, 4186, 5083, 3934, 3170, 4195, 4837, 615, 1129, 3309, 5101, 2416, 3697, 4594, 4979, 2804, 2807, 2043, 893] \n",
      "\n",
      "target project->151 | project_compared_to->155 | overlapping_score_to_target->0.061224489795918366\n",
      "Overlapping voters\n",
      "[165, 4841, 3309, 2871, 4889, 4186] \n",
      "\n",
      "target project->151 | project_compared_to->157 | overlapping_score_to_target->0.19387755102040816\n",
      "Overlapping voters\n",
      "[1681, 4759, 3352, 2716, 1951, 2721, 3874, 4900, 813, 4913, 2756, 4422, 4960, 4195, 615, 4466, 4979, 2807, 4474] \n",
      "\n",
      "target project->151 | project_compared_to->153 | overlapping_score_to_target->0.11224489795918367\n",
      "Overlapping voters\n",
      "[100, 3912, 4491, 1037, 4750, 5232, 5075, 2711, 2617, 1434, 2043] \n",
      "\n"
     ]
    }
   ],
   "source": [
    "case_3_target_project_id = 151\n",
    "\n",
    "for index, row in case_3_district_winning_projects.iterrows():\n",
    "    result = compute_voter_overlap(case_3_target_project_id, row['project_id'], electionDetails)\n",
    "    print(f\"target project->{case_3_target_project_id} | project_compared_to->{row['project_id']} | overlapping_score_to_target->{result['overlap_percentage_target_project']}\")\n",
    "    print(\"Overlapping voters\")\n",
    "    print(result['overlapping_voters'],\"\\n\")"
   ]
  },
  {
   "cell_type": "code",
   "execution_count": null,
   "id": "13b54182-bd90-4e57-9cdd-f0deee2e8e04",
   "metadata": {},
   "outputs": [],
   "source": []
  }
 ],
 "metadata": {
  "kernelspec": {
   "display_name": "Python 3 (ipykernel)",
   "language": "python",
   "name": "python3"
  },
  "language_info": {
   "codemirror_mode": {
    "name": "ipython",
    "version": 3
   },
   "file_extension": ".py",
   "mimetype": "text/x-python",
   "name": "python",
   "nbconvert_exporter": "python",
   "pygments_lexer": "ipython3",
   "version": "3.12.3"
  }
 },
 "nbformat": 4,
 "nbformat_minor": 5
}
