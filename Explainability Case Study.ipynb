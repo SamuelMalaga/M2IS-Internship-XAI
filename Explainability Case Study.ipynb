{
 "cells": [
  {
   "cell_type": "code",
   "execution_count": 1,
   "id": "7962acb2-71e7-430f-a864-5f42bdbf2c13",
   "metadata": {},
   "outputs": [],
   "source": [
    "from ollama import chat\n",
    "from langchain_ollama import OllamaLLM\n",
    "from langchain_core.prompts import ChatPromptTemplate\n",
    "from pydantic import BaseModel, Field\n",
    "import pandas as pd\n",
    "from sentence_transformers import SentenceTransformer\n",
    "import torch\n"
   ]
  },
  {
   "cell_type": "markdown",
   "id": "8911d36b-16a6-414c-a008-a1b9e9d5d55d",
   "metadata": {},
   "source": [
    "**Importing the model and the dataset**"
   ]
  },
  {
   "cell_type": "code",
   "execution_count": 2,
   "id": "6668ff21-0c4a-4f19-b3d0-4cb9a2890f0d",
   "metadata": {},
   "outputs": [],
   "source": [
    "model = OllamaLLM(model=\"deepseek-r1:1.5b\")"
   ]
  },
  {
   "cell_type": "code",
   "execution_count": 3,
   "id": "855a5414-985a-440d-9931-3dc725030e6f",
   "metadata": {},
   "outputs": [],
   "source": [
    "aggregatedProjectsDF = pd.read_csv('projectsAggWResults.csv',sep=\",\")\n",
    "aggregatedProjectsDF = aggregatedProjectsDF.drop('Unnamed: 0',axis=1)\n",
    "aggregatedProjectsDF[['description','avis_technique']] = aggregatedProjectsDF['description'].str.split('Modalités de réalisation - Avis technique :', expand=True)\n",
    "electionDetails = pd.read_csv('projectDetails.csv',sep=\";\")"
   ]
  },
  {
   "cell_type": "markdown",
   "id": "8162fc6c-3e71-4e1b-a90a-c24660c4de52",
   "metadata": {},
   "source": [
    "Testing the similarity analysis"
   ]
  },
  {
   "cell_type": "code",
   "execution_count": 4,
   "id": "b3b7a696-34ee-4faf-9ff7-44b0807ddcdc",
   "metadata": {},
   "outputs": [],
   "source": [
    "test_template_en = \"\"\"\n",
    "    Given this short project description: {target_project}\n",
    "\n",
    "    Compare the description given with the following texts as rank them in order of similarity\n",
    "    to the given descriptions and organize them from the most similar to the least similar:\n",
    "    1-{desc_1},\n",
    "    2-{desc_2},\n",
    "    3-{desc_3}\n",
    "\n",
    "\"\"\""
   ]
  },
  {
   "cell_type": "code",
   "execution_count": 5,
   "id": "14574d31-feab-4a28-ae71-106a288d5659",
   "metadata": {},
   "outputs": [],
   "source": [
    "prompt_en = ChatPromptTemplate.from_template(test_template_en)\n",
    "chain = prompt_en | model\n"
   ]
  },
  {
   "cell_type": "code",
   "execution_count": 6,
   "id": "5065c8cb-1029-4569-a575-83583f6b4399",
   "metadata": {},
   "outputs": [
    {
     "name": "stdout",
     "output_type": "stream",
     "text": [
      "<think>\n",
      "Okay, so I need to figure out how to rank these three texts based on their similarity to the given project description about sufficient daily water intake. Let me start by understanding each part of the problem.\n",
      "\n",
      "First, the user provided a short project description: \"Il est important de boire suffisamment d’eau chaque jour pour rester en bonne santé.\" This translates to \"It is important to drink enough water every day to stay in good health.\"\n",
      "\n",
      "Then, there are three texts that need comparison. Let me read each one carefully.\n",
      "\n",
      "1. Une alimentation équilibrée contribue aussi à améliorer l’énergie et la concentration.,\n",
      "2. Le volcan est entré en éruption soudainement, couvrant le ciel de cendres.,\n",
      "3. S’hydrater régulièrement aide le corps à bien fonctionner et prévient la fatigue.\n",
      "\n",
      "I need to compare each of these texts with the project description and rank them from most similar to least similar.\n",
      "\n",
      "Starting with the first text: \"Une alimentation équilibrée contribue aussi à améliorer l’énergie et la concentration.\" This is about balancing nutrition, which relates to energy and concentration. The project description also touches on sufficient water intake for health. So both are discussing different aspects of diet but related to overall well-being.\n",
      "\n",
      "The second text: \"Le volcan est entré en éruption soudainement, couvrant le ciel de cendres.\" This is about a volcanic eruption covering the sky with cinders. It seems unrelated to water intake or health. The project description doesn't mention anything about nature or natural phenomena affecting health.\n",
      "\n",
      "The third text: \"S’hydrater régulièrement aide le corps à bien fonctionner et prévient la fatigue.\" This directly mentions hydration regularly helping the body function well and preventing fatigue. This is very similar to the project description, which talks about sufficient water intake for good health.\n",
      "\n",
      "So, comparing all three:\n",
      "\n",
      "1. The first text discusses diet balance affecting energy and concentration but not directly related to water.\n",
      "2. The second text is about a natural event unrelated to health or water.\n",
      "3. The third text is exactly like the project description, focusing on hydration for health.\n",
      "\n",
      "Therefore, the order from most similar to least similar would be:\n",
      "\n",
      "1 (first text) > 3 (third text) > 2 (second text).\n",
      "</think>\n",
      "\n",
      "The texts are ranked as follows based on their similarity to the given project description:\n",
      "\n",
      "1. Une alimentation équilibrée contribue aussi à améliorer l’énergie et la concentration.,  \n",
      "3. S’hydrater régulièrement aide le corps à bien fonctionner et prévient la fatigue.,  \n",
      "2. Le volcan est entré en éruption soudainement, couvrant le ciel de cendres.,  \n",
      "\n",
      "**Ranking:** 1 > 3 > 2\n"
     ]
    }
   ],
   "source": [
    "test_input = chain.invoke({\n",
    "    \"target_project\":\"Il est important de boire suffisamment d’eau chaque jour pour rester en bonne santé.\",\n",
    "    \"desc_1\":\"Une alimentation équilibrée contribue aussi à améliorer l’énergie et la concentration.\",\n",
    "    \"desc_2\":\"Le volcan est entré en éruption soudainement, couvrant le ciel de cendres.\",\n",
    "    \"desc_3\":\"S’hydrater régulièrement aide le corps à bien fonctionner et prévient la fatigue.\"\n",
    "})\n",
    "\n",
    "print(test_input)"
   ]
  },
  {
   "cell_type": "markdown",
   "id": "92b8045c-b52f-4cda-a729-0f33910c0d6e",
   "metadata": {},
   "source": [
    "As we can see, the model can do the comparisons between short texts, it takes some time but it works, now we'll need to see how does it works on a context more similar to our context"
   ]
  },
  {
   "cell_type": "code",
   "execution_count": 7,
   "id": "86fe8e3c-ca23-4856-857e-afdc62bacd3c",
   "metadata": {},
   "outputs": [
    {
     "name": "stdout",
     "output_type": "stream",
     "text": [
      "Index(['project_id', 'project_name', 'description', 'category', 'cost',\n",
      "       'district', 'votes', 'title_length', 'description_length',\n",
      "       'agg_district_code', 'agg_quartiers', 'src_district_code', 'approved',\n",
      "       'approved_binary', 'avis_technique'],\n",
      "      dtype='object')\n"
     ]
    }
   ],
   "source": [
    "print(aggregatedProjectsDF.columns)"
   ]
  },
  {
   "cell_type": "markdown",
   "id": "16d0962c-1224-4806-b1c2-996a5247bdd1",
   "metadata": {},
   "source": [
    "We are going to apply this analysis district by district and check the outputted results.  \n",
    "Info on how to format the output https://ollama.com/blog/structured-outputs\n",
    "**Ollama documentation**  \n",
    "https://github.com/ollama/ollama/blob/main/docs/api.md  \n",
    "https://github.com/ollama/ollama-python  \n",
    "https://github.com/ollama/ollama/blob/main/docs/api.md#generate-a-chat-completion  \n",
    "https://github.com/ollama/ollama/blob/main/docs/modelfile.md#valid-parameters-and-values"
   ]
  },
  {
   "cell_type": "code",
   "execution_count": 8,
   "id": "b027d3a2-2667-49de-b4af-dd698e682539",
   "metadata": {},
   "outputs": [],
   "source": [
    "class PairResponseFormatter(BaseModel):\n",
    "    target_project: int = Field(description=\"ID of the project of reference that is being used to compare to other projects\")\n",
    "    similar_project: int = Field(description=\"The id of the most similar project related to the target project\")\n",
    "\n",
    "class ResponseFormatter(BaseModel):\n",
    "    target_project: int = Field(description=\"ID of the project of reference that is being used to compare to other projects\")\n",
    "    ranked_similar_projects: list[int] = Field(description=\"The id's of similar projects ranked by their similarity from the most similar to the least similar\")\n",
    "    # ranked_similar_projects_score: list[float] = Field(description=\"the score of the similarity between projects ranked by their similarity from the most similar to the least similar\")\n",
    "\n",
    "\n",
    "class DetailedResponseFormatter(BaseModel):\n",
    "    target_project: int = Field(description=\"ID of the project of reference that is being used to compare to other projects\")\n",
    "    ranked_similar_projects: dict[str,float] = Field(description=\"A dictionary where the key is the project ID and the value is the score of similarity between the projects\")"
   ]
  },
  {
   "cell_type": "code",
   "execution_count": 9,
   "id": "eea8d6b9-4e29-4dfd-892b-1d6ee818281f",
   "metadata": {
    "scrolled": true
   },
   "outputs": [],
   "source": [
    "# response = chat(\n",
    "#     messages = [\n",
    "#         {\n",
    "#             'role': 'user',\n",
    "#             'content': \"\"\"\n",
    "#     Given this target project description in french: \n",
    "#     target_project : {\"id\": 1, \"description\": \"Développement d'une application mobile pour la gestion des tâches personnelles avec rappels et synchronisation cloud.\"}\n",
    "\n",
    "#     Compare the given description to this other descriptions, formatted in a json format and give me the ID of the project that is\n",
    "#     the most similar one to the target_project. Consider only similarity between descriptions\n",
    "\n",
    "#     Other descriptions:\n",
    "#     [\n",
    "#         {\"id\": 4, \"description\": \"Création d'une application mobile de gestion des tâches personnelles, intégrant rappels automatiques et synchronisation entre appareils.\"},\n",
    "#         {\"id\": 3, \"description\": \"Mise en place d'un système web pour la gestion de projets collaboratifs avec calendrier partagé.\"},\n",
    "#         {\"id\": 2, \"description\": \"Développement d'un jeu vidéo éducatif pour enfants en bas âge, avec des animations interactives.\"}\n",
    "#     ]\n",
    "\n",
    "#     Respond with the id of the target project, a list of id's of the similar projects ranked by their similarity ordered by the most similar to the least similar\n",
    "#     and include in the project list even the projects that are not related at all\n",
    "#     \"\"\"\n",
    "#         }\n",
    "#     ],\n",
    "#     model='deepseek-r1:1.5b',\n",
    "#     format = ResponseFormatter.model_json_schema(),\n",
    "# )\n",
    "\n",
    "# test_pair = ResponseFormatter.model_validate_json(response.message.content)\n",
    "# print(test_pair)"
   ]
  },
  {
   "cell_type": "markdown",
   "id": "97183d1e-020d-4848-82b1-bc8debfbf604",
   "metadata": {},
   "source": [
    "**Now that twe can use the LLM to process the similarity between projects and output that relation in a structured format using a custom prompt, we nee to find a way to compute the overlapping of projects voters**"
   ]
  },
  {
   "cell_type": "code",
   "execution_count": 10,
   "id": "b56127fa-ae91-48ad-add0-f1cb5808a2b5",
   "metadata": {},
   "outputs": [],
   "source": [
    "def compute_voter_overlap(target_project_id:int, compared_project_id:int, election_details_dataset) -> float:\n",
    "    result = {\n",
    "        \"overlapping_voters\":[],\n",
    "        \"overlap_percentage_target_project\":0,\n",
    "        \"overlap_percentage_compared_project\":0\n",
    "    }\n",
    "    \n",
    "    ##Get the voters per project\n",
    "    target_project_votes = election_details_dataset[election_details_dataset['project_id']==target_project_id]\n",
    "    compared_project_votes = election_details_dataset[election_details_dataset['project_id']==compared_project_id]\n",
    "\n",
    "\n",
    "    ###Get a list of voters ID's that voted for that same project\n",
    "    target_project_voters = target_project_votes['ID'].unique().tolist()\n",
    "    compared_project_voters = compared_project_votes['ID'].unique().tolist()\n",
    "\n",
    "    ##Calculate the overlapping percentage\n",
    "    overlap_set = list(set(target_project_voters) & set(compared_project_voters))\n",
    "\n",
    "    result[\"overlapping_voters\"] = overlap_set\n",
    "    result[\"overlap_percentage_target_project\"]= len(overlap_set)/len(target_project_voters)\n",
    "    result[\"overlap_percentage_compared_project\"]= len(overlap_set)/len(compared_project_voters)    \n",
    "\n",
    "    return result\n",
    "    "
   ]
  },
  {
   "cell_type": "code",
   "execution_count": 11,
   "id": "ca397c13-420f-4791-a112-8c2981e28778",
   "metadata": {},
   "outputs": [
    {
     "data": {
      "text/plain": [
       "{'overlapping_voters': [2465,\n",
       "  3425,\n",
       "  2533,\n",
       "  4519,\n",
       "  2408,\n",
       "  3401,\n",
       "  2139,\n",
       "  555,\n",
       "  3373,\n",
       "  3118,\n",
       "  558,\n",
       "  1491,\n",
       "  1749,\n",
       "  1401,\n",
       "  4539],\n",
       " 'overlap_percentage_target_project': 0.15625,\n",
       " 'overlap_percentage_compared_project': 0.38461538461538464}"
      ]
     },
     "execution_count": 11,
     "metadata": {},
     "output_type": "execute_result"
    }
   ],
   "source": [
    "compute_voter_overlap(52, 51, electionDetails)"
   ]
  },
  {
   "cell_type": "code",
   "execution_count": 12,
   "id": "bfce6b03-f0aa-4232-9f94-cceba9a6bd82",
   "metadata": {},
   "outputs": [
    {
     "name": "stdout",
     "output_type": "stream",
     "text": [
      "Winning projects\n",
      "      project_id                                       project_name  votes\n",
      "158          91  Nichoirs à martinets et chauve souris + pièges...    111\n",
      "192          94  Installation de pièges à moustiques à Croix Da...     49\n",
      "91          201  Voilage d'ombres sur les jeux public de plein ...     34\n",
      "68           93                        Réduire la pollution sonore     33\n",
      "14           99                              L'ornemental fruitier     29\n",
      "194          98                               Equipements sportifs     26\n",
      "83           92  Végétaliser le parking du cimetière de Croix D...     21\n",
      "Loosing projects\n",
      "     project_id                                       project_name  votes\n",
      "12          97  Création d'un terrain de cécifoot (foot pour n...     16\n",
      "9           95  Végétalisation des murs extérieurs de l'école ...     10\n"
     ]
    }
   ],
   "source": [
    "district_projects = aggregatedProjectsDF[aggregatedProjectsDF['src_district_code'] == 3.3].copy()\n",
    "district_winning_projects = district_projects[district_projects['approved_binary']==1]\n",
    "district_losing_projects = district_projects[district_projects['approved_binary']==0]\n",
    "print(\"Winning projects\\n\",district_winning_projects[['project_id','project_name', 'votes']].sort_values(by='votes', ascending=False))\n",
    "print(\"Loosing projects\\n\", district_losing_projects[['project_id','project_name', 'votes']].sort_values(by='votes', ascending=False))"
   ]
  },
  {
   "cell_type": "markdown",
   "id": "9578e56a-b952-4248-b76b-f53c3ab80b53",
   "metadata": {},
   "source": [
    "#### Given the objective of this study, the proof of concept of this pipeline is going to go over three cases\n",
    "\n",
    "1. **Cloned projects** - Two projects that are very similar (similar description) - They share (ideally) no voter overlap -> Possible projects: (28,27), (51, 52), (95, 92), (151[98 votes], 156[178 votes])**\n",
    "2. **The project with a very low vote count** - Compare that project with a project that was approved -> Possible projects: (176 [2 votes], 169 [189 votes]),(178 [2 votes], 182 [33 votes]), (50 [2 votes], 44 [33 votes])\n",
    "3. **Two distinct projects**, one passed and the other one didn't and they overlap in voting intention (the same people that voted for project A also voted for project B but only project B was accepted) -> Possible projects: (95, 91), (103,102), (109,110), (122,125), (151, 156)**\n",
    "\n",
    "*The pairs are the project id's*  \n",
    "**This pairing fits in more than one case"
   ]
  },
  {
   "cell_type": "code",
   "execution_count": 13,
   "id": "c09d6e03-ffe0-438a-afbb-96a55c371ecf",
   "metadata": {},
   "outputs": [],
   "source": [
    "test_project_description = district_losing_projects[district_losing_projects['project_id']==95]\n",
    "# print(test_project_description)\n",
    "target_project = {\"id\":test_project_description.iloc[0]['project_id'].item(), \"description\":test_project_description.iloc[0]['description']}\n",
    "# print(case_1_test_project_description['project_name'])\n",
    "# print(len(district15_losing_projects.index))\n",
    "winning_projects = []\n",
    "for index, row in district_winning_projects.iterrows():\n",
    "    project = {\"id\":row['project_id'], \"description\":row['description']}\n",
    "    winning_projects.append(project)"
   ]
  },
  {
   "cell_type": "code",
   "execution_count": 32,
   "id": "c379a12a-e5e3-44cf-a707-42ee6aa63f51",
   "metadata": {},
   "outputs": [],
   "source": [
    "similarity_template_en = f\"\"\"\n",
    "    You are given a French target project description and a list of other project descriptions. Your task is to rank the other projects from most to least similar based ONLY on the actual semantic content in the descriptions. \n",
    "    Do NOT add, infer, or hallucinate any details that are not present. Use only what is stated.\n",
    "    Avoid any assumptions about technical terms or imagined species — stick exactly to what is written. \n",
    "    Focus on whether the projects discuss similar themes (like vegetation, urban heat, school environment, animal habitats, etc.)\n",
    "\n",
    "target_project:\n",
    "{target_project}\n",
    "\n",
    "You are also given a list of other project descriptions in JSON format, each with an associated ID:\n",
    "\n",
    "{winning_projects}\n",
    "\n",
    "Your task is to compare the semantic content of the target project description to each of the other descriptions. Determine which projects are most similar based **only on the semantic similarity between the descriptions** (ignore any metadata, IDs, or structure beyond the text content).\n",
    "\n",
    "Return a ranked list of all the project IDs, from most similar to least similar. Return only the project ID's\n",
    "\n",
    "\n",
    "\n",
    "\"\"\""
   ]
  },
  {
   "cell_type": "code",
   "execution_count": 33,
   "id": "beddc5a2-09f5-47f8-ba8b-4013e5ed2e6e",
   "metadata": {
    "scrolled": true
   },
   "outputs": [
    {
     "name": "stdout",
     "output_type": "stream",
     "text": [
      "\n",
      "    You are given a French target project description and a list of other project descriptions. Your task is to rank the other projects from most to least similar based ONLY on the actual semantic content in the descriptions. \n",
      "    Do NOT add, infer, or hallucinate any details that are not present. Use only what is stated.\n",
      "    Avoid any assumptions about technical terms or imagined species — stick exactly to what is written. \n",
      "    Focus on whether the projects discuss similar themes (like vegetation, urban heat, school environment, animal habitats, etc.)\n",
      "\n",
      "target_project:\n",
      "{'id': 95, 'description': \"Les murs de cette école neuve sont en béton brut d'aspect très austère, genre enceinte d'une prison, et ils emmagasinent la chaleur. Une misérable plate bande de végétation basse (déjà envahie par les mauvaises herbes ), les sépare de la voie publique. Nous proposons d'habiller ces murs de plantes grimpantes adaptées en fonction de l'exposition et, la où ce n'est pas possible, (au droit des ouvertures) de réaliser des plantations de 4ème grandeur (5 m maxi) cela permettra aussi de prévenir les tags et autres graffitis ... Prévoir aussi des gites pour les oiseaux cavernicoles et les chauve-souris Cet aménagement concerne en particulier l'allée de grand selve, la rue Simone Henry et la rue Flora Tristan\"}\n",
      "\n",
      "You are also given a list of other project descriptions in JSON format, each with an associated ID:\n",
      "\n",
      "[{'id': 99, 'description': 'Cette idée a été transmise via un formulaire papier par molac26. Au lieu de planter des arbres ornementaux, plantons des arbres fruitiers à récolter par les écoliers pour les cantines scolaires et des associations volontaires. Avantages : fruit bio pour les cantines / découverte des fruits par les enfants / Baisse du coût des cantines / Alimentation locale Inconvénients : planter des arbres fruitiers'}, {'id': 93, 'description': 'La pollution sonore induite par la densification du quartier devient très problématique et un obstacle au bien-vivré ensemble. Les 2-roues en sont la principale source (vitesse excessive, moteurs et échappements trafiqués). Serait-il possible de mener une campagne de sensibilisation et installer des radars sonores (Chemin des izards, route de Launaguet…) ?'}, {'id': 92, 'description': 'Le parking de l’impasse du cimetière de Croix Daurade est une grande flaque de bitume; cela avait du sens quand il accueillait les bus du lycée mais aujourd’hui il est venu le temps de verdir cette flaque de bitume: dalles engazonnées de stationnement et arbres 🌳 ferait un grand bien à l’environnement de notre quartier.'}, {'id': 201, 'description': \"Plusieurs jeux à destination des tout petits ou plus grands sont en plein soleil à Toulouse: - Place Saint Georges - Place Occitane - Raymond VI - Borderouge -Jardin Niel D'autres exemples sont possibles ! Tobogans brulants, coups de chaud.... ils sont impraticables... La mairie pourrait assez facilement installer des voilages suspendus en hauteur accrochés à des piquets comme cela se pratique au Portugal ou en Espagne afin de les rendre ombragés.\"}, {'id': 91, 'description': \"A l'instar d'autres communes de la métropole, il serait utile d'envisager une participation de la mairie au coûts de nichoirs à martinets et chauve-souris (une commande massive par la mairie permettant aussi de faire baisser les prix à l'unité) pour une lutte collective contre le moustique tigre. Ces nichoirs seraient distribués aux particuliers qui les placeraient à leur domicile. Il pourrait être envisagé également, sur le même principe, une participation à des pièges à larves ou à adultes de moustiques tigres.\"}, {'id': 94, 'description': \"Le quartier de Croix Daurade fait parti de ceux durement touchés par l'arrivée des moustiques tigres. Peut-être serait-il possible d'installer des nichoirs à chauve souris, des pièces à moustiques dans le quartier ?\"}, {'id': 98, 'description': 'Je souhaite des équipements sportifs de type \"musculation\" en plein air, de libre accès, installés soit le long des sentes piétonnières, soit dans les Jardins du Museum, donc dans la verdure et à l\\'ombre. Quartier TROIS COCUS - BORDEROUGE'}]\n",
      "\n",
      "Your task is to compare the semantic content of the target project description to each of the other descriptions. Determine which projects are most similar based **only on the semantic similarity between the descriptions** (ignore any metadata, IDs, or structure beyond the text content).\n",
      "\n",
      "Return a ranked list of all the project IDs, from most similar to least similar. Return only the project ID's\n",
      "\n",
      "\n",
      "\n",
      "\n"
     ]
    }
   ],
   "source": [
    "print(similarity_template_en)"
   ]
  },
  {
   "cell_type": "code",
   "execution_count": 34,
   "id": "f76dd953-cba5-40c4-8ad8-e18e916ce891",
   "metadata": {},
   "outputs": [
    {
     "name": "stdout",
     "output_type": "stream",
     "text": [
      "<think>\n",
      "Okay, so I need to compare the target project description with each of the other project descriptions given in JSON format and determine their similarity based solely on the content. Let me start by carefully reading both descriptions.\n",
      "\n",
      "The target project is about a school building with walls made of brick, very ornate, and they're able to enclose heat. It mentions a beautiful low-quality vegetable garden that's been destroyed but still exists. They propose some methods for plantations using plants suitable for 4th-grade classrooms, which can be done without trees, but if not possible, they suggest planting trees in the open. They also mention preparing gites for oiseau cavernaires and chaux sur des montagnes.\n",
      "\n",
      "Now, looking at each other project:\n",
      "\n",
      "1. **Project ID: 99**  \n",
      "   This is about a paper form filled by someone named molac26. It talks about planting trees to collect fruits for school grounds and cantines, with benefits like better costs and education. The drawbacks include planting trees that might burn. So the focus is on environmental impact and cost savings.\n",
      "\n",
      "2. **Project ID: 93**  \n",
      "   This project discusses pollution issues from a densely built area. It mentions 2-roues being the main source of noise, excessive speed, traffic lights, etc., suggesting problems with urban planning. The goal seems to be improving noise reduction through radars and walking routes.\n",
      "\n",
      "3. **Project ID: 92**  \n",
      "   This is about parking on a cimetière site. It talks about using bitumed surfaces for parking, which had issues but now aims to make it pleasant for the environment. They mention damaged trees and suggest creating a good environment with plants.\n",
      "\n",
      "4. **Project ID: 201**  \n",
      "   This project is about outdoor games in Toulouse's park during sunny days. It mentions placing games like Place Saint Georges, Occitane, etc., using tents or suspended structures to make them visible from the sky. The goal seems to be creating a pleasant environment for children and adults.\n",
      "\n",
      "5. **Project ID: 91**  \n",
      "   This is about participating in niches for moustaches. It talks about large tents, tents with people, and other activities. They mention using trees as part of the setup. The focus is on community outreach and environmental initiatives.\n",
      "\n",
      "6. **Project ID: 94**  \n",
      "   Similar to project 91 but focused on adults rather than children. It also involves large tents and trees, aiming for a positive community environment.\n",
      "\n",
      "7. **Project ID: 98**  \n",
      "   This seems unrelated as it's about preparing equipment like \"musculation\" in an open area with walking paths. The focus is on sports equipment setup without specific environmental context.\n",
      "\n",
      "Now, comparing each project to the target:\n",
      "\n",
      "- **Project 99**: Focuses on environmental impact and cost savings through planting trees. Doesn't mention anything about vegetables or outdoor activities.\n",
      "  \n",
      "- **Project 93**: Discusses urban planning issues with noise pollution. No mention of vegetables or outdoor games.\n",
      "\n",
      "- **Project 92**: Deals with environmental aspects of a cimetière site, focusing on vegetation and environment improvement. No mention of school buildings or outdoor games.\n",
      "\n",
      "- **Project 201**: Focuses on outdoor activities in a park, aiming for pleasant environments for children and adults. Doesn't mention vegetables or school buildings.\n",
      "\n",
      "- **Project 91/94**: Both focus on community outreach and environmental initiatives through large tents and trees. They don't mention vegetables or outdoor games.\n",
      "\n",
      "- **Project 98**: No specific content related to the target project's themes of school buildings, vegetables, or outdoor activities.\n",
      "\n",
      "So, none of the other projects seem to have any direct similarity in content to the target project description. Therefore, all are equally similar.\n",
      "</think>\n",
      "\n",
      "```json\n",
      "[\n",
      "    \"99\",\n",
      "    \"93\",\n",
      "    \"92\",\n",
      "    \"201\",\n",
      "    \"91\",\n",
      "    \"94\",\n",
      "    \"98\"\n",
      "]\n",
      "```\n"
     ]
    }
   ],
   "source": [
    "similarity_response = chat(\n",
    "    messages = [\n",
    "        {\n",
    "            'role': 'system',\n",
    "            'content': (\n",
    "                \"You are an expert assistant specialized in comparing project descriptions. \"\n",
    "                \"You must compare only the content that is explicitly present in the text. \"\n",
    "                \"Do not hallucinate or invent any terms, species, or technologies not found in the original text. \"\n",
    "                \"Base your reasoning strictly on semantic similarity.\"\n",
    "            )\n",
    "        },\n",
    "        {\n",
    "            'role': 'user',\n",
    "            'content': similarity_template_en\n",
    "        }\n",
    "    ],\n",
    "    model='deepseek-r1:1.5b'\n",
    "    # ,\n",
    "    # format = ResponseFormatter.model_json_schema(),\n",
    ")\n",
    "# ResponseFormatter.model_validate_json()\n",
    "similarity_response = similarity_response.message.content\n",
    "print(similarity_response)"
   ]
  },
  {
   "cell_type": "markdown",
   "id": "04272b5e-39f5-4ea7-84ed-581d607775ba",
   "metadata": {},
   "source": [
    "**CASE 3-Overlapping voters case**"
   ]
  },
  {
   "cell_type": "code",
   "execution_count": 17,
   "id": "adc9d36a-8543-407d-a426-5fd34534c63e",
   "metadata": {},
   "outputs": [
    {
     "name": "stdout",
     "output_type": "stream",
     "text": [
      "CASE 3 Winning projects\n",
      "      project_id                                       project_name  votes\n",
      "34          156  Aménager le Rond-Point des Français Libres et ...    178\n",
      "128         157  Plantation d'arbres et diversification de la p...    128\n",
      "149         153                Réduction de la pollution lumineuse    113\n",
      "58          155              Lutter contre la pollution des mégots     63\n",
      "3           149  Un jardin en mouvement le long de la voie ferr...     50\n",
      "CASE 3 Loosing projects\n",
      "      project_id                                       project_name  votes\n",
      "165         151                     Aménager la place Henri Russel     98\n",
      "144         150           Coup de pinceau sur le béton du quartier     56\n",
      "99          154                         Nichoirs pour des mésanges     44\n",
      "159         148             Plan du voisinage aux sorties de métro     24\n",
      "187         152  Aire de jeux accessible à tous au jardin du Pa...     14\n"
     ]
    }
   ],
   "source": [
    "case_3_district_projects = aggregatedProjectsDF[aggregatedProjectsDF['src_district_code'] == 5.3].copy()\n",
    "case_3_district_winning_projects = case_3_district_projects[case_3_district_projects['approved_binary']==1]\n",
    "case_3_district_losing_projects = case_3_district_projects[case_3_district_projects['approved_binary']==0]\n",
    "print(\"CASE 3 Winning projects\\n\",case_3_district_winning_projects[['project_id','project_name', 'votes']].sort_values(by='votes', ascending=False))\n",
    "print(\"CASE 3 Loosing projects\\n\", case_3_district_losing_projects[['project_id','project_name', 'votes']].sort_values(by='votes', ascending=False))\n"
   ]
  },
  {
   "cell_type": "code",
   "execution_count": 18,
   "id": "c9af386c-872f-47a1-9590-17f08ca5f4fe",
   "metadata": {},
   "outputs": [
    {
     "name": "stdout",
     "output_type": "stream",
     "text": [
      "target project->151 | project_compared_to->149 | overlapping_score_to_target->0.061224489795918366\n",
      "Overlapping voters\n",
      "[4896, 5101, 4913, 1782, 4759, 5017] \n",
      "\n",
      "target project->151 | project_compared_to->156 | overlapping_score_to_target->0.6632653061224489\n",
      "Overlapping voters\n",
      "[4491, 1037, 4750, 1805, 2576, 1681, 18, 5008, 1301, 2711, 1434, 2716, 2720, 2721, 3874, 4900, 1063, 4906, 813, 1327, 1842, 4147, 3636, 2742, 1591, 4406, 2617, 1335, 2871, 5050, 1597, 2749, 4028, 2499, 2756, 4422, 3912, 715, 77, 2893, 3534, 4049, 5075, 1493, 2902, 2776, 2777, 4186, 5083, 3934, 3170, 4195, 4837, 615, 1129, 3309, 5101, 2416, 3697, 4594, 4979, 2804, 2807, 2043, 893] \n",
      "\n",
      "target project->151 | project_compared_to->155 | overlapping_score_to_target->0.061224489795918366\n",
      "Overlapping voters\n",
      "[165, 4841, 3309, 2871, 4889, 4186] \n",
      "\n",
      "target project->151 | project_compared_to->157 | overlapping_score_to_target->0.19387755102040816\n",
      "Overlapping voters\n",
      "[1681, 4759, 3352, 2716, 1951, 2721, 3874, 4900, 813, 4913, 2756, 4422, 4960, 4195, 615, 4466, 4979, 2807, 4474] \n",
      "\n",
      "target project->151 | project_compared_to->153 | overlapping_score_to_target->0.11224489795918367\n",
      "Overlapping voters\n",
      "[100, 3912, 4491, 1037, 4750, 5232, 5075, 2711, 2617, 1434, 2043] \n",
      "\n"
     ]
    }
   ],
   "source": [
    "case_3_target_project_id = 151\n",
    "\n",
    "for index, row in case_3_district_winning_projects.iterrows():\n",
    "    result = compute_voter_overlap(case_3_target_project_id, row['project_id'], electionDetails)\n",
    "    print(f\"target project->{case_3_target_project_id} | project_compared_to->{row['project_id']} | overlapping_score_to_target->{result['overlap_percentage_target_project']}\")\n",
    "    print(\"Overlapping voters\")\n",
    "    print(result['overlapping_voters'],\"\\n\")"
   ]
  },
  {
   "cell_type": "markdown",
   "id": "b1232a28-c5e8-4500-9cf3-4462af04a59a",
   "metadata": {},
   "source": [
    "**We can also try a different approach for the pipeline**  \n",
    "Instead of using the LLM for the semantic comparison between descriptions, we can use embeddings, they are faster and deterministic  "
   ]
  },
  {
   "cell_type": "code",
   "execution_count": 19,
   "id": "77ee10c9-f8b4-4417-8d70-3e0b3f7910fc",
   "metadata": {
    "scrolled": true
   },
   "outputs": [
    {
     "data": {
      "application/vnd.jupyter.widget-view+json": {
       "model_id": "721d945347e64099ada91c74e75903a0",
       "version_major": 2,
       "version_minor": 0
      },
      "text/plain": [
       "Loading checkpoint shards:   0%|          | 0/2 [00:00<?, ?it/s]"
      ]
     },
     "metadata": {},
     "output_type": "display_data"
    }
   ],
   "source": [
    "sentence = target_project['description']\n",
    "# sentence-transformers/LaBSE Alibaba-NLP/gte-Qwen2-1.5B-instruct\n",
    "model = SentenceTransformer('Alibaba-NLP/gte-Qwen2-1.5B-instruct', device='cpu')\n",
    "embeddings = model.encode(sentence)\n",
    "\n",
    "embedded_target_project = {\n",
    "    \"project_id\": target_project['id'],\n",
    "    \"description\": target_project['description'],\n",
    "    \"embedded_description\": embeddings\n",
    "}\n",
    "# print(embedded_target_project)"
   ]
  },
  {
   "cell_type": "code",
   "execution_count": 20,
   "id": "a61e89aa-0134-49a8-ba06-c018da7b6a88",
   "metadata": {},
   "outputs": [
    {
     "name": "stdout",
     "output_type": "stream",
     "text": [
      "(1536,)\n"
     ]
    }
   ],
   "source": [
    "print(embeddings.shape)"
   ]
  },
  {
   "cell_type": "code",
   "execution_count": 21,
   "id": "f3b1732e-13e3-4002-9ed8-d609d0f23614",
   "metadata": {},
   "outputs": [],
   "source": [
    "embedded_winning_projects = []\n",
    "\n",
    "for index, row in district_winning_projects.iterrows():\n",
    "    proj_obj = {\n",
    "    \"project_id\": row['project_id'],\n",
    "    \"description\": row['description'],\n",
    "    \"embedded_description\": model.encode(row['description'])\n",
    "    }\n",
    "    embedded_winning_projects.append(proj_obj)"
   ]
  },
  {
   "cell_type": "code",
   "execution_count": 22,
   "id": "7b84d925-0432-4e7f-b563-406a2599a50f",
   "metadata": {},
   "outputs": [
    {
     "name": "stdout",
     "output_type": "stream",
     "text": [
      "99\n",
      "93\n",
      "92\n",
      "201\n",
      "91\n",
      "94\n",
      "98\n",
      "7\n"
     ]
    }
   ],
   "source": [
    "for embedded_winning_project in embedded_winning_projects:\n",
    "    print(embedded_winning_project['project_id'])\n",
    "embedding_winners = [x['embedded_description'] for x in embedded_winning_projects]\n",
    "print(len(embedding_winners))"
   ]
  },
  {
   "cell_type": "code",
   "execution_count": 23,
   "id": "3119b136-01da-4166-a100-9e2b2f4508f6",
   "metadata": {},
   "outputs": [
    {
     "name": "stderr",
     "output_type": "stream",
     "text": [
      "/home/samuel-malaga/Documents/Master2IS/Stage M1/M2IS-Internship-XAI/env/lib/python3.12/site-packages/sentence_transformers/util.py:44: UserWarning: Creating a tensor from a list of numpy.ndarrays is extremely slow. Please consider converting the list to a single numpy.ndarray with numpy.array() before converting to a tensor. (Triggered internally at /pytorch/torch/csrc/utils/tensor_new.cpp:254.)\n",
      "  a = torch.tensor(a)\n"
     ]
    }
   ],
   "source": [
    "similarities = model.similarity(embedded_target_project['embedded_description'],embedding_winners)"
   ]
  },
  {
   "cell_type": "code",
   "execution_count": 24,
   "id": "2bd779cf-c594-42ab-96d1-54024a2d204f",
   "metadata": {},
   "outputs": [
    {
     "name": "stdout",
     "output_type": "stream",
     "text": [
      "tensor([[0.4338, 0.4421, 0.4321, 0.4113, 0.4360, 0.4484, 0.5451]])\n"
     ]
    }
   ],
   "source": [
    "print(similarities)"
   ]
  },
  {
   "cell_type": "markdown",
   "id": "1600cc2d-31ba-41ec-aa6e-b8f59827444e",
   "metadata": {},
   "source": [
    "**This works significantly faster and more consistent than the conversational model option but the similarity values can be different from model to model**  \n",
    "Benchmark the most performant models can be a good idea"
   ]
  },
  {
   "cell_type": "code",
   "execution_count": null,
   "id": "92fe2c88-7a94-4bd1-9990-746fb54a325f",
   "metadata": {},
   "outputs": [],
   "source": []
  }
 ],
 "metadata": {
  "kernelspec": {
   "display_name": "Python 3 (ipykernel)",
   "language": "python",
   "name": "python3"
  },
  "language_info": {
   "codemirror_mode": {
    "name": "ipython",
    "version": 3
   },
   "file_extension": ".py",
   "mimetype": "text/x-python",
   "name": "python",
   "nbconvert_exporter": "python",
   "pygments_lexer": "ipython3",
   "version": "3.12.3"
  }
 },
 "nbformat": 4,
 "nbformat_minor": 5
}
