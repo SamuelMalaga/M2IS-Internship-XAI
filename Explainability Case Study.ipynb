{
 "cells": [
  {
   "cell_type": "code",
   "execution_count": 1,
   "id": "7962acb2-71e7-430f-a864-5f42bdbf2c13",
   "metadata": {},
   "outputs": [],
   "source": [
    "from ollama import chat\n",
    "from langchain_ollama import OllamaLLM\n",
    "from langchain_core.prompts import ChatPromptTemplate\n",
    "from pydantic import BaseModel, Field\n",
    "import pandas as pd\n",
    "from sentence_transformers import SentenceTransformer\n",
    "import torch\n"
   ]
  },
  {
   "cell_type": "markdown",
   "id": "8911d36b-16a6-414c-a008-a1b9e9d5d55d",
   "metadata": {},
   "source": [
    "**Importing the model and the dataset**"
   ]
  },
  {
   "cell_type": "code",
   "execution_count": 2,
   "id": "6668ff21-0c4a-4f19-b3d0-4cb9a2890f0d",
   "metadata": {},
   "outputs": [],
   "source": [
    "model = OllamaLLM(model=\"deepseek-r1:1.5b\")"
   ]
  },
  {
   "cell_type": "code",
   "execution_count": 3,
   "id": "855a5414-985a-440d-9931-3dc725030e6f",
   "metadata": {},
   "outputs": [],
   "source": [
    "aggregatedProjectsDF = pd.read_csv('projectsAggWResults.csv',sep=\",\")\n",
    "aggregatedProjectsDF = aggregatedProjectsDF.drop('Unnamed: 0',axis=1)\n",
    "electionDetails = pd.read_csv('projectDetails.csv',sep=\";\")"
   ]
  },
  {
   "cell_type": "markdown",
   "id": "8162fc6c-3e71-4e1b-a90a-c24660c4de52",
   "metadata": {},
   "source": [
    "Testing the similarity analysis"
   ]
  },
  {
   "cell_type": "code",
   "execution_count": 4,
   "id": "b3b7a696-34ee-4faf-9ff7-44b0807ddcdc",
   "metadata": {},
   "outputs": [],
   "source": [
    "test_template_en = \"\"\"\n",
    "    Given this short project description: {target_project}\n",
    "\n",
    "    Compare the description given with the following texts as rank them in order of similarity\n",
    "    to the given descriptions and organize them from the most similar to the least similar:\n",
    "    1-{desc_1},\n",
    "    2-{desc_2},\n",
    "    3-{desc_3}\n",
    "\n",
    "\"\"\""
   ]
  },
  {
   "cell_type": "code",
   "execution_count": 5,
   "id": "14574d31-feab-4a28-ae71-106a288d5659",
   "metadata": {},
   "outputs": [],
   "source": [
    "prompt_en = ChatPromptTemplate.from_template(test_template_en)\n",
    "chain = prompt_en | model\n"
   ]
  },
  {
   "cell_type": "code",
   "execution_count": 6,
   "id": "5065c8cb-1029-4569-a575-83583f6b4399",
   "metadata": {},
   "outputs": [
    {
     "name": "stdout",
     "output_type": "stream",
     "text": [
      "<think>\n",
      "Okay, so I need to figure out how to rank these three texts based on their similarity to the given project description about sufficient daily water intake. Let me start by understanding each part of the problem.\n",
      "\n",
      "First, the user provided a short project description: \"Il est important de boire suffisamment d’eau chaque jour pour rester en bonne santé.\" This translates to \"It is important to drink enough water every day to stay in good health.\"\n",
      "\n",
      "Then, there are three texts that need comparison. Let me read each one carefully.\n",
      "\n",
      "1. Une alimentation équilibrée contribue aussi à améliorer l’énergie et la concentration.,\n",
      "2. Le volcan est entré en éruption soudainement, couvrant le ciel de cendres.,\n",
      "3. S’hydrater régulièrement aide le corps à bien fonctionner et prévient la fatigue.\n",
      "\n",
      "I need to compare each of these texts with the project description and rank them from most similar to least similar.\n",
      "\n",
      "Starting with the first text: \"Une alimentation équilibrée contribue aussi à améliorer l’énergie et la concentration.\" This is about balancing nutrition, which relates to energy and concentration. The project description also touches on sufficient water intake for health. So both are discussing different aspects of diet but related to overall well-being.\n",
      "\n",
      "The second text: \"Le volcan est entré en éruption soudainement, couvrant le ciel de cendres.\" This is about a volcanic eruption covering the sky with cinders. It seems unrelated to water intake or health. The project description doesn't mention anything about nature or natural phenomena affecting health.\n",
      "\n",
      "The third text: \"S’hydrater régulièrement aide le corps à bien fonctionner et prévient la fatigue.\" This directly mentions hydration regularly helping the body function well and preventing fatigue. This is very similar to the project description, which talks about sufficient water intake for good health.\n",
      "\n",
      "So, comparing all three:\n",
      "\n",
      "1. The first text discusses diet balance affecting energy and concentration but not directly related to water.\n",
      "2. The second text is about a natural event unrelated to health or water.\n",
      "3. The third text is exactly like the project description, focusing on hydration for health.\n",
      "\n",
      "Therefore, the order from most similar to least similar would be:\n",
      "\n",
      "1 (first text) > 3 (third text) > 2 (second text).\n",
      "</think>\n",
      "\n",
      "The texts are ranked as follows based on their similarity to the given project description:\n",
      "\n",
      "1. Une alimentation équilibrée contribue aussi à améliorer l’énergie et la concentration.,  \n",
      "3. S’hydrater régulièrement aide le corps à bien fonctionner et prévient la fatigue.,  \n",
      "2. Le volcan est entré en éruption soudainement, couvrant le ciel de cendres.,  \n",
      "\n",
      "**Ranking:** 1 > 3 > 2\n"
     ]
    }
   ],
   "source": [
    "test_input = chain.invoke({\n",
    "    \"target_project\":\"Il est important de boire suffisamment d’eau chaque jour pour rester en bonne santé.\",\n",
    "    \"desc_1\":\"Une alimentation équilibrée contribue aussi à améliorer l’énergie et la concentration.\",\n",
    "    \"desc_2\":\"Le volcan est entré en éruption soudainement, couvrant le ciel de cendres.\",\n",
    "    \"desc_3\":\"S’hydrater régulièrement aide le corps à bien fonctionner et prévient la fatigue.\"\n",
    "})\n",
    "\n",
    "print(test_input)"
   ]
  },
  {
   "cell_type": "markdown",
   "id": "92b8045c-b52f-4cda-a729-0f33910c0d6e",
   "metadata": {},
   "source": [
    "As we can see, the model can do the comparisons between short texts, it takes some time but it works, now we'll need to see how does it works on a context more similar to our context"
   ]
  },
  {
   "cell_type": "code",
   "execution_count": 7,
   "id": "86fe8e3c-ca23-4856-857e-afdc62bacd3c",
   "metadata": {},
   "outputs": [
    {
     "name": "stdout",
     "output_type": "stream",
     "text": [
      "Index(['project_id', 'project_name', 'description', 'category', 'cost',\n",
      "       'district', 'votes', 'title_length', 'description_length',\n",
      "       'agg_district_code', 'agg_quartiers', 'src_district_code', 'approved',\n",
      "       'approved_binary'],\n",
      "      dtype='object')\n"
     ]
    }
   ],
   "source": [
    "print(aggregatedProjectsDF.columns)"
   ]
  },
  {
   "cell_type": "markdown",
   "id": "16d0962c-1224-4806-b1c2-996a5247bdd1",
   "metadata": {},
   "source": [
    "We are going to apply this analysis district by district and check the outputted results.  \n",
    "Info on how to format the output https://ollama.com/blog/structured-outputs\n",
    "**Ollama documentation**  \n",
    "https://github.com/ollama/ollama/blob/main/docs/api.md  \n",
    "https://github.com/ollama/ollama-python  \n",
    "https://github.com/ollama/ollama/blob/main/docs/api.md#generate-a-chat-completion  \n",
    "https://github.com/ollama/ollama/blob/main/docs/modelfile.md#valid-parameters-and-values"
   ]
  },
  {
   "cell_type": "code",
   "execution_count": 8,
   "id": "b027d3a2-2667-49de-b4af-dd698e682539",
   "metadata": {},
   "outputs": [],
   "source": [
    "class PairResponseFormatter(BaseModel):\n",
    "    target_project: int = Field(description=\"ID of the project of reference that is being used to compare to other projects\")\n",
    "    similar_project: int = Field(description=\"The id of the most similar project related to the target project\")\n",
    "\n",
    "class ResponseFormatter(BaseModel):\n",
    "    target_project: int = Field(description=\"ID of the project of reference that is being used to compare to other projects\")\n",
    "    ranked_similar_projects: list[int] = Field(description=\"The id's of similar projects ranked by their similarity from the most similar to the least similar\")\n",
    "    # ranked_similar_projects_score: list[float] = Field(description=\"the score of the similarity between projects ranked by their similarity from the most similar to the least similar\")\n",
    "\n",
    "\n",
    "class DetailedResponseFormatter(BaseModel):\n",
    "    target_project: int = Field(description=\"ID of the project of reference that is being used to compare to other projects\")\n",
    "    ranked_similar_projects: dict[str,float] = Field(description=\"A dictionary where the key is the project ID and the value is the score of similarity between the projects\")"
   ]
  },
  {
   "cell_type": "code",
   "execution_count": 9,
   "id": "eea8d6b9-4e29-4dfd-892b-1d6ee818281f",
   "metadata": {
    "scrolled": true
   },
   "outputs": [],
   "source": [
    "# response = chat(\n",
    "#     messages = [\n",
    "#         {\n",
    "#             'role': 'user',\n",
    "#             'content': \"\"\"\n",
    "#     Given this target project description in french: \n",
    "#     target_project : {\"id\": 1, \"description\": \"Développement d'une application mobile pour la gestion des tâches personnelles avec rappels et synchronisation cloud.\"}\n",
    "\n",
    "#     Compare the given description to this other descriptions, formatted in a json format and give me the ID of the project that is\n",
    "#     the most similar one to the target_project. Consider only similarity between descriptions\n",
    "\n",
    "#     Other descriptions:\n",
    "#     [\n",
    "#         {\"id\": 4, \"description\": \"Création d'une application mobile de gestion des tâches personnelles, intégrant rappels automatiques et synchronisation entre appareils.\"},\n",
    "#         {\"id\": 3, \"description\": \"Mise en place d'un système web pour la gestion de projets collaboratifs avec calendrier partagé.\"},\n",
    "#         {\"id\": 2, \"description\": \"Développement d'un jeu vidéo éducatif pour enfants en bas âge, avec des animations interactives.\"}\n",
    "#     ]\n",
    "\n",
    "#     Respond with the id of the target project, a list of id's of the similar projects ranked by their similarity ordered by the most similar to the least similar\n",
    "#     and include in the project list even the projects that are not related at all\n",
    "#     \"\"\"\n",
    "#         }\n",
    "#     ],\n",
    "#     model='deepseek-r1:1.5b',\n",
    "#     format = ResponseFormatter.model_json_schema(),\n",
    "# )\n",
    "\n",
    "# test_pair = ResponseFormatter.model_validate_json(response.message.content)\n",
    "# print(test_pair)"
   ]
  },
  {
   "cell_type": "markdown",
   "id": "97183d1e-020d-4848-82b1-bc8debfbf604",
   "metadata": {},
   "source": [
    "**Now that twe can use the LLM to process the similarity between projects and output that relation in a structured format using a custom prompt, we nee to find a way to compute the overlapping of projects voters**"
   ]
  },
  {
   "cell_type": "code",
   "execution_count": 10,
   "id": "b56127fa-ae91-48ad-add0-f1cb5808a2b5",
   "metadata": {},
   "outputs": [],
   "source": [
    "def compute_voter_overlap(target_project_id:int, compared_project_id:int, election_details_dataset) -> float:\n",
    "    result = {\n",
    "        \"overlapping_voters\":[],\n",
    "        \"overlap_percentage_target_project\":0,\n",
    "        \"overlap_percentage_compared_project\":0\n",
    "    }\n",
    "    \n",
    "    ##Get the voters per project\n",
    "    target_project_votes = election_details_dataset[election_details_dataset['project_id']==target_project_id]\n",
    "    compared_project_votes = election_details_dataset[election_details_dataset['project_id']==compared_project_id]\n",
    "\n",
    "\n",
    "    ###Get a list of voters ID's that voted for that same project\n",
    "    target_project_voters = target_project_votes['ID'].unique().tolist()\n",
    "    compared_project_voters = compared_project_votes['ID'].unique().tolist()\n",
    "\n",
    "    ##Calculate the overlapping percentage\n",
    "    overlap_set = list(set(target_project_voters) & set(compared_project_voters))\n",
    "\n",
    "    result[\"overlapping_voters\"] = overlap_set\n",
    "    result[\"overlap_percentage_target_project\"]= len(overlap_set)/len(target_project_voters)\n",
    "    result[\"overlap_percentage_compared_project\"]= len(overlap_set)/len(compared_project_voters)    \n",
    "\n",
    "    return result\n",
    "    "
   ]
  },
  {
   "cell_type": "code",
   "execution_count": 11,
   "id": "ca397c13-420f-4791-a112-8c2981e28778",
   "metadata": {},
   "outputs": [
    {
     "data": {
      "text/plain": [
       "{'overlapping_voters': [2465,\n",
       "  3425,\n",
       "  2533,\n",
       "  4519,\n",
       "  2408,\n",
       "  3401,\n",
       "  2139,\n",
       "  555,\n",
       "  3373,\n",
       "  3118,\n",
       "  558,\n",
       "  1491,\n",
       "  1749,\n",
       "  1401,\n",
       "  4539],\n",
       " 'overlap_percentage_target_project': 0.15625,\n",
       " 'overlap_percentage_compared_project': 0.38461538461538464}"
      ]
     },
     "execution_count": 11,
     "metadata": {},
     "output_type": "execute_result"
    }
   ],
   "source": [
    "compute_voter_overlap(52, 51, electionDetails)"
   ]
  },
  {
   "cell_type": "code",
   "execution_count": 12,
   "id": "bfce6b03-f0aa-4232-9f94-cceba9a6bd82",
   "metadata": {},
   "outputs": [
    {
     "name": "stdout",
     "output_type": "stream",
     "text": [
      "Winning projects\n",
      "      project_id                                       project_name  votes\n",
      "147          52  Végétaliser pour limiter la surchauffe estival...     96\n",
      "170          58  Une piste cyclable pour une meilleure continui...     66\n",
      "69           56  Un verger pour les enfants du bitume (plantati...     64\n",
      "101          60  Du miel dans mon quartier: produisons de la do...     43\n",
      "Loosing projects\n",
      "      project_id                                       project_name  votes\n",
      "181          51  Végétaliser nos quartiers (projet étudié autou...     39\n",
      "103          57  Des panneaux solaires sur la Maison de Quartie...     31\n",
      "140          54  Aménagement du parc Fontaine Lestang (Les Bisc...     31\n",
      "97           53           Végétalisation d'ombrage rue Jean Mermoz     12\n",
      "106          59  Des jeux pour les grands (aménagement d’une ai...      7\n",
      "32           55  La Gironde conviviale et sportive (aménagement...      3\n"
     ]
    }
   ],
   "source": [
    "district_projects = aggregatedProjectsDF[aggregatedProjectsDF['src_district_code'] == 2.3].copy()\n",
    "district_winning_projects = district_projects[district_projects['approved_binary']==1]\n",
    "district_losing_projects = district_projects[district_projects['approved_binary']==0]\n",
    "print(\"Winning projects\\n\",district_winning_projects[['project_id','project_name', 'votes']].sort_values(by='votes', ascending=False))\n",
    "print(\"Loosing projects\\n\", district_losing_projects[['project_id','project_name', 'votes']].sort_values(by='votes', ascending=False))"
   ]
  },
  {
   "cell_type": "markdown",
   "id": "9578e56a-b952-4248-b76b-f53c3ab80b53",
   "metadata": {},
   "source": [
    "#### Given the objective of this study, the proof of concept of this pipeline is going to go over three cases\n",
    "\n",
    "1. **Cloned projects** - Two projects that are very similar (similar description) - They share (ideally) no voter overlap -> Possible projects: (28,27), (51, 52), (95, 92), (151[98 votes], 156[178 votes])**\n",
    "2. **The project with a very low vote count** - Compare that project with a project that was approved -> Possible projects: (176 [2 votes], 169 [189 votes]),(178 [2 votes], 182 [33 votes]), (50 [2 votes], 44 [33 votes])\n",
    "3. **Two distinct projects**, one passed and the other one didn't and they overlap in voting intention (the same people that voted for project A also voted for project B but only project B was accepted) -> Possible projects: (95, 91), (103,102), (109,110), (122,125), (151, 156)**\n",
    "\n",
    "*The pairs are the project id's*  \n",
    "**This pairing fits in more than one case"
   ]
  },
  {
   "cell_type": "code",
   "execution_count": 13,
   "id": "c09d6e03-ffe0-438a-afbb-96a55c371ecf",
   "metadata": {},
   "outputs": [],
   "source": [
    "test_project_description = district_losing_projects[district_losing_projects['project_id']==51]\n",
    "# print(test_project_description)\n",
    "target_project = {\"id\":test_project_description.iloc[0]['project_id'].item(), \"description\":test_project_description.iloc[0]['description']}\n",
    "# print(case_1_test_project_description['project_name'])\n",
    "# print(len(district15_losing_projects.index))\n",
    "winning_projects = []\n",
    "for index, row in district_winning_projects.iterrows():\n",
    "    project = {\"id\":row['project_id'], \"description\":row['description']}\n",
    "    winning_projects.append(project)"
   ]
  },
  {
   "cell_type": "code",
   "execution_count": 14,
   "id": "c379a12a-e5e3-44cf-a707-42ee6aa63f51",
   "metadata": {},
   "outputs": [],
   "source": [
    "similarity_template_en = f\"\"\"\n",
    "    You are given a target project description written in French:\n",
    "\n",
    "target_project:\n",
    "{target_project}\n",
    "\n",
    "You are also given a list of other project descriptions in JSON format, each with an associated ID:\n",
    "\n",
    "{winning_projects}\n",
    "\n",
    "Your task is to compare the semantic content of the target project description to each of the other descriptions. Determine which projects are most similar based **only on the semantic similarity between the descriptions** (ignore any metadata, IDs, or structure beyond the text content).\n",
    "\n",
    "Return a ranked list of all the project IDs, from most similar to least similar. Include all projects, even those that are not semantically related.\n",
    "\n",
    "(Optional Example to guide behavior):\n",
    "\n",
    "Example:\n",
    "Target: {{\"id\": \"p4\", \"description\":\"La construction d'une école primaire écologique en région rurale.\"}}\n",
    "Other projects:\n",
    "[\n",
    "  {{\"id\": \"p1\", \"description\": \"Création d'un centre médical.\"}},\n",
    "  {{\"id\": \"p2\", \"description\": \"Construction d'un bâtiment scolaire pour 500 élèves.\"}},\n",
    "  {{\"id\": \"p3\", \"description\": \"Aménagement d’un parc de loisirs.\"}}\n",
    "]\n",
    "Most similar to least similar:\n",
    "p2, p1, p3\n",
    "\"\"\""
   ]
  },
  {
   "cell_type": "code",
   "execution_count": 15,
   "id": "beddc5a2-09f5-47f8-ba8b-4013e5ed2e6e",
   "metadata": {},
   "outputs": [
    {
     "name": "stdout",
     "output_type": "stream",
     "text": [
      "\n",
      "    You are given a target project description written in French:\n",
      "\n",
      "target_project:\n",
      "{'id': 51, 'description': \"Bonjour, Je pense que beaucoup de choses peuvent être améliorées. La première qui me vient à l'esprit est la question de l'environnement urbain. Nous allons vivre des années de plus en plus chaudes et je pense que ces pics de chaleur vont particulièrement se faire ressentir dans les villes où le béton absorbe de façon conséquente la chaleur. Personnellement, quand l'été arrive j'ai souvent l'impression d'étouffer. C'est pourquoi je pense que la végétalisation des espaces serait une solution efficace pour contrer la chaleur. Cela permettrait de créer des zones d'ombres, de faire baisser les températures, d'apporter un peu d'air et de casser l'aspect béton. Il me semble que beaucoup de gens aspirent à voir la nature un peu plus présente en ville ! J'habite dans le quartier des arènes où certes quelques arbres ont été plantés, mais cela ne me semble pas suffisant. Il serait tellement plus agréable de voir de l'herbe, des fleurs et cie à la place de ces trottoirs et allées bétonnées. Merci pour le temps que vous aurez accordé à la lecture de mon idéeModalités de réalisation - Avis technique :Végétalisation autour de la place Emile Male, et sur la route de Saint Simon en remplaçant certaines places de stationnement à proximité des arènes afin de réduire les espaces bétonnés et limiter les fortes températures estivales.\"}\n",
      "\n",
      "You are also given a list of other project descriptions in JSON format, each with an associated ID:\n",
      "\n",
      "[{'id': 56, 'description': 'ALIMECO est une association à but non lucratif créée en 2020 suite à la crise sanitaire pour répondre à l\\'urgence alimentaire des familles. Elle concerne tous les habitants des quartiers de BAFAPATABOR (Bagatelle, Faourette, Papus, Tabar et Bordelongue). ALIMECO est constituée de 40 bénévoles, d\\'une salariée à temps partiel et a pour ambition de développer l\\'autonomie alimentaire sur ces quartiers. Dans l’esprit du plan municipal « 100 000 arbres à Toulouse d’ici 2030 », nous proposons l\\'idée d\\'un projet pérenne et constructeur: implanter à BaFaPaTaBor 300 arbres fruitiers, dont chacun porterait symboliquement le prénom d’un enfant ou d’un jeune , dans ces quartiers où 10 000 résidents ont entre en 0 et 17 ans. Les objectifs sont multiples: : 1) Maintenir et enrichir la biodiversité dans un quartier très urbanisé : les espèces arboricoles implantées seront totalement adaptées au biotope toulousain; 2) Impliquer les habitants à prendre soin du vivant, de manière vertueuse sur le plan écologique, en cohérence avec la « Charte de l’Arbre à Toulouse\" 3) Promouvoir l’accès à une alimentation de qualité, provenant de source saine et et de saison (vocation principale d’ALIMECO) : récolte, transformation, conservation, via la Maison de Quartier de Bagatelle par exemple; 4) Créer un parrainage durable « Un arbre, un jeune, un prénom » en recréant le lien entre le vivant et ces quartiers que précarité économique et sociale tiennent souvent éloignés de ces thématiques pourtant essentielles.Modalités de réalisation - Avis technique :Plantation d\\'une centaine d’arbres fruitiers répartis sur deux espaces verts afin de créer un verger à destination des habitants du quartier. Des analyses plus poussées seront réalisées avant les plantations afin de vérifier la pollution des sols.'}, {'id': 60, 'description': 'ALIMECO est une association à but non lucratif créée en 2020 suite à la crise sanitaire pour répondre à l\\'urgence alimentaire des familles. Elle concerne tous les habitants des quartiers de BAFAPATABOR (Bagatelle, Faourette, Papus, Tabar et Bordelongue). ALIMECO est constituée de 40 bénévoles et d\\'une salariée à temps partiel et a pour ambition de développer l\\'autonomie alimentaire sur ces quartiers. L\\'idée proposée est la suivante: 1/3 de notre alimentation provient directement du travail des pollinisateurs qui sont mis à mal et tendent à disparaître du fait des pratiques humaines. Pour agir dans notre quartier face à leur disparition, et pour toucher les consciences au plus près et dès le plus jeune âge, nous lançons l\\'idée de créer un espace urbain \"ECOLE DE BIODIVERSITE\". Ce projet est axé autour de l\\'implantation d\\'un rucher pédagogique, conformément à la législation en vigueur et dans le respect de la sécurité de tous. L\\'objectif est l\\'implication des habitants par le côtoiement, la pratique et l\\'apprentissage du soin porté au vivant, donc à nous. Gestes et pratiques apicoles, récolte de miel et mise en pots, semis de mellifères qui fleuriront les quartiers, fabrication de ruches, création de carrés potagers et de refuges à insectes et animaux. Ramenons la nature et ses bienfaits en ville, dans l\\'intérêt de tous et toutes!Modalités de réalisation - Avis technique :Cette idée développe la biodiversité en ville. Elle participe ainsi à l’adaptation du territoire au changement climatique. Avis favorable sous conditions : Une étude plus approfondie de la part des services est nécessaire pour s’assurer de sa réalisation.'}, {'id': 52, 'description': \"... en plantant des arbres dans les rues très bituminées, les végétalisant et/ou modifiant les matériaux de sol. Les rues secondaires concernées devront préalablement être mises en sens unique pour se faire, pour gagner de l'espace, du confort et de la sécurité pour tous les usagers. Cette demande répond également à l'ambition de la mairie actuelle de plantation des 100 000 arbres. Localisation : Quartier Fontaine Lestang à ToulouseModalités de réalisation - Avis technique :Végétalisation du quartier Fontaine Lestang dans les rues les plus bitumées afin de lutter contre les îlots de chaleurs et réduire les températures estivales. Les zones de plantations exactes seront concertées avec les riverains, afin de déterminer collectivement les places de stationnement qui pourraient être remplacées par des espaces verts.\"}, {'id': 58, 'description': 'Aujourd\\'hui, il existe une discontinuité cyclable sur la rue Henri Desbals entre Mermoz et le boulevard Déodat de Séverac. Créer une continuité cyclable sécurisée sur ces 900 mètres permettrait de compléter cet axe qui a le potentiel de devenir une voie rapide et sécurisée pour rejoindre le centre ville depuis les quartiers, ainsi que l\\'Université Jean Jaurès depuis le centre-ville. Cette portion desservirai la station de métro Fontaine Lestang ainsi que l\\'école maternelle Etiennes Billières. Par ailleurs, favoriser les modes actifs sur cet axe c\\'est aussi une occasion d\\'apaiser la circulation automobile pour une meilleure sécurité et moins de pollution. Je propose de mettre en sens unique la rue Henri Desbals depuis la place Mermoz jusqu\\'au boulevard Déodat de Séverac. Avec une des deux voies libérées, il devient alors possible de créer une piste cyclable bidirectionnelle d\\'une largeur correcte (environ 3m). Cette mise en sens unique ne bloque pas la circulation des véhicules motorisés qui pourraient effectuer un détour soit par la rue Vestrepain, soit par la rue Gamelin. Je propose de d\\'abord réaliser cet aménagement en \"coronapiste\" jaune provisoire afin de ne pas bloquer des possibilités d\\'améliorations futures en cas de pérennisation. Ce choix permettrait aussi de réduire les coûts et d\\'avoir une piste à moindre frais !Modalités de réalisation - Avis technique :Expérimentation d\\'une mise à sens unique de la rue Henri Desbals entre Fontaine Lestang et Déodat de Séverac afin de créer une piste cyclable bidirectionnelle pour faciliter et sécuriser le déplacement des cyclistes. La mise en sens unique du reste de la rue nécessite une étude de circulation plus globale menée à l’échelle du quartier afin d’en mesurer les impacts. Cette portion a donc été écartée dans le cadre de cet appel à idées mais sera étudiée ultérieurement.'}]\n",
      "\n",
      "Your task is to compare the semantic content of the target project description to each of the other descriptions. Determine which projects are most similar based **only on the semantic similarity between the descriptions** (ignore any metadata, IDs, or structure beyond the text content).\n",
      "\n",
      "Return a ranked list of all the project IDs, from most similar to least similar. Include all projects, even those that are not semantically related.\n",
      "\n",
      "(Optional Example to guide behavior):\n",
      "\n",
      "Example:\n",
      "Target: {\"id\": \"p4\", \"description\":\"La construction d'une école primaire écologique en région rurale.\"}\n",
      "Other projects:\n",
      "[\n",
      "  {\"id\": \"p1\", \"description\": \"Création d'un centre médical.\"},\n",
      "  {\"id\": \"p2\", \"description\": \"Construction d'un bâtiment scolaire pour 500 élèves.\"},\n",
      "  {\"id\": \"p3\", \"description\": \"Aménagement d’un parc de loisirs.\"}\n",
      "]\n",
      "Most similar to least similar:\n",
      "p2, p1, p3\n",
      "\n"
     ]
    }
   ],
   "source": [
    "print(similarity_template_en)"
   ]
  },
  {
   "cell_type": "code",
   "execution_count": 16,
   "id": "f76dd953-cba5-40c4-8ad8-e18e916ce891",
   "metadata": {},
   "outputs": [
    {
     "name": "stdout",
     "output_type": "stream",
     "text": [
      "target_project=51 ranked_similar_projects=[56, 50, 58]\n"
     ]
    }
   ],
   "source": [
    "similarity_response = chat(\n",
    "    messages = [\n",
    "        {\n",
    "            'role': 'user',\n",
    "            'content': similarity_template_en\n",
    "        }\n",
    "    ],\n",
    "    model='deepseek-r1:1.5b',\n",
    "    format = ResponseFormatter.model_json_schema(),\n",
    ")\n",
    "\n",
    "similarity_response = ResponseFormatter.model_validate_json(similarity_response.message.content)\n",
    "print(similarity_response)"
   ]
  },
  {
   "cell_type": "markdown",
   "id": "04272b5e-39f5-4ea7-84ed-581d607775ba",
   "metadata": {},
   "source": [
    "**CASE 3-Overlapping voters case**"
   ]
  },
  {
   "cell_type": "code",
   "execution_count": 17,
   "id": "adc9d36a-8543-407d-a426-5fd34534c63e",
   "metadata": {},
   "outputs": [
    {
     "name": "stdout",
     "output_type": "stream",
     "text": [
      "CASE 3 Winning projects\n",
      "      project_id                                       project_name  votes\n",
      "34          156  Aménager le Rond-Point des Français Libres et ...    178\n",
      "128         157  Plantation d'arbres et diversification de la p...    128\n",
      "149         153                Réduction de la pollution lumineuse    113\n",
      "58          155              Lutter contre la pollution des mégots     63\n",
      "3           149  Un jardin en mouvement le long de la voie ferr...     50\n",
      "CASE 3 Loosing projects\n",
      "      project_id                                       project_name  votes\n",
      "165         151                     Aménager la place Henri Russel     98\n",
      "144         150           Coup de pinceau sur le béton du quartier     56\n",
      "99          154                         Nichoirs pour des mésanges     44\n",
      "159         148             Plan du voisinage aux sorties de métro     24\n",
      "187         152  Aire de jeux accessible à tous au jardin du Pa...     14\n"
     ]
    }
   ],
   "source": [
    "case_3_district_projects = aggregatedProjectsDF[aggregatedProjectsDF['src_district_code'] == 5.3].copy()\n",
    "case_3_district_winning_projects = case_3_district_projects[case_3_district_projects['approved_binary']==1]\n",
    "case_3_district_losing_projects = case_3_district_projects[case_3_district_projects['approved_binary']==0]\n",
    "print(\"CASE 3 Winning projects\\n\",case_3_district_winning_projects[['project_id','project_name', 'votes']].sort_values(by='votes', ascending=False))\n",
    "print(\"CASE 3 Loosing projects\\n\", case_3_district_losing_projects[['project_id','project_name', 'votes']].sort_values(by='votes', ascending=False))\n"
   ]
  },
  {
   "cell_type": "code",
   "execution_count": 18,
   "id": "c9af386c-872f-47a1-9590-17f08ca5f4fe",
   "metadata": {},
   "outputs": [
    {
     "name": "stdout",
     "output_type": "stream",
     "text": [
      "target project->151 | project_compared_to->149 | overlapping_score_to_target->0.061224489795918366\n",
      "Overlapping voters\n",
      "[4896, 5101, 4913, 1782, 4759, 5017] \n",
      "\n",
      "target project->151 | project_compared_to->156 | overlapping_score_to_target->0.6632653061224489\n",
      "Overlapping voters\n",
      "[4491, 1037, 4750, 1805, 2576, 1681, 18, 5008, 1301, 2711, 1434, 2716, 2720, 2721, 3874, 4900, 1063, 4906, 813, 1327, 1842, 4147, 3636, 2742, 1591, 4406, 2617, 1335, 2871, 5050, 1597, 2749, 4028, 2499, 2756, 4422, 3912, 715, 77, 2893, 3534, 4049, 5075, 1493, 2902, 2776, 2777, 4186, 5083, 3934, 3170, 4195, 4837, 615, 1129, 3309, 5101, 2416, 3697, 4594, 4979, 2804, 2807, 2043, 893] \n",
      "\n",
      "target project->151 | project_compared_to->155 | overlapping_score_to_target->0.061224489795918366\n",
      "Overlapping voters\n",
      "[165, 4841, 3309, 2871, 4889, 4186] \n",
      "\n",
      "target project->151 | project_compared_to->157 | overlapping_score_to_target->0.19387755102040816\n",
      "Overlapping voters\n",
      "[1681, 4759, 3352, 2716, 1951, 2721, 3874, 4900, 813, 4913, 2756, 4422, 4960, 4195, 615, 4466, 4979, 2807, 4474] \n",
      "\n",
      "target project->151 | project_compared_to->153 | overlapping_score_to_target->0.11224489795918367\n",
      "Overlapping voters\n",
      "[100, 3912, 4491, 1037, 4750, 5232, 5075, 2711, 2617, 1434, 2043] \n",
      "\n"
     ]
    }
   ],
   "source": [
    "case_3_target_project_id = 151\n",
    "\n",
    "for index, row in case_3_district_winning_projects.iterrows():\n",
    "    result = compute_voter_overlap(case_3_target_project_id, row['project_id'], electionDetails)\n",
    "    print(f\"target project->{case_3_target_project_id} | project_compared_to->{row['project_id']} | overlapping_score_to_target->{result['overlap_percentage_target_project']}\")\n",
    "    print(\"Overlapping voters\")\n",
    "    print(result['overlapping_voters'],\"\\n\")"
   ]
  },
  {
   "cell_type": "markdown",
   "id": "b1232a28-c5e8-4500-9cf3-4462af04a59a",
   "metadata": {},
   "source": [
    "**We can also try a different approach for the pipeline**  \n",
    "Instead of using the LLM for the semantic comparison between descriptions, we can use embeddings, they are faster and deterministic  "
   ]
  },
  {
   "cell_type": "code",
   "execution_count": 19,
   "id": "77ee10c9-f8b4-4417-8d70-3e0b3f7910fc",
   "metadata": {
    "scrolled": true
   },
   "outputs": [
    {
     "data": {
      "application/vnd.jupyter.widget-view+json": {
       "model_id": "8eb1a248a66b498885717c33f6883a8d",
       "version_major": 2,
       "version_minor": 0
      },
      "text/plain": [
       "modules.json:   0%|          | 0.00/349 [00:00<?, ?B/s]"
      ]
     },
     "metadata": {},
     "output_type": "display_data"
    },
    {
     "data": {
      "application/vnd.jupyter.widget-view+json": {
       "model_id": "b29dcd71198b429b87670c1c4fde01c4",
       "version_major": 2,
       "version_minor": 0
      },
      "text/plain": [
       "config_sentence_transformers.json:   0%|          | 0.00/284 [00:00<?, ?B/s]"
      ]
     },
     "metadata": {},
     "output_type": "display_data"
    },
    {
     "data": {
      "application/vnd.jupyter.widget-view+json": {
       "model_id": "3b95f5b5db5e4529b291d9e55f22183d",
       "version_major": 2,
       "version_minor": 0
      },
      "text/plain": [
       "README.md:   0%|          | 0.00/146k [00:00<?, ?B/s]"
      ]
     },
     "metadata": {},
     "output_type": "display_data"
    },
    {
     "data": {
      "application/vnd.jupyter.widget-view+json": {
       "model_id": "8010f7921388461ba3ad01042122e1e9",
       "version_major": 2,
       "version_minor": 0
      },
      "text/plain": [
       "sentence_bert_config.json:   0%|          | 0.00/55.0 [00:00<?, ?B/s]"
      ]
     },
     "metadata": {},
     "output_type": "display_data"
    },
    {
     "data": {
      "application/vnd.jupyter.widget-view+json": {
       "model_id": "bea37b293a124634939a0b9dbab8c4e5",
       "version_major": 2,
       "version_minor": 0
      },
      "text/plain": [
       "config.json:   0%|          | 0.00/901 [00:00<?, ?B/s]"
      ]
     },
     "metadata": {},
     "output_type": "display_data"
    },
    {
     "data": {
      "application/vnd.jupyter.widget-view+json": {
       "model_id": "4a55b93130b84797a3998ca4f7345820",
       "version_major": 2,
       "version_minor": 0
      },
      "text/plain": [
       "model.safetensors.index.json:   0%|          | 0.00/27.8k [00:00<?, ?B/s]"
      ]
     },
     "metadata": {},
     "output_type": "display_data"
    },
    {
     "data": {
      "application/vnd.jupyter.widget-view+json": {
       "model_id": "b405d5328b85473fade5afc718814682",
       "version_major": 2,
       "version_minor": 0
      },
      "text/plain": [
       "Fetching 2 files:   0%|          | 0/2 [00:00<?, ?it/s]"
      ]
     },
     "metadata": {},
     "output_type": "display_data"
    },
    {
     "data": {
      "application/vnd.jupyter.widget-view+json": {
       "model_id": "205aa4e7714844a8ab2a7d9b65584b01",
       "version_major": 2,
       "version_minor": 0
      },
      "text/plain": [
       "model-00002-of-00002.safetensors:   0%|          | 0.00/2.11G [00:00<?, ?B/s]"
      ]
     },
     "metadata": {},
     "output_type": "display_data"
    },
    {
     "data": {
      "application/vnd.jupyter.widget-view+json": {
       "model_id": "ce8c85859ff34a3c8eef8ebc82b19860",
       "version_major": 2,
       "version_minor": 0
      },
      "text/plain": [
       "model-00001-of-00002.safetensors:   0%|          | 0.00/4.99G [00:00<?, ?B/s]"
      ]
     },
     "metadata": {},
     "output_type": "display_data"
    },
    {
     "data": {
      "application/vnd.jupyter.widget-view+json": {
       "model_id": "a2074cb27bf346d7bc911d0fd5bc809b",
       "version_major": 2,
       "version_minor": 0
      },
      "text/plain": [
       "Loading checkpoint shards:   0%|          | 0/2 [00:00<?, ?it/s]"
      ]
     },
     "metadata": {},
     "output_type": "display_data"
    },
    {
     "data": {
      "application/vnd.jupyter.widget-view+json": {
       "model_id": "e9d2e09c7213439e8d2e9cc3d9d2fabc",
       "version_major": 2,
       "version_minor": 0
      },
      "text/plain": [
       "tokenizer_config.json:   0%|          | 0.00/1.31k [00:00<?, ?B/s]"
      ]
     },
     "metadata": {},
     "output_type": "display_data"
    },
    {
     "data": {
      "application/vnd.jupyter.widget-view+json": {
       "model_id": "3edec2cc397947458ab9595b9414a372",
       "version_major": 2,
       "version_minor": 0
      },
      "text/plain": [
       "vocab.json:   0%|          | 0.00/2.78M [00:00<?, ?B/s]"
      ]
     },
     "metadata": {},
     "output_type": "display_data"
    },
    {
     "data": {
      "application/vnd.jupyter.widget-view+json": {
       "model_id": "62e7214fd5134b8ab6a4ec956288c60a",
       "version_major": 2,
       "version_minor": 0
      },
      "text/plain": [
       "merges.txt:   0%|          | 0.00/1.67M [00:00<?, ?B/s]"
      ]
     },
     "metadata": {},
     "output_type": "display_data"
    },
    {
     "data": {
      "application/vnd.jupyter.widget-view+json": {
       "model_id": "2ed44d7e4cfd49ffbc657019d51f0fe3",
       "version_major": 2,
       "version_minor": 0
      },
      "text/plain": [
       "tokenizer.json:   0%|          | 0.00/7.03M [00:00<?, ?B/s]"
      ]
     },
     "metadata": {},
     "output_type": "display_data"
    },
    {
     "data": {
      "application/vnd.jupyter.widget-view+json": {
       "model_id": "10cfb45e748b4b05bd4fac87ac638fc8",
       "version_major": 2,
       "version_minor": 0
      },
      "text/plain": [
       "added_tokens.json:   0%|          | 0.00/80.0 [00:00<?, ?B/s]"
      ]
     },
     "metadata": {},
     "output_type": "display_data"
    },
    {
     "data": {
      "application/vnd.jupyter.widget-view+json": {
       "model_id": "1308f9d53915431a8ee6f58c8054dda0",
       "version_major": 2,
       "version_minor": 0
      },
      "text/plain": [
       "special_tokens_map.json:   0%|          | 0.00/370 [00:00<?, ?B/s]"
      ]
     },
     "metadata": {},
     "output_type": "display_data"
    },
    {
     "data": {
      "application/vnd.jupyter.widget-view+json": {
       "model_id": "7fe349c5a88e41648325e327526f82c2",
       "version_major": 2,
       "version_minor": 0
      },
      "text/plain": [
       "config.json:   0%|          | 0.00/297 [00:00<?, ?B/s]"
      ]
     },
     "metadata": {},
     "output_type": "display_data"
    },
    {
     "name": "stdout",
     "output_type": "stream",
     "text": [
      "{'project_id': 51, 'description': \"Bonjour, Je pense que beaucoup de choses peuvent être améliorées. La première qui me vient à l'esprit est la question de l'environnement urbain. Nous allons vivre des années de plus en plus chaudes et je pense que ces pics de chaleur vont particulièrement se faire ressentir dans les villes où le béton absorbe de façon conséquente la chaleur. Personnellement, quand l'été arrive j'ai souvent l'impression d'étouffer. C'est pourquoi je pense que la végétalisation des espaces serait une solution efficace pour contrer la chaleur. Cela permettrait de créer des zones d'ombres, de faire baisser les températures, d'apporter un peu d'air et de casser l'aspect béton. Il me semble que beaucoup de gens aspirent à voir la nature un peu plus présente en ville ! J'habite dans le quartier des arènes où certes quelques arbres ont été plantés, mais cela ne me semble pas suffisant. Il serait tellement plus agréable de voir de l'herbe, des fleurs et cie à la place de ces trottoirs et allées bétonnées. Merci pour le temps que vous aurez accordé à la lecture de mon idéeModalités de réalisation - Avis technique :Végétalisation autour de la place Emile Male, et sur la route de Saint Simon en remplaçant certaines places de stationnement à proximité des arènes afin de réduire les espaces bétonnés et limiter les fortes températures estivales.\", 'embedded_description': array([-0.01821941, -0.02893982,  0.01455421, ..., -0.02006643,\n",
      "       -0.04194576, -0.01144667], dtype=float32)}\n"
     ]
    }
   ],
   "source": [
    "sentence = target_project['description']\n",
    "# sentence-transformers/LaBSE Alibaba-NLP/gte-Qwen2-1.5B-instruct\n",
    "model = SentenceTransformer('Alibaba-NLP/gte-Qwen2-1.5B-instruct', device='cpu')\n",
    "embeddings = model.encode(sentence)\n",
    "\n",
    "embedded_target_project = {\n",
    "    \"project_id\": target_project['id'],\n",
    "    \"description\": target_project['description'],\n",
    "    \"embedded_description\": embeddings\n",
    "}\n",
    "print(embedded_target_project)"
   ]
  },
  {
   "cell_type": "code",
   "execution_count": 20,
   "id": "a61e89aa-0134-49a8-ba06-c018da7b6a88",
   "metadata": {},
   "outputs": [
    {
     "name": "stdout",
     "output_type": "stream",
     "text": [
      "(1536,)\n"
     ]
    }
   ],
   "source": [
    "print(embeddings.shape)"
   ]
  },
  {
   "cell_type": "code",
   "execution_count": 21,
   "id": "f3b1732e-13e3-4002-9ed8-d609d0f23614",
   "metadata": {},
   "outputs": [],
   "source": [
    "embedded_winning_projects = []\n",
    "\n",
    "for index, row in district_winning_projects.iterrows():\n",
    "    proj_obj = {\n",
    "    \"project_id\": row['project_id'],\n",
    "    \"description\": row['description'],\n",
    "    \"embedded_description\": model.encode(row['description'])\n",
    "    }\n",
    "    embedded_winning_projects.append(proj_obj)"
   ]
  },
  {
   "cell_type": "code",
   "execution_count": 22,
   "id": "7b84d925-0432-4e7f-b563-406a2599a50f",
   "metadata": {},
   "outputs": [
    {
     "name": "stdout",
     "output_type": "stream",
     "text": [
      "56\n",
      "60\n",
      "52\n",
      "58\n",
      "4\n"
     ]
    }
   ],
   "source": [
    "for embedded_winning_project in embedded_winning_projects:\n",
    "    print(embedded_winning_project['project_id'])\n",
    "embedding_winners = [x['embedded_description'] for x in embedded_winning_projects]\n",
    "print(len(embedding_winners))"
   ]
  },
  {
   "cell_type": "code",
   "execution_count": 23,
   "id": "3119b136-01da-4166-a100-9e2b2f4508f6",
   "metadata": {},
   "outputs": [
    {
     "name": "stderr",
     "output_type": "stream",
     "text": [
      "/home/samuel-malaga/Documents/Master2IS/Stage M1/M2IS-Internship-XAI/env/lib/python3.12/site-packages/sentence_transformers/util.py:44: UserWarning: Creating a tensor from a list of numpy.ndarrays is extremely slow. Please consider converting the list to a single numpy.ndarray with numpy.array() before converting to a tensor. (Triggered internally at /pytorch/torch/csrc/utils/tensor_new.cpp:254.)\n",
      "  a = torch.tensor(a)\n"
     ]
    }
   ],
   "source": [
    "similarities = model.similarity(embedded_target_project['embedded_description'],embedding_winners)"
   ]
  },
  {
   "cell_type": "code",
   "execution_count": 24,
   "id": "2bd779cf-c594-42ab-96d1-54024a2d204f",
   "metadata": {},
   "outputs": [
    {
     "name": "stdout",
     "output_type": "stream",
     "text": [
      "tensor([[0.7539, 0.7389, 0.8527, 0.7960]])\n"
     ]
    }
   ],
   "source": [
    "print(similarities)"
   ]
  },
  {
   "cell_type": "markdown",
   "id": "1600cc2d-31ba-41ec-aa6e-b8f59827444e",
   "metadata": {},
   "source": [
    "**This works significantly faster and more consistent than the conversational model option but the similarity values can be different from model to model**  \n",
    "Benchmark the most performant models can be a good idea"
   ]
  },
  {
   "cell_type": "code",
   "execution_count": null,
   "id": "92fe2c88-7a94-4bd1-9990-746fb54a325f",
   "metadata": {},
   "outputs": [],
   "source": []
  }
 ],
 "metadata": {
  "kernelspec": {
   "display_name": "Python 3 (ipykernel)",
   "language": "python",
   "name": "python3"
  },
  "language_info": {
   "codemirror_mode": {
    "name": "ipython",
    "version": 3
   },
   "file_extension": ".py",
   "mimetype": "text/x-python",
   "name": "python",
   "nbconvert_exporter": "python",
   "pygments_lexer": "ipython3",
   "version": "3.12.3"
  }
 },
 "nbformat": 4,
 "nbformat_minor": 5
}
