{
 "cells": [
  {
   "cell_type": "markdown",
   "id": "1ff40cde-2b10-42b8-b824-523b8b744d38",
   "metadata": {},
   "source": [
    "## This is a descriptive analysis to verify the current state of the elections of 2022 in toulouse for participatory budget\n",
    "\n",
    "This notebook is based on the output of another notebook that was created by Juan Ignacio"
   ]
  },
  {
   "cell_type": "markdown",
   "id": "4df9985b-523d-45a8-bcca-794fc37cf067",
   "metadata": {},
   "source": [
    "#### Imports"
   ]
  },
  {
   "cell_type": "code",
   "execution_count": 1,
   "id": "c88c20f9-bc99-42e8-bcd7-09d65b060d01",
   "metadata": {},
   "outputs": [
    {
     "data": {
      "text/html": [
       "\n",
       "            <div>\n",
       "                <ins><a href=\"https://ydata.ai/register\">Upgrade to ydata-sdk</a></ins>\n",
       "                <p>\n",
       "                    Improve your data and profiling with ydata-sdk, featuring data quality scoring, redundancy detection, outlier identification, text validation, and synthetic data generation.\n",
       "                </p>\n",
       "            </div>\n",
       "            "
      ],
      "text/plain": [
       "<IPython.core.display.HTML object>"
      ]
     },
     "metadata": {},
     "output_type": "display_data"
    }
   ],
   "source": [
    "import pandas as pd\n",
    "import numpy as np\n",
    "import matplotlib.pyplot as plt\n",
    "from ydata_profiling import ProfileReport\n"
   ]
  },
  {
   "cell_type": "markdown",
   "id": "b4896fa4-6249-4f61-89ba-3291369ae1a8",
   "metadata": {},
   "source": [
    "#### Loading the datasources"
   ]
  },
  {
   "cell_type": "code",
   "execution_count": 2,
   "id": "4b67d8b5-a8f2-4d55-bcff-fc45a67b79ae",
   "metadata": {},
   "outputs": [
    {
     "name": "stdout",
     "output_type": "stream",
     "text": [
      "Election aggregated projects Index(['project_id', 'project_name', 'description', 'category', 'cost',\n",
      "       'district', 'votes'],\n",
      "      dtype='object') \n",
      "\n",
      "Election details Index(['ID', 'project_id', 'project_title', 'created_at', 'checked_out_at',\n",
      "       'project_url', 'vote_finished'],\n",
      "      dtype='object') \n",
      "\n",
      "Election results Index(['Quartier', 'Catégorie', 'Titre de l'idée', 'Montant', 'VOIX',\n",
      "       'Total par quartier', 'Hypothèse \\nRepêchage', 'Nb projets'],\n",
      "      dtype='object') \n",
      "\n"
     ]
    }
   ],
   "source": [
    "aggregatedProjectsDF = pd.read_csv('projectsAgg2.csv',sep=\";\")\n",
    "electionDetailsDF = pd.read_csv('projectDetails.csv', sep=\";\")\n",
    "xlsx = pd.ExcelFile('/home/samuel-malaga/Documents/Master2IS/Stage M1/M2IS-Internship-XAI/PBToulouse2022/Copie de Resultats BP31102022-.xlsx')\n",
    "electionResultsDF = pd.read_excel(xlsx,'lauréats')\n",
    "##Drop the last summary row in the dataframe\n",
    "electionResultsDF.drop(electionResultsDF.tail(1).index,inplace=True)\n",
    "\n",
    "print(\"Election aggregated projects\", aggregatedProjectsDF.columns,\"\\n\")\n",
    "print(\"Election details\",electionDetailsDF.columns,\"\\n\")\n",
    "print(\"Election results\", electionResultsDF.columns,\"\\n\")"
   ]
  },
  {
   "cell_type": "code",
   "execution_count": 3,
   "id": "d8aff8da-d398-42b9-95a1-ee960e9f7306",
   "metadata": {},
   "outputs": [],
   "source": [
    "electionDetailsDF['created_at'] = pd.to_datetime(electionDetailsDF['created_at'])\n",
    "electionDetailsDF['checked_out_at'] = pd.to_datetime(electionDetailsDF['checked_out_at'])\n",
    "electionDetailsDF['session_duration'] = electionDetailsDF['checked_out_at'] - electionDetailsDF['created_at']\n",
    "aggregatedProjectsDF['title_length'] = aggregatedProjectsDF['project_name'].str.len()\n",
    "aggregatedProjectsDF['description_length'] = aggregatedProjectsDF['description'].str.len()"
   ]
  },
  {
   "cell_type": "markdown",
   "id": "dfd50b71-fe4d-4030-8d2f-99f1ab72c847",
   "metadata": {},
   "source": [
    "#### Performing some cleaning and mapping before analyzing"
   ]
  },
  {
   "cell_type": "code",
   "execution_count": 4,
   "id": "5c7b5c88-03f7-4c6a-9b21-baf9af63d9e7",
   "metadata": {},
   "outputs": [
    {
     "name": "stdout",
     "output_type": "stream",
     "text": [
      "['12 - Pont des Demoiselles / Ormeau / Montaudran / La Terrasse / Malepère'\n",
      " '8 - Minimes / Barrière de Paris / Ponts-Jumeaux / La Vache / Raisins / Fondeyre'\n",
      " \"11 - Bonhoure / Guilheméry / Château de l'Hers / Limayrac / Côte Pavée\"\n",
      " '5 - Saint-Michel / Saint-Agne / Empalot / Le Busca / Ile du Ramier / Monplaisir'\n",
      " '7 - Sept Deniers / Ginestous-Sesquières / Lalande'\n",
      " \"15 - Croix de Pierre / Route d'Espagne\"\n",
      " '17 - Mirail-Université / Reynerie / Bellefontaine'\n",
      " '9 - Trois Cocus / Borderouge / Croix-Daurade / Paléficat / Grand Selve'\n",
      " '4 - Lapujade / Bonnefoy / Périole / Marengo / La Colonne'\n",
      " '18 - Lardenne / Pradettes / Basso-Cambo'\n",
      " '20 - Arènes Romaines / Ancely / Saint-Martin du Touch / Purpan'\n",
      " '1 - Capitole / Arnaud Bernard / Carmes'\n",
      " '13 - Rangueil / Sauzelong / Jules-Julien / Pech-David / Pouvourville'\n",
      " '14 - Saint-Simon / Lafourguette / Oncopole-Campus Santé du Futur'\n",
      " '6 - Saint-Cyprien'\n",
      " '16 - Fontaine-Lestang / Arènes / Bagatelle / Papus / Tabar / Bordelongue / Mermoz / La Faourette'\n",
      " '3 - Les Chalets / Bayard / Belfort / Saint Aubin / Dupuy'\n",
      " '2 - Amidonniers / Compans-Caffarelli / Brouardel'\n",
      " '19 - Casselardit / Fontaine-Bayonne / Cartoucherie'\n",
      " '10 - Jolimont / Soupetard / Roseraie / Gloire / Gramont / Amouroux']\n",
      "20\n",
      "[12  8 11  5  7 15 17  9  4 18 20  1 13 14  6 16  3  2 19 10]\n",
      "20\n"
     ]
    }
   ],
   "source": [
    "##Unique districts from the aggregated projects\n",
    "print(aggregatedProjectsDF['district'].unique())\n",
    "print(len(aggregatedProjectsDF['district'].unique()))\n",
    "\n",
    "##Separating district number from the district description\n",
    "## add_district_code stands for district code from the aggregated values (most likely the data that was scraped had different codes than the\n",
    "## source data)\n",
    "aggregatedProjectsDF[['agg_district_code', 'agg_quartiers']] = aggregatedProjectsDF['district'].str.extract(r'^(\\d+)\\s*-\\s*(.+)$')\n",
    "aggregatedProjectsDF['agg_district_code'] = aggregatedProjectsDF['agg_district_code'].astype(int)\n",
    "print(aggregatedProjectsDF['agg_district_code'].unique())\n",
    "print(len(aggregatedProjectsDF['agg_district_code'].unique()))\n"
   ]
  },
  {
   "cell_type": "code",
   "execution_count": 5,
   "id": "8329af66-c909-42f6-a844-bd9e7fac3a54",
   "metadata": {},
   "outputs": [
    {
     "name": "stdout",
     "output_type": "stream",
     "text": [
      "['1.1 - Capitole / Arnaud Bernard / Carmes'\n",
      " '1.2 - Amidonniers / Compans-Caffarelli'\n",
      " '1.3 - Les Chalets / Bayard / Belfort / Saint Aubin / Dupuy'\n",
      " '2.1 - Saint-Cyprien' \"2.2 - Croix-de-Pierre / Route d'Espagne\"\n",
      " '2.3 - Fontaine-Lestang / Arènes / Bagatelle / Papus / Tabar / Bordelongue / Mermoz / La Faourette'\n",
      " '2.4 - Casselardit / Fontaine-Bayonne / Cartoucherie'\n",
      " '3.1 - Minimes / Barrière de Paris / Ponts-Jumeaux'\n",
      " '3.2 - Sept-Deniers / Ginestous / Lalande'\n",
      " '3.3 - Trois Cocus / Borderouge / Croix Daurade / Paléficat / Grand Selve'\n",
      " '4.1 - Lapujade / Bonnefoy / Périole / Marengo / La Colonne'\n",
      " '4.2 - Jolimont / Soupetard / Roseraie / Gloire / Gramont / Amouroux'\n",
      " \"4.3 - Bonhoure / Guilheméry / Château de l'Hers / Limayrac / Côte Pavée\"\n",
      " '5.1 - Pont des Demoiselles / Ormeau / Montaudran / La Terrasse / Malepère'\n",
      " '5.2 - Rangueil / Sauzelong / Pech-David / Pouvourville'\n",
      " '5.3 - Saint-Michel / Le Busca / Empalot / Saint-Agne / Ile du Ramier'\n",
      " '6.1 - Arènes Romaines / Saint-Martin-du-Touch / Purpan'\n",
      " '6.2 - Lardenne / Pradettes / Basso-Cambo'\n",
      " '6.3 - Mirail-Université / Reynerie / Bellefontaine'\n",
      " '6.4 - Saint-Simon / Lafourguette / Oncopole']\n",
      "20\n",
      "['1.1' '1.2' '1.3' '2.1' '2.2' '2.3' '2.4' '3.1' '3.2' '3.3' '4.1' '4.2'\n",
      " '4.3' '5.1' '5.2' '5.3' '6.1' '6.2' '6.3' '6.4']\n",
      "20\n"
     ]
    }
   ],
   "source": [
    "##Unique districts from the election results\n",
    "print(electionResultsDF['Quartier'].unique())\n",
    "print(len(electionResultsDF['Quartier'].unique()))\n",
    "\n",
    "##Separating the district number from the district description\n",
    "## src_district_code stand for source district code and it refers to the distric codes that were inputted in the dataset from 2022\n",
    "electionResultsDF[['src_district_code','src_quartiers']] = electionResultsDF['Quartier'].str.extract(r'([0-9]+\\.[0-9]+)\\s*-\\s*(.*)')\n",
    "print(electionResultsDF['src_district_code'].unique())\n",
    "print(len(electionResultsDF['src_district_code'].unique()))"
   ]
  },
  {
   "cell_type": "code",
   "execution_count": 6,
   "id": "c0d6a077-df92-4a48-998c-9a34a0683310",
   "metadata": {},
   "outputs": [
    {
     "name": "stdout",
     "output_type": "stream",
     "text": [
      "   src_district_code  agg_district_code\n",
      "0                5.1                 12\n",
      "1                3.1                  8\n",
      "2                4.3                 11\n",
      "3                5.3                  5\n",
      "6                3.2                  7\n",
      "7                2.2                 15\n",
      "8                6.3                 17\n",
      "9                3.3                  9\n",
      "13               4.1                  4\n",
      "15               6.2                 18\n",
      "18               6.1                 20\n",
      "21               1.1                  1\n",
      "22               5.2                 13\n",
      "26               6.4                 14\n",
      "27               2.1                  6\n",
      "32               2.3                 16\n",
      "35               1.3                  3\n",
      "38               1.2                  2\n",
      "42               2.4                 19\n",
      "51               4.2                 10\n"
     ]
    }
   ],
   "source": [
    "##Preparation to merge the district codes from the source to the aggregated dataset\n",
    "district_mapping = {\n",
    "    1: '1.1', 2: '1.2', 3: '1.3', 4: '4.1', 5: '5.3', 6: '2.1', \n",
    "    7: '3.2', 8: '3.1', 9: '3.3', 10: '4.2', 11: '4.3', 12: '5.1', \n",
    "    13: '5.2', 14: '6.4', 15: '2.2', 16: '2.3', 17: '6.3', 18: '6.2', \n",
    "    19: '2.4', 20: '6.1'\n",
    "}\n",
    "\n",
    "aggregatedProjectsDF['src_district_code'] = aggregatedProjectsDF['agg_district_code'].map(district_mapping)\n",
    "\n",
    "print(aggregatedProjectsDF[['src_district_code','agg_district_code']].drop_duplicates())\n"
   ]
  },
  {
   "cell_type": "code",
   "execution_count": 7,
   "id": "120a731b-8233-427c-8539-5b3bbfc471e3",
   "metadata": {},
   "outputs": [],
   "source": [
    "# Create a set of tuples from 'Titre de l'idée' and 'src_district_code' columns in electionResultsDF\n",
    "election_results_tuples = set(zip(electionResultsDF['Titre de l\\'idée'], electionResultsDF['src_district_code']))\n",
    "\n",
    "# Create the 'approved' column by checking if the combination of 'project_name' and 'src_district_code' exists in the set\n",
    "aggregatedProjectsDF['approved'] = aggregatedProjectsDF.apply(\n",
    "    lambda row: (row['project_name'], row['src_district_code']) in election_results_tuples, axis=1\n",
    ")\n",
    "\n",
    "aggregatedProjectsDF['approved_binary'] = aggregatedProjectsDF['approved'].astype(int)"
   ]
  },
  {
   "cell_type": "code",
   "execution_count": 8,
   "id": "30bf53ee-1c77-4f0e-bbec-3f50e858293a",
   "metadata": {},
   "outputs": [
    {
     "name": "stdout",
     "output_type": "stream",
     "text": [
      "Index(['project_id', 'project_name', 'description', 'category', 'cost',\n",
      "       'district', 'votes', 'title_length', 'description_length',\n",
      "       'agg_district_code', 'agg_quartiers', 'src_district_code', 'approved',\n",
      "       'approved_binary'],\n",
      "      dtype='object')\n"
     ]
    }
   ],
   "source": [
    "print(aggregatedProjectsDF.columns)\n",
    "# aggregatedProjectsDF.to_csv(\"projectsAggWResults.csv\")"
   ]
  },
  {
   "cell_type": "markdown",
   "id": "8611eb71-f3f8-4a73-9ffc-41b57abe8149",
   "metadata": {},
   "source": [
    "### Exploratory analysis\n",
    "The following questions are going to be the base for the analysis and then we can improve from that"
   ]
  },
  {
   "cell_type": "markdown",
   "id": "0c5817e1-69cc-4114-84b3-79d119a5b882",
   "metadata": {},
   "source": [
    "**Total number of projects**"
   ]
  },
  {
   "cell_type": "code",
   "execution_count": 9,
   "id": "17fcdc61-9983-4e79-9a72-50bc9397c0a8",
   "metadata": {},
   "outputs": [
    {
     "name": "stdout",
     "output_type": "stream",
     "text": [
      "199\n"
     ]
    }
   ],
   "source": [
    "print(len(aggregatedProjectsDF))"
   ]
  },
  {
   "cell_type": "markdown",
   "id": "60b9a2da-5838-4946-98f4-0a3fc0eb8b1f",
   "metadata": {},
   "source": [
    "**Total number of voters**"
   ]
  },
  {
   "cell_type": "code",
   "execution_count": 10,
   "id": "8abe28bf-22f7-4639-b042-892c590f17c0",
   "metadata": {},
   "outputs": [
    {
     "name": "stdout",
     "output_type": "stream",
     "text": [
      "4532\n"
     ]
    }
   ],
   "source": [
    "print(len(electionDetailsDF[\"ID\"].unique()))"
   ]
  },
  {
   "cell_type": "markdown",
   "id": "a4115c82-ca7d-4029-b579-527e678dbc10",
   "metadata": {},
   "source": [
    "**Count of voters per project**"
   ]
  },
  {
   "cell_type": "code",
   "execution_count": 11,
   "id": "10f2d56e-5153-4943-9657-56618d103ea4",
   "metadata": {},
   "outputs": [
    {
     "name": "stdout",
     "output_type": "stream",
     "text": [
      "     project_id  votes  approved_binary\n",
      "62          136    492                1\n",
      "50            7    467                1\n",
      "23            5    358                1\n",
      "0           132    258                1\n",
      "100          71    243                1\n",
      "..          ...    ...              ...\n",
      "8           181      2                0\n",
      "20           50      2                0\n",
      "79          187      2                0\n",
      "157         176      2                0\n",
      "148         178      2                0\n",
      "\n",
      "[199 rows x 3 columns]\n"
     ]
    }
   ],
   "source": [
    "print(aggregatedProjectsDF[['project_id','votes','approved_binary']].sort_values('votes', ascending=False))"
   ]
  },
  {
   "cell_type": "markdown",
   "id": "3423dedb-bd6b-4688-8442-66332f82a7ea",
   "metadata": {},
   "source": [
    "**What are the avaliable categories of projects?**"
   ]
  },
  {
   "cell_type": "code",
   "execution_count": 12,
   "id": "1b7a15ba-f483-44fc-b5ed-836363f018f2",
   "metadata": {},
   "outputs": [
    {
     "name": "stdout",
     "output_type": "stream",
     "text": [
      "['Nature en ville' 'Cadre de vie' 'Éco-mobilité'\n",
      " 'Consommation responsable' 'Énergie' 'Déchets et Recyclage']\n"
     ]
    }
   ],
   "source": [
    "print(aggregatedProjectsDF['category'].unique())"
   ]
  },
  {
   "cell_type": "markdown",
   "id": "06316f3b-0bbf-4cfa-a030-9e07d69d0aa2",
   "metadata": {},
   "source": [
    "**Frequency distribution of the voters**  \n",
    "How many voters voted only for one project, two projects and three projects"
   ]
  },
  {
   "cell_type": "code",
   "execution_count": 13,
   "id": "d93270a7-f8c6-4be7-b641-dd2ebde3a0b8",
   "metadata": {},
   "outputs": [
    {
     "name": "stdout",
     "output_type": "stream",
     "text": [
      "project_title\n",
      "1     872\n",
      "2     250\n",
      "3    3410\n",
      "Name: count, dtype: int64\n"
     ]
    }
   ],
   "source": [
    "voters_project_count = electionDetailsDF.groupby('ID')['project_title'].nunique()\n",
    "print(voters_project_count.value_counts().sort_index())"
   ]
  },
  {
   "cell_type": "markdown",
   "id": "ea07b22f-87ed-4d5d-8da2-7afeac0a0ef4",
   "metadata": {},
   "source": [
    "**How many projects were proposed per district**  "
   ]
  },
  {
   "cell_type": "code",
   "execution_count": 14,
   "id": "47415430-b2cb-4cee-bb6e-0d23f9a0f53a",
   "metadata": {},
   "outputs": [
    {
     "name": "stdout",
     "output_type": "stream",
     "text": [
      "agg_district_code\n",
      "1     10\n",
      "2     10\n",
      "3     10\n",
      "4     10\n",
      "5     10\n",
      "6     10\n",
      "7     10\n",
      "8     10\n",
      "9      9\n",
      "10    10\n",
      "11    10\n",
      "12    10\n",
      "13    10\n",
      "14    10\n",
      "15    10\n",
      "16    10\n",
      "17    10\n",
      "18    10\n",
      "19    10\n",
      "20    10\n",
      "Name: project_name, dtype: int64\n"
     ]
    }
   ],
   "source": [
    "projects_per_district = aggregatedProjectsDF.groupby('agg_district_code')['project_name'].nunique()\n",
    "print(projects_per_district)"
   ]
  },
  {
   "cell_type": "markdown",
   "id": "aed8c562-5c8d-4990-b697-ae6491aac15a",
   "metadata": {},
   "source": [
    "**Votes per district and number of approved projects**  "
   ]
  },
  {
   "cell_type": "code",
   "execution_count": 15,
   "id": "15685859-8470-4131-a1bd-f32bf7086985",
   "metadata": {},
   "outputs": [
    {
     "name": "stdout",
     "output_type": "stream",
     "text": [
      "                   total_votes  winning_projects_per_district\n",
      "agg_district_code                                            \n",
      "1                         1369                              6\n",
      "2                          582                              3\n",
      "3                          524                              3\n",
      "4                          410                              8\n",
      "5                          768                              5\n",
      "6                          778                              4\n",
      "7                          308                              4\n",
      "8                          752                              4\n",
      "9                          329                              7\n",
      "10                         714                              4\n",
      "11                         436                              3\n",
      "12                        1169                              4\n",
      "13                         557                              4\n",
      "14                         404                              4\n",
      "15                         451                              4\n",
      "16                         392                              4\n",
      "17                         105                              2\n",
      "18                         622                              4\n",
      "19                         498                              4\n",
      "20                         438                              2\n"
     ]
    }
   ],
   "source": [
    "votes_per_district = aggregatedProjectsDF.groupby('agg_district_code')['votes'].sum()\n",
    "winning_projects = aggregatedProjectsDF.loc[aggregatedProjectsDF.approved].groupby('agg_district_code').size()\n",
    "\n",
    "result = pd.DataFrame({\n",
    "    'total_votes': votes_per_district,\n",
    "    'winning_projects_per_district': winning_projects\n",
    "}).fillna(0).astype(int)\n",
    "\n",
    "#votes_per_district_sorted = votes_per_district.sort_values(ascending=False)\n",
    "print(result)"
   ]
  },
  {
   "cell_type": "code",
   "execution_count": 16,
   "id": "c0d74b6d-2cef-43dc-a77e-9108761554b1",
   "metadata": {},
   "outputs": [
    {
     "data": {
      "image/png": "[encoded data removed]",
      "text/plain": [
       "<Figure size 1400x600 with 2 Axes>"
      ]
     },
     "metadata": {},
     "output_type": "display_data"
    }
   ],
   "source": [
    "# Sort by total_votes for better readability\n",
    "result_sorted = result.sort_values('total_votes', ascending=False)\n",
    "\n",
    "# Set up figure\n",
    "fig, ax1 = plt.subplots(figsize=(14, 6))\n",
    "\n",
    "# Bar chart for total votes\n",
    "bars = ax1.bar(result_sorted.index.astype(str), result_sorted['total_votes'], color='skyblue', edgecolor='black', label='Total Votes')\n",
    "ax1.set_xlabel('District Code')\n",
    "ax1.set_ylabel('Total Votes', color='blue')\n",
    "ax1.tick_params(axis='y', labelcolor='blue')\n",
    "\n",
    "# Second y-axis for winning projects\n",
    "ax2 = ax1.twinx()\n",
    "ax2.plot(result_sorted.index.astype(str), result_sorted['winning_projects_per_district'], color='darkorange', marker='o', linewidth=2, label='Winning Projects')\n",
    "ax2.set_ylabel('Winning Projects', color='darkorange')\n",
    "ax2.tick_params(axis='y', labelcolor='darkorange')\n",
    "\n",
    "# Titles and layout\n",
    "plt.title('Votes and Approved Projects per District')\n",
    "fig.tight_layout()\n",
    "\n",
    "# Optional: add legend\n",
    "lines_labels = [ax.get_legend_handles_labels() for ax in [ax1, ax2]]\n",
    "lines, labels = [sum(lol, []) for lol in zip(*lines_labels)]\n",
    "ax1.legend(lines, labels, loc='upper right')\n",
    "\n",
    "plt.show()"
   ]
  },
  {
   "cell_type": "markdown",
   "id": "a7e901ee-baeb-4f38-8523-d0fd45fa07e1",
   "metadata": {},
   "source": [
    "**Votes per category**  "
   ]
  },
  {
   "cell_type": "code",
   "execution_count": 17,
   "id": "7342678c-351b-483a-a3cb-c4be5151d932",
   "metadata": {},
   "outputs": [
    {
     "name": "stdout",
     "output_type": "stream",
     "text": [
      "category\n",
      "Nature en ville             5936\n",
      "Éco-mobilité                2562\n",
      "Cadre de vie                2281\n",
      "Énergie                      531\n",
      "Déchets et Recyclage         235\n",
      "Consommation responsable      61\n",
      "Name: votes, dtype: int64\n"
     ]
    }
   ],
   "source": [
    "votes_per_category = aggregatedProjectsDF.groupby('category')['votes'].sum()\n",
    "votes_per_category_sorted = votes_per_category.sort_values(ascending=False)\n",
    "print(votes_per_category_sorted)"
   ]
  },
  {
   "cell_type": "code",
   "execution_count": 18,
   "id": "4d0ba868-e169-4ee2-b3d9-27299de0fdc4",
   "metadata": {},
   "outputs": [
    {
     "data": {
      "image/png": "[encoded data removed]",
      "text/plain": [
       "<Figure size 1000x600 with 1 Axes>"
      ]
     },
     "metadata": {},
     "output_type": "display_data"
    }
   ],
   "source": [
    "# Define a color for each category (must match the number of bars)\n",
    "colors = ['#1f77b4', '#ff7f0e', '#2ca02c', '#d62728', '#9467bd']  # Example: blue, orange, green, red, purple\n",
    "\n",
    "# Set figure size\n",
    "plt.figure(figsize=(10, 6))\n",
    "\n",
    "# Plot the bar chart with custom colors\n",
    "ax = votes_per_category_sorted.plot(kind='bar', color=colors, edgecolor='black')\n",
    "\n",
    "# Customize the plot\n",
    "plt.title('Votes per Category')\n",
    "plt.xlabel('Category')\n",
    "plt.ylabel('Total Votes')\n",
    "plt.xticks(rotation=45, ha='right')\n",
    "\n",
    "# Add value labels\n",
    "for i, value in enumerate(votes_per_category_sorted):\n",
    "    ax.text(i, value + 50, str(value), ha='center', va='bottom')\n",
    "\n",
    "plt.tight_layout()\n",
    "plt.show()"
   ]
  },
  {
   "cell_type": "markdown",
   "id": "8c213e4c-c71a-4136-977a-c3273161859f",
   "metadata": {},
   "source": [
    "**Number of voter per category of winning project**  "
   ]
  },
  {
   "cell_type": "code",
   "execution_count": 19,
   "id": "7021bddd-bb9f-4985-ac23-97052ddbb817",
   "metadata": {},
   "outputs": [
    {
     "name": "stdout",
     "output_type": "stream",
     "text": [
      "category\n",
      "Nature en ville         4914\n",
      "Éco-mobilité            1951\n",
      "Cadre de vie            1087\n",
      "Énergie                  442\n",
      "Déchets et Recyclage     171\n",
      "Name: votes, dtype: int64\n"
     ]
    }
   ],
   "source": [
    "approvedProjects = aggregatedProjectsDF.loc[aggregatedProjectsDF.approved]\n",
    "votes_per_category_winner = approvedProjects.groupby('category')['votes'].sum()\n",
    "votes_per_category_winner = votes_per_category_winner.sort_values(ascending=False)\n",
    "print(votes_per_category_winner)"
   ]
  },
  {
   "cell_type": "code",
   "execution_count": 20,
   "id": "5d567363-c4e6-4c2d-8a65-9b9702955317",
   "metadata": {},
   "outputs": [
    {
     "data": {
      "image/png": "[encoded data removed]",
      "text/plain": [
       "<Figure size 1000x600 with 1 Axes>"
      ]
     },
     "metadata": {},
     "output_type": "display_data"
    }
   ],
   "source": [
    "# Full set of categories and fixed colors\n",
    "category_colors = {\n",
    "    'Nature en ville': '#1f77b4',\n",
    "    'Éco-mobilité': '#ff7f0e',\n",
    "    'Cadre de vie': '#2ca02c',\n",
    "    'Énergie': '#d62728',\n",
    "    'Déchets et Recyclage': '#9467bd'\n",
    "}\n",
    "\n",
    "# Filtered data: only approved projects\n",
    "approvedProjects = aggregatedProjectsDF.loc[aggregatedProjectsDF.approved]\n",
    "votes_per_category_winner = approvedProjects.groupby('category')['votes'].sum()\n",
    "votes_per_category_winner = votes_per_category_winner.sort_values(ascending=False)\n",
    "\n",
    "# Get colors in correct order for the current plot\n",
    "colors = [category_colors[cat] for cat in votes_per_category_winner.index]\n",
    "\n",
    "# Plot\n",
    "plt.figure(figsize=(10, 6))\n",
    "ax = votes_per_category_winner.plot(kind='bar', color=colors, edgecolor='black')\n",
    "\n",
    "# Customize\n",
    "plt.title('Votes per Category (Approved Projects)')\n",
    "plt.xlabel('Category')\n",
    "plt.ylabel('Total Votes')\n",
    "plt.xticks(rotation=45, ha='right')\n",
    "\n",
    "# Add value labels\n",
    "for i, value in enumerate(votes_per_category_winner):\n",
    "    ax.text(i, value + 50, str(value), ha='center', va='bottom')\n",
    "\n",
    "plt.tight_layout()\n",
    "plt.show()"
   ]
  },
  {
   "cell_type": "markdown",
   "id": "05585dce-ea0f-4a5a-8a14-6dc7d99f20ec",
   "metadata": {},
   "source": [
    "**Max project budget**  "
   ]
  },
  {
   "cell_type": "code",
   "execution_count": 21,
   "id": "444e9d1e-5d0e-4cbb-812a-0641ff6bc73a",
   "metadata": {},
   "outputs": [
    {
     "name": "stdout",
     "output_type": "stream",
     "text": [
      "200000.0\n"
     ]
    }
   ],
   "source": [
    "print(aggregatedProjectsDF['cost'].max())"
   ]
  },
  {
   "cell_type": "markdown",
   "id": "e1fefa54-87f4-4f43-9c4f-2a9733a5986c",
   "metadata": {},
   "source": [
    "**Min project budget**  "
   ]
  },
  {
   "cell_type": "code",
   "execution_count": 22,
   "id": "713e7b4b-5cc2-4be5-9d17-1ae437a9c4c5",
   "metadata": {},
   "outputs": [
    {
     "name": "stdout",
     "output_type": "stream",
     "text": [
      "1200.0\n"
     ]
    }
   ],
   "source": [
    "print(aggregatedProjectsDF['cost'].min())"
   ]
  },
  {
   "cell_type": "markdown",
   "id": "3fddcd65-7b75-4481-bc42-7fc099fa677d",
   "metadata": {},
   "source": [
    "**Mean project budget**  "
   ]
  },
  {
   "cell_type": "code",
   "execution_count": 23,
   "id": "315143b1-0174-4f86-b8b9-fb73ce28ae0d",
   "metadata": {},
   "outputs": [
    {
     "name": "stdout",
     "output_type": "stream",
     "text": [
      "79586.53266331658\n"
     ]
    }
   ],
   "source": [
    "print(aggregatedProjectsDF['cost'].mean())"
   ]
  },
  {
   "cell_type": "markdown",
   "id": "f0c81e7f-5717-4d49-8644-062aef410861",
   "metadata": {},
   "source": [
    "**Min session time**  \n",
    "The duration of a voting process, the timediff between the checked out time and the vote finished time"
   ]
  },
  {
   "cell_type": "code",
   "execution_count": 24,
   "id": "2a01bb1a-9ec3-4f59-af60-a01f62ee6354",
   "metadata": {},
   "outputs": [
    {
     "name": "stdout",
     "output_type": "stream",
     "text": [
      "0 days 00:00:02.102000\n"
     ]
    }
   ],
   "source": [
    "print(electionDetailsDF['session_duration'].min())"
   ]
  },
  {
   "cell_type": "markdown",
   "id": "aee0073e-14c6-4ae4-a9cf-8f2ac639e1f1",
   "metadata": {},
   "source": [
    "**Max session time**"
   ]
  },
  {
   "cell_type": "code",
   "execution_count": 25,
   "id": "b2906d31-10e0-48e6-87fb-f9d8f8b320b2",
   "metadata": {},
   "outputs": [
    {
     "name": "stdout",
     "output_type": "stream",
     "text": [
      "23 days 05:08:02.164000\n"
     ]
    }
   ],
   "source": [
    "print(electionDetailsDF['session_duration'].max())"
   ]
  },
  {
   "cell_type": "markdown",
   "id": "f9936f48-fe53-4359-8611-0adf8950bb3b",
   "metadata": {},
   "source": [
    "**Mean session time**"
   ]
  },
  {
   "cell_type": "code",
   "execution_count": 26,
   "id": "a997f0b9-055c-4e6a-83f1-2c83ebd1be5b",
   "metadata": {},
   "outputs": [
    {
     "name": "stdout",
     "output_type": "stream",
     "text": [
      "0 days 04:39:04.790282612\n"
     ]
    }
   ],
   "source": [
    "print(electionDetailsDF['session_duration'].mean())"
   ]
  },
  {
   "cell_type": "markdown",
   "id": "2b68078c-6196-404b-9221-b3b8dec5fc31",
   "metadata": {},
   "source": [
    "**How well the title lenght correlates to the approval of the project**  "
   ]
  },
  {
   "cell_type": "code",
   "execution_count": 27,
   "id": "31a04616-415f-4bb6-b6e9-300ad6270b58",
   "metadata": {},
   "outputs": [
    {
     "name": "stdout",
     "output_type": "stream",
     "text": [
      "Correlation between title length and approval: 0.12025577226355394\n"
     ]
    }
   ],
   "source": [
    "correlation_title = aggregatedProjectsDF['title_length'].corr(aggregatedProjectsDF['approved_binary'])\n",
    "print(f\"Correlation between title length and approval: {correlation_title}\")"
   ]
  },
  {
   "cell_type": "markdown",
   "id": "bc00bd16-2807-4922-afba-17cc6bbdc595",
   "metadata": {},
   "source": [
    "**How well the description lenght correlates to the approval of the project**  "
   ]
  },
  {
   "cell_type": "code",
   "execution_count": 28,
   "id": "d0a5c0b8-b6c3-49fd-b40f-c0ac6c267563",
   "metadata": {},
   "outputs": [
    {
     "name": "stdout",
     "output_type": "stream",
     "text": [
      "Correlation between title length and approval: 0.19023653907295024\n"
     ]
    }
   ],
   "source": [
    "correlation_description = aggregatedProjectsDF['description_length'].corr(aggregatedProjectsDF['approved_binary'])\n",
    "print(f\"Correlation between title length and approval: {correlation_description}\")"
   ]
  },
  {
   "cell_type": "markdown",
   "id": "43bcb37c-dc38-4e93-8230-47e7a967d87d",
   "metadata": {},
   "source": [
    "**Project Approval by budget**  "
   ]
  },
  {
   "cell_type": "code",
   "execution_count": 29,
   "id": "037ee577-e733-4c71-abc3-1ff09eb0d6ca",
   "metadata": {
    "scrolled": true
   },
   "outputs": [
    {
     "name": "stdout",
     "output_type": "stream",
     "text": [
      "            % Approved  % Not Approved  Total\n",
      "cost_range                                   \n",
      "0-50k            35.79           64.21     95\n",
      "50k-100k         33.33           66.67     45\n",
      "100k-150k        36.36           63.64     22\n",
      "150k-200k        70.27           29.73     37\n"
     ]
    },
    {
     "name": "stderr",
     "output_type": "stream",
     "text": [
      "/tmp/ipykernel_8978/2491333920.py:6: FutureWarning: The default of observed=False is deprecated and will be changed to True in a future version of pandas. Pass observed=False to retain current behavior or observed=True to adopt the future default and silence this warning.\n",
      "  result = aggregatedProjectsDF.groupby(['cost_range', 'approved']).size().unstack()\n"
     ]
    }
   ],
   "source": [
    "budget_bins = [0,50000,100000, 150000, 200000]\n",
    "budget_labels = ['0-50k', '50k-100k', '100k-150k', '150k-200k']\n",
    "\n",
    "aggregatedProjectsDF['cost_range'] = pd.cut(aggregatedProjectsDF['cost'], bins=budget_bins, labels = budget_labels, right=True)\n",
    "\n",
    "result = aggregatedProjectsDF.groupby(['cost_range', 'approved']).size().unstack()\n",
    "\n",
    "result.columns = ['Not Approved', 'Approved'] if False in result.columns else ['Approved', 'Not Approved']\n",
    "\n",
    "result['Total'] = result['Not Approved'] + result['Approved']\n",
    "\n",
    "result['% Approved'] = ((result['Approved'] / result['Total']) * 100).round(2)\n",
    "result['% Not Approved'] = ((result['Not Approved'] / result['Total']) * 100).round(2)\n",
    "\n",
    "print(result[['% Approved','% Not Approved','Total']])"
   ]
  },
  {
   "cell_type": "code",
   "execution_count": 30,
   "id": "83af6d58-7c88-4fb1-9718-22feb347b4fe",
   "metadata": {},
   "outputs": [
    {
     "data": {
      "image/png": "[encoded data removed]",
      "text/plain": [
       "<Figure size 1000x600 with 1 Axes>"
      ]
     },
     "metadata": {},
     "output_type": "display_data"
    }
   ],
   "source": [
    "# Reuse your result table, use only % columns\n",
    "percent_data = result[['% Approved', '% Not Approved']]\n",
    "\n",
    "# Plot\n",
    "ax = percent_data.plot(\n",
    "    kind='bar',\n",
    "    stacked=True,\n",
    "    color=['green', 'red'],\n",
    "    figsize=(10, 6),\n",
    "    edgecolor='black'\n",
    ")\n",
    "\n",
    "# Customize\n",
    "plt.title('Approval Rates by Project Cost Range')\n",
    "plt.xlabel('Cost Range')\n",
    "plt.ylabel('Percentage')\n",
    "plt.xticks(rotation=0)\n",
    "plt.ylim(0, 100)\n",
    "plt.legend(loc='upper right')\n",
    "plt.tight_layout()\n",
    "\n",
    "# Add value labels inside the bars\n",
    "for i, (approved, not_approved) in enumerate(zip(percent_data['% Approved'], percent_data['% Not Approved'])):\n",
    "    ax.text(i, approved / 2, f'{approved}%', ha='center', va='center', color='white', fontweight='bold')\n",
    "    ax.text(i, approved + not_approved / 2, f'{not_approved}%', ha='center', va='center', color='white', fontweight='bold')\n",
    "\n",
    "plt.show()"
   ]
  },
  {
   "cell_type": "markdown",
   "id": "fa21053b-d2a5-4311-840b-f5efd7b896fa",
   "metadata": {},
   "source": [
    "**Automated EDA for the aggregated dataframe**"
   ]
  },
  {
   "cell_type": "code",
   "execution_count": 36,
   "id": "3c55936f-f3b2-4af9-a7ba-dde40a244492",
   "metadata": {},
   "outputs": [
    {
     "data": {
      "application/vnd.jupyter.widget-view+json": {
       "model_id": "a18d7788c88f431a9e3b5d10f7005d79",
       "version_major": 2,
       "version_minor": 0
      },
      "text/plain": [
       "Summarize dataset:   0%|          | 0/5 [00:00<?, ?it/s]"
      ]
     },
     "metadata": {},
     "output_type": "display_data"
    },
    {
     "name": "stderr",
     "output_type": "stream",
     "text": [
      "\n",
      "100%|████████████████████████████████████████████████████████████████████████████████████████████████████████████████████████████████████████████████████| 9/9 [00:00<00:00, 264.03it/s]\u001b[A\n"
     ]
    },
    {
     "data": {
      "application/vnd.jupyter.widget-view+json": {
       "model_id": "9ec98c6ee87f4f3181e6b8b6c704da7d",
       "version_major": 2,
       "version_minor": 0
      },
      "text/plain": [
       "Generate report structure:   0%|          | 0/1 [00:00<?, ?it/s]"
      ]
     },
     "metadata": {},
     "output_type": "display_data"
    },
    {
     "data": {
      "application/vnd.jupyter.widget-view+json": {
       "model_id": "736da52c3e5141caadbc3cbc1753f9bd",
       "version_major": 2,
       "version_minor": 0
      },
      "text/plain": [
       "Render HTML:   0%|          | 0/1 [00:00<?, ?it/s]"
      ]
     },
     "metadata": {},
     "output_type": "display_data"
    },
    {
     "data": {
      "application/vnd.jupyter.widget-view+json": {
       "model_id": "29860b0663794f1a985874552b683292",
       "version_major": 2,
       "version_minor": 0
      },
      "text/plain": [
       "Export report to file:   0%|          | 0/1 [00:00<?, ?it/s]"
      ]
     },
     "metadata": {},
     "output_type": "display_data"
    }
   ],
   "source": [
    "reportDataframe = aggregatedProjectsDF.copy(deep=True)\n",
    "reportDataframe = reportDataframe.drop(columns=['agg_district_code', 'agg_quartiers','approved_binary', 'cost_range', 'project_id','src_district_code'])\n",
    "profile = ProfileReport(reportDataframe,title=\"EDA aggregated\")\n",
    "profile.to_file(\"Report.html\")"
   ]
  },
  {
   "cell_type": "code",
   "execution_count": 32,
   "id": "ea9cf62a-0a8c-442e-bd8b-870e36a94fa9",
   "metadata": {},
   "outputs": [],
   "source": [
    "# detailsDataFrame = electionDetailsDF.copy(deep=True)\n",
    "# mergingDataFrame = aggregatedProjectsDF[['project_id','approved']]\n",
    "# mergedDataframe = pd.merge(detailsDataFrame,mergingDataFrame, on=\"project_id\")\n",
    "# mergedDataframe['session_duration_hours'] = (mergedDataframe['session_duration'].dt.total_seconds()/3600).astype(int)\n",
    "# print(mergedDataframe.columns)\n",
    "# mergedDataframe = mergedDataframe.drop(columns=['checked_out_at', 'created_at','vote_finished', 'project_url','session_duration'])\n",
    "# #mergedDataframe.dtypes\n",
    "# details_profile = ProfileReport(mergedDataframe,title=\"EDA details\")\n",
    "# details_profile.to_file(\"Details Report.html\")"
   ]
  },
  {
   "cell_type": "code",
   "execution_count": 33,
   "id": "9e5d76d8-d017-4af4-a797-fc84e8a7c3b3",
   "metadata": {},
   "outputs": [
    {
     "name": "stdout",
     "output_type": "stream",
     "text": [
      "     project_id  votes  approved_binary      cost src_district_code  \\\n",
      "62          136    492                1  200000.0               5.1   \n",
      "50            7    467                1  150000.0               1.1   \n",
      "23            5    358                1  200000.0               1.1   \n",
      "0           132    258                1    7500.0               5.1   \n",
      "100          71    243                1   20000.0               3.1   \n",
      "\n",
      "                                          project_name  \n",
      "62                 Piste cyclable avenue Saint-Exupéry  \n",
      "50   Faire des voies vélos et piétons dédiées et bi...  \n",
      "23              Végétalisation de la place du Capitole  \n",
      "0                                Lutte anti-moustiques  \n",
      "100  Planter des arbres et jardins partagés partout...  \n"
     ]
    }
   ],
   "source": [
    "winners_analysis = aggregatedProjectsDF[['project_id','votes','approved_binary','cost','src_district_code','project_name']].sort_values('votes', ascending=False).copy()\n",
    "filtered_df = winners_analysis[winners_analysis['approved_binary'] == 1]\n",
    "print(filtered_df[filtered_df['votes'] > 20].head())\n",
    "# filtered_df.to_csv('text.csv')\n"
   ]
  },
  {
   "cell_type": "code",
   "execution_count": 34,
   "id": "6708c1da-5239-4431-a0ba-238559feb5f9",
   "metadata": {},
   "outputs": [
    {
     "name": "stdout",
     "output_type": "stream",
     "text": [
      "      ID  project_id                                      project_title  \\\n",
      "0     42         143  Lampadaires à détecteur de mouvement piste cyc...   \n",
      "1     36         143  Lampadaires à détecteur de mouvement piste cyc...   \n",
      "2     61         143  Lampadaires à détecteur de mouvement piste cyc...   \n",
      "3     54         143  Lampadaires à détecteur de mouvement piste cyc...   \n",
      "4     96         143  Lampadaires à détecteur de mouvement piste cyc...   \n",
      "5    117         143  Lampadaires à détecteur de mouvement piste cyc...   \n",
      "6    275         143  Lampadaires à détecteur de mouvement piste cyc...   \n",
      "7    680         143  Lampadaires à détecteur de mouvement piste cyc...   \n",
      "8   1010         143  Lampadaires à détecteur de mouvement piste cyc...   \n",
      "9   1013         143  Lampadaires à détecteur de mouvement piste cyc...   \n",
      "10  1073         143  Lampadaires à détecteur de mouvement piste cyc...   \n",
      "11  1333         143  Lampadaires à détecteur de mouvement piste cyc...   \n",
      "12  1416         143  Lampadaires à détecteur de mouvement piste cyc...   \n",
      "13  2047         143  Lampadaires à détecteur de mouvement piste cyc...   \n",
      "14  2102         143  Lampadaires à détecteur de mouvement piste cyc...   \n",
      "15  2190         143  Lampadaires à détecteur de mouvement piste cyc...   \n",
      "16  2447         143  Lampadaires à détecteur de mouvement piste cyc...   \n",
      "17  2519         143  Lampadaires à détecteur de mouvement piste cyc...   \n",
      "18  2693         143  Lampadaires à détecteur de mouvement piste cyc...   \n",
      "19  2784         143  Lampadaires à détecteur de mouvement piste cyc...   \n",
      "20  2929         143  Lampadaires à détecteur de mouvement piste cyc...   \n",
      "21  3024         143  Lampadaires à détecteur de mouvement piste cyc...   \n",
      "22  3071         143  Lampadaires à détecteur de mouvement piste cyc...   \n",
      "23  3154         143  Lampadaires à détecteur de mouvement piste cyc...   \n",
      "24  3180         143  Lampadaires à détecteur de mouvement piste cyc...   \n",
      "25  3219         143  Lampadaires à détecteur de mouvement piste cyc...   \n",
      "26  3226         143  Lampadaires à détecteur de mouvement piste cyc...   \n",
      "27  3330         143  Lampadaires à détecteur de mouvement piste cyc...   \n",
      "28  3540         143  Lampadaires à détecteur de mouvement piste cyc...   \n",
      "29  3739         143  Lampadaires à détecteur de mouvement piste cyc...   \n",
      "30  3698         143  Lampadaires à détecteur de mouvement piste cyc...   \n",
      "31  3796         143  Lampadaires à détecteur de mouvement piste cyc...   \n",
      "32  3838         143  Lampadaires à détecteur de mouvement piste cyc...   \n",
      "33  3849         143  Lampadaires à détecteur de mouvement piste cyc...   \n",
      "34  4094         143  Lampadaires à détecteur de mouvement piste cyc...   \n",
      "35  4149         143  Lampadaires à détecteur de mouvement piste cyc...   \n",
      "36  4268         143  Lampadaires à détecteur de mouvement piste cyc...   \n",
      "37  4283         143  Lampadaires à détecteur de mouvement piste cyc...   \n",
      "38  4302         143  Lampadaires à détecteur de mouvement piste cyc...   \n",
      "39  4401         143  Lampadaires à détecteur de mouvement piste cyc...   \n",
      "40  4477         143  Lampadaires à détecteur de mouvement piste cyc...   \n",
      "41  4698         143  Lampadaires à détecteur de mouvement piste cyc...   \n",
      "42  4734         143  Lampadaires à détecteur de mouvement piste cyc...   \n",
      "43  4739         143  Lampadaires à détecteur de mouvement piste cyc...   \n",
      "44  4990         143  Lampadaires à détecteur de mouvement piste cyc...   \n",
      "45  4988         143  Lampadaires à détecteur de mouvement piste cyc...   \n",
      "46  4989         143  Lampadaires à détecteur de mouvement piste cyc...   \n",
      "47  4992         143  Lampadaires à détecteur de mouvement piste cyc...   \n",
      "48  5079         143  Lampadaires à détecteur de mouvement piste cyc...   \n",
      "49  5218         143  Lampadaires à détecteur de mouvement piste cyc...   \n",
      "\n",
      "                created_at          checked_out_at  \\\n",
      "0  2022-10-03 12:33:20.703 2022-10-03 12:40:23.624   \n",
      "1  2022-10-03 12:31:15.898 2022-10-03 12:43:55.311   \n",
      "2  2022-10-03 12:58:20.016 2022-10-03 12:59:14.138   \n",
      "3  2022-10-03 12:46:12.057 2022-10-03 13:00:40.854   \n",
      "4  2022-10-03 14:13:49.856 2022-10-03 14:16:04.708   \n",
      "5  2022-10-03 15:28:10.512 2022-10-03 15:31:58.457   \n",
      "6  2022-10-04 09:23:55.380 2022-10-04 09:25:05.961   \n",
      "7  2022-10-05 16:00:50.522 2022-10-05 16:02:28.046   \n",
      "8  2022-10-07 04:33:21.842 2022-10-07 04:38:10.997   \n",
      "9  2022-10-07 05:42:07.805 2022-10-07 05:49:39.988   \n",
      "10 2022-10-07 10:52:44.913 2022-10-14 07:39:02.704   \n",
      "11 2022-10-08 20:13:58.474 2022-10-08 20:16:48.529   \n",
      "12 2022-10-09 13:52:52.364 2022-10-09 16:32:11.808   \n",
      "13 2022-10-12 15:33:22.897 2022-10-12 15:37:33.593   \n",
      "14 2022-10-12 19:40:16.035 2022-10-12 19:41:12.904   \n",
      "15 2022-10-13 10:23:12.595 2022-10-13 10:24:57.477   \n",
      "16 2022-10-15 08:25:36.563 2022-10-15 08:26:48.867   \n",
      "17 2022-10-15 16:05:18.977 2022-10-15 16:06:18.359   \n",
      "18 2022-10-17 07:02:06.525 2022-10-17 07:11:13.294   \n",
      "19 2022-10-17 19:13:14.903 2022-10-17 19:20:32.748   \n",
      "20 2022-10-18 20:18:12.247 2022-10-18 20:19:25.154   \n",
      "21 2022-10-19 08:22:03.329 2022-10-19 08:22:53.446   \n",
      "22 2022-10-19 09:42:20.817 2022-10-19 09:52:03.203   \n",
      "23 2022-10-19 14:05:06.071 2022-10-19 14:12:39.301   \n",
      "24 2022-10-19 15:18:34.243 2022-10-19 15:24:06.409   \n",
      "25 2022-10-19 17:19:23.191 2022-10-19 17:25:38.758   \n",
      "26 2022-10-19 17:57:35.380 2022-10-19 17:57:49.445   \n",
      "27 2022-10-20 08:33:52.966 2022-10-20 08:36:21.919   \n",
      "28 2022-10-21 13:55:45.110 2022-10-21 13:57:30.791   \n",
      "29 2022-10-22 23:32:18.442 2022-10-22 23:35:30.132   \n",
      "30 2022-10-22 16:45:55.756 2022-10-22 16:48:43.193   \n",
      "31 2022-10-23 13:07:34.125 2022-10-23 13:14:00.857   \n",
      "32 2022-10-23 16:26:52.862 2022-10-23 16:30:49.034   \n",
      "33 2022-10-23 18:12:52.342 2022-10-23 18:53:48.741   \n",
      "34 2022-10-25 05:25:17.566 2022-10-25 05:28:23.444   \n",
      "35 2022-10-25 10:59:20.508 2022-10-25 11:02:02.676   \n",
      "36 2022-10-25 20:31:53.235 2022-10-25 20:36:43.454   \n",
      "37 2022-10-25 22:31:36.464 2022-10-25 22:37:51.954   \n",
      "38 2022-10-26 07:28:02.069 2022-10-26 07:33:11.049   \n",
      "39 2022-10-26 15:11:59.520 2022-10-26 15:13:42.973   \n",
      "40 2022-10-27 05:30:36.009 2022-10-27 05:51:04.628   \n",
      "41 2022-10-28 13:23:15.542 2022-10-28 13:24:33.703   \n",
      "42 2022-10-28 16:25:27.401 2022-10-28 16:26:47.251   \n",
      "43 2022-10-28 16:44:28.464 2022-10-28 16:46:52.748   \n",
      "44 2022-10-30 16:06:54.705 2022-10-30 16:07:31.475   \n",
      "45 2022-10-30 16:01:38.521 2022-10-30 16:03:02.729   \n",
      "46 2022-10-30 16:04:45.820 2022-10-30 16:05:04.539   \n",
      "47 2022-10-30 16:19:50.931 2022-10-30 16:59:35.547   \n",
      "48 2022-10-31 08:38:23.132 2022-10-31 08:38:54.259   \n",
      "49 2022-10-31 21:47:38.851 2022-10-31 21:57:04.761   \n",
      "\n",
      "                                          project_url  vote_finished  \\\n",
      "0   https://jeparticipe.metropole.toulouse.fr/proc...           True   \n",
      "1   https://jeparticipe.metropole.toulouse.fr/proc...           True   \n",
      "2   https://jeparticipe.metropole.toulouse.fr/proc...           True   \n",
      "3   https://jeparticipe.metropole.toulouse.fr/proc...           True   \n",
      "4   https://jeparticipe.metropole.toulouse.fr/proc...           True   \n",
      "5   https://jeparticipe.metropole.toulouse.fr/proc...           True   \n",
      "6   https://jeparticipe.metropole.toulouse.fr/proc...           True   \n",
      "7   https://jeparticipe.metropole.toulouse.fr/proc...           True   \n",
      "8   https://jeparticipe.metropole.toulouse.fr/proc...           True   \n",
      "9   https://jeparticipe.metropole.toulouse.fr/proc...           True   \n",
      "10  https://jeparticipe.metropole.toulouse.fr/proc...           True   \n",
      "11  https://jeparticipe.metropole.toulouse.fr/proc...           True   \n",
      "12  https://jeparticipe.metropole.toulouse.fr/proc...           True   \n",
      "13  https://jeparticipe.metropole.toulouse.fr/proc...           True   \n",
      "14  https://jeparticipe.metropole.toulouse.fr/proc...           True   \n",
      "15  https://jeparticipe.metropole.toulouse.fr/proc...           True   \n",
      "16  https://jeparticipe.metropole.toulouse.fr/proc...           True   \n",
      "17  https://jeparticipe.metropole.toulouse.fr/proc...           True   \n",
      "18  https://jeparticipe.metropole.toulouse.fr/proc...           True   \n",
      "19  https://jeparticipe.metropole.toulouse.fr/proc...           True   \n",
      "20  https://jeparticipe.metropole.toulouse.fr/proc...           True   \n",
      "21  https://jeparticipe.metropole.toulouse.fr/proc...           True   \n",
      "22  https://jeparticipe.metropole.toulouse.fr/proc...           True   \n",
      "23  https://jeparticipe.metropole.toulouse.fr/proc...           True   \n",
      "24  https://jeparticipe.metropole.toulouse.fr/proc...           True   \n",
      "25  https://jeparticipe.metropole.toulouse.fr/proc...           True   \n",
      "26  https://jeparticipe.metropole.toulouse.fr/proc...           True   \n",
      "27  https://jeparticipe.metropole.toulouse.fr/proc...           True   \n",
      "28  https://jeparticipe.metropole.toulouse.fr/proc...           True   \n",
      "29  https://jeparticipe.metropole.toulouse.fr/proc...           True   \n",
      "30  https://jeparticipe.metropole.toulouse.fr/proc...           True   \n",
      "31  https://jeparticipe.metropole.toulouse.fr/proc...           True   \n",
      "32  https://jeparticipe.metropole.toulouse.fr/proc...           True   \n",
      "33  https://jeparticipe.metropole.toulouse.fr/proc...           True   \n",
      "34  https://jeparticipe.metropole.toulouse.fr/proc...           True   \n",
      "35  https://jeparticipe.metropole.toulouse.fr/proc...           True   \n",
      "36  https://jeparticipe.metropole.toulouse.fr/proc...           True   \n",
      "37  https://jeparticipe.metropole.toulouse.fr/proc...           True   \n",
      "38  https://jeparticipe.metropole.toulouse.fr/proc...           True   \n",
      "39  https://jeparticipe.metropole.toulouse.fr/proc...           True   \n",
      "40  https://jeparticipe.metropole.toulouse.fr/proc...           True   \n",
      "41  https://jeparticipe.metropole.toulouse.fr/proc...           True   \n",
      "42  https://jeparticipe.metropole.toulouse.fr/proc...           True   \n",
      "43  https://jeparticipe.metropole.toulouse.fr/proc...           True   \n",
      "44  https://jeparticipe.metropole.toulouse.fr/proc...           True   \n",
      "45  https://jeparticipe.metropole.toulouse.fr/proc...           True   \n",
      "46  https://jeparticipe.metropole.toulouse.fr/proc...           True   \n",
      "47  https://jeparticipe.metropole.toulouse.fr/proc...           True   \n",
      "48  https://jeparticipe.metropole.toulouse.fr/proc...           True   \n",
      "49  https://jeparticipe.metropole.toulouse.fr/proc...           True   \n",
      "\n",
      "         session_duration                                       project_name  \\\n",
      "0  0 days 00:07:02.921000  Lampadaires à détecteur de mouvement piste cyc...   \n",
      "1  0 days 00:12:39.413000  Lampadaires à détecteur de mouvement piste cyc...   \n",
      "2  0 days 00:00:54.122000  Lampadaires à détecteur de mouvement piste cyc...   \n",
      "3  0 days 00:14:28.797000  Lampadaires à détecteur de mouvement piste cyc...   \n",
      "4  0 days 00:02:14.852000  Lampadaires à détecteur de mouvement piste cyc...   \n",
      "5  0 days 00:03:47.945000  Lampadaires à détecteur de mouvement piste cyc...   \n",
      "6  0 days 00:01:10.581000  Lampadaires à détecteur de mouvement piste cyc...   \n",
      "7  0 days 00:01:37.524000  Lampadaires à détecteur de mouvement piste cyc...   \n",
      "8  0 days 00:04:49.155000  Lampadaires à détecteur de mouvement piste cyc...   \n",
      "9  0 days 00:07:32.183000  Lampadaires à détecteur de mouvement piste cyc...   \n",
      "10 6 days 20:46:17.791000  Lampadaires à détecteur de mouvement piste cyc...   \n",
      "11 0 days 00:02:50.055000  Lampadaires à détecteur de mouvement piste cyc...   \n",
      "12 0 days 02:39:19.444000  Lampadaires à détecteur de mouvement piste cyc...   \n",
      "13 0 days 00:04:10.696000  Lampadaires à détecteur de mouvement piste cyc...   \n",
      "14 0 days 00:00:56.869000  Lampadaires à détecteur de mouvement piste cyc...   \n",
      "15 0 days 00:01:44.882000  Lampadaires à détecteur de mouvement piste cyc...   \n",
      "16 0 days 00:01:12.304000  Lampadaires à détecteur de mouvement piste cyc...   \n",
      "17 0 days 00:00:59.382000  Lampadaires à détecteur de mouvement piste cyc...   \n",
      "18 0 days 00:09:06.769000  Lampadaires à détecteur de mouvement piste cyc...   \n",
      "19 0 days 00:07:17.845000  Lampadaires à détecteur de mouvement piste cyc...   \n",
      "20 0 days 00:01:12.907000  Lampadaires à détecteur de mouvement piste cyc...   \n",
      "21 0 days 00:00:50.117000  Lampadaires à détecteur de mouvement piste cyc...   \n",
      "22 0 days 00:09:42.386000  Lampadaires à détecteur de mouvement piste cyc...   \n",
      "23 0 days 00:07:33.230000  Lampadaires à détecteur de mouvement piste cyc...   \n",
      "24 0 days 00:05:32.166000  Lampadaires à détecteur de mouvement piste cyc...   \n",
      "25 0 days 00:06:15.567000  Lampadaires à détecteur de mouvement piste cyc...   \n",
      "26 0 days 00:00:14.065000  Lampadaires à détecteur de mouvement piste cyc...   \n",
      "27 0 days 00:02:28.953000  Lampadaires à détecteur de mouvement piste cyc...   \n",
      "28 0 days 00:01:45.681000  Lampadaires à détecteur de mouvement piste cyc...   \n",
      "29 0 days 00:03:11.690000  Lampadaires à détecteur de mouvement piste cyc...   \n",
      "30 0 days 00:02:47.437000  Lampadaires à détecteur de mouvement piste cyc...   \n",
      "31 0 days 00:06:26.732000  Lampadaires à détecteur de mouvement piste cyc...   \n",
      "32 0 days 00:03:56.172000  Lampadaires à détecteur de mouvement piste cyc...   \n",
      "33 0 days 00:40:56.399000  Lampadaires à détecteur de mouvement piste cyc...   \n",
      "34 0 days 00:03:05.878000  Lampadaires à détecteur de mouvement piste cyc...   \n",
      "35 0 days 00:02:42.168000  Lampadaires à détecteur de mouvement piste cyc...   \n",
      "36 0 days 00:04:50.219000  Lampadaires à détecteur de mouvement piste cyc...   \n",
      "37 0 days 00:06:15.490000  Lampadaires à détecteur de mouvement piste cyc...   \n",
      "38 0 days 00:05:08.980000  Lampadaires à détecteur de mouvement piste cyc...   \n",
      "39 0 days 00:01:43.453000  Lampadaires à détecteur de mouvement piste cyc...   \n",
      "40 0 days 00:20:28.619000  Lampadaires à détecteur de mouvement piste cyc...   \n",
      "41 0 days 00:01:18.161000  Lampadaires à détecteur de mouvement piste cyc...   \n",
      "42 0 days 00:01:19.850000  Lampadaires à détecteur de mouvement piste cyc...   \n",
      "43 0 days 00:02:24.284000  Lampadaires à détecteur de mouvement piste cyc...   \n",
      "44 0 days 00:00:36.770000  Lampadaires à détecteur de mouvement piste cyc...   \n",
      "45 0 days 00:01:24.208000  Lampadaires à détecteur de mouvement piste cyc...   \n",
      "46 0 days 00:00:18.719000  Lampadaires à détecteur de mouvement piste cyc...   \n",
      "47 0 days 00:39:44.616000  Lampadaires à détecteur de mouvement piste cyc...   \n",
      "48 0 days 00:00:31.127000  Lampadaires à détecteur de mouvement piste cyc...   \n",
      "49 0 days 00:09:25.910000  Lampadaires à détecteur de mouvement piste cyc...   \n",
      "\n",
      "                                          description  ...  \\\n",
      "0   Bonjour, Modifier les lampadaires actuellement...  ...   \n",
      "1   Bonjour, Modifier les lampadaires actuellement...  ...   \n",
      "2   Bonjour, Modifier les lampadaires actuellement...  ...   \n",
      "3   Bonjour, Modifier les lampadaires actuellement...  ...   \n",
      "4   Bonjour, Modifier les lampadaires actuellement...  ...   \n",
      "5   Bonjour, Modifier les lampadaires actuellement...  ...   \n",
      "6   Bonjour, Modifier les lampadaires actuellement...  ...   \n",
      "7   Bonjour, Modifier les lampadaires actuellement...  ...   \n",
      "8   Bonjour, Modifier les lampadaires actuellement...  ...   \n",
      "9   Bonjour, Modifier les lampadaires actuellement...  ...   \n",
      "10  Bonjour, Modifier les lampadaires actuellement...  ...   \n",
      "11  Bonjour, Modifier les lampadaires actuellement...  ...   \n",
      "12  Bonjour, Modifier les lampadaires actuellement...  ...   \n",
      "13  Bonjour, Modifier les lampadaires actuellement...  ...   \n",
      "14  Bonjour, Modifier les lampadaires actuellement...  ...   \n",
      "15  Bonjour, Modifier les lampadaires actuellement...  ...   \n",
      "16  Bonjour, Modifier les lampadaires actuellement...  ...   \n",
      "17  Bonjour, Modifier les lampadaires actuellement...  ...   \n",
      "18  Bonjour, Modifier les lampadaires actuellement...  ...   \n",
      "19  Bonjour, Modifier les lampadaires actuellement...  ...   \n",
      "20  Bonjour, Modifier les lampadaires actuellement...  ...   \n",
      "21  Bonjour, Modifier les lampadaires actuellement...  ...   \n",
      "22  Bonjour, Modifier les lampadaires actuellement...  ...   \n",
      "23  Bonjour, Modifier les lampadaires actuellement...  ...   \n",
      "24  Bonjour, Modifier les lampadaires actuellement...  ...   \n",
      "25  Bonjour, Modifier les lampadaires actuellement...  ...   \n",
      "26  Bonjour, Modifier les lampadaires actuellement...  ...   \n",
      "27  Bonjour, Modifier les lampadaires actuellement...  ...   \n",
      "28  Bonjour, Modifier les lampadaires actuellement...  ...   \n",
      "29  Bonjour, Modifier les lampadaires actuellement...  ...   \n",
      "30  Bonjour, Modifier les lampadaires actuellement...  ...   \n",
      "31  Bonjour, Modifier les lampadaires actuellement...  ...   \n",
      "32  Bonjour, Modifier les lampadaires actuellement...  ...   \n",
      "33  Bonjour, Modifier les lampadaires actuellement...  ...   \n",
      "34  Bonjour, Modifier les lampadaires actuellement...  ...   \n",
      "35  Bonjour, Modifier les lampadaires actuellement...  ...   \n",
      "36  Bonjour, Modifier les lampadaires actuellement...  ...   \n",
      "37  Bonjour, Modifier les lampadaires actuellement...  ...   \n",
      "38  Bonjour, Modifier les lampadaires actuellement...  ...   \n",
      "39  Bonjour, Modifier les lampadaires actuellement...  ...   \n",
      "40  Bonjour, Modifier les lampadaires actuellement...  ...   \n",
      "41  Bonjour, Modifier les lampadaires actuellement...  ...   \n",
      "42  Bonjour, Modifier les lampadaires actuellement...  ...   \n",
      "43  Bonjour, Modifier les lampadaires actuellement...  ...   \n",
      "44  Bonjour, Modifier les lampadaires actuellement...  ...   \n",
      "45  Bonjour, Modifier les lampadaires actuellement...  ...   \n",
      "46  Bonjour, Modifier les lampadaires actuellement...  ...   \n",
      "47  Bonjour, Modifier les lampadaires actuellement...  ...   \n",
      "48  Bonjour, Modifier les lampadaires actuellement...  ...   \n",
      "49  Bonjour, Modifier les lampadaires actuellement...  ...   \n",
      "\n",
      "                                             district  votes title_length  \\\n",
      "0   13 - Rangueil / Sauzelong / Jules-Julien / Pec...     50           61   \n",
      "1   13 - Rangueil / Sauzelong / Jules-Julien / Pec...     50           61   \n",
      "2   13 - Rangueil / Sauzelong / Jules-Julien / Pec...     50           61   \n",
      "3   13 - Rangueil / Sauzelong / Jules-Julien / Pec...     50           61   \n",
      "4   13 - Rangueil / Sauzelong / Jules-Julien / Pec...     50           61   \n",
      "5   13 - Rangueil / Sauzelong / Jules-Julien / Pec...     50           61   \n",
      "6   13 - Rangueil / Sauzelong / Jules-Julien / Pec...     50           61   \n",
      "7   13 - Rangueil / Sauzelong / Jules-Julien / Pec...     50           61   \n",
      "8   13 - Rangueil / Sauzelong / Jules-Julien / Pec...     50           61   \n",
      "9   13 - Rangueil / Sauzelong / Jules-Julien / Pec...     50           61   \n",
      "10  13 - Rangueil / Sauzelong / Jules-Julien / Pec...     50           61   \n",
      "11  13 - Rangueil / Sauzelong / Jules-Julien / Pec...     50           61   \n",
      "12  13 - Rangueil / Sauzelong / Jules-Julien / Pec...     50           61   \n",
      "13  13 - Rangueil / Sauzelong / Jules-Julien / Pec...     50           61   \n",
      "14  13 - Rangueil / Sauzelong / Jules-Julien / Pec...     50           61   \n",
      "15  13 - Rangueil / Sauzelong / Jules-Julien / Pec...     50           61   \n",
      "16  13 - Rangueil / Sauzelong / Jules-Julien / Pec...     50           61   \n",
      "17  13 - Rangueil / Sauzelong / Jules-Julien / Pec...     50           61   \n",
      "18  13 - Rangueil / Sauzelong / Jules-Julien / Pec...     50           61   \n",
      "19  13 - Rangueil / Sauzelong / Jules-Julien / Pec...     50           61   \n",
      "20  13 - Rangueil / Sauzelong / Jules-Julien / Pec...     50           61   \n",
      "21  13 - Rangueil / Sauzelong / Jules-Julien / Pec...     50           61   \n",
      "22  13 - Rangueil / Sauzelong / Jules-Julien / Pec...     50           61   \n",
      "23  13 - Rangueil / Sauzelong / Jules-Julien / Pec...     50           61   \n",
      "24  13 - Rangueil / Sauzelong / Jules-Julien / Pec...     50           61   \n",
      "25  13 - Rangueil / Sauzelong / Jules-Julien / Pec...     50           61   \n",
      "26  13 - Rangueil / Sauzelong / Jules-Julien / Pec...     50           61   \n",
      "27  13 - Rangueil / Sauzelong / Jules-Julien / Pec...     50           61   \n",
      "28  13 - Rangueil / Sauzelong / Jules-Julien / Pec...     50           61   \n",
      "29  13 - Rangueil / Sauzelong / Jules-Julien / Pec...     50           61   \n",
      "30  13 - Rangueil / Sauzelong / Jules-Julien / Pec...     50           61   \n",
      "31  13 - Rangueil / Sauzelong / Jules-Julien / Pec...     50           61   \n",
      "32  13 - Rangueil / Sauzelong / Jules-Julien / Pec...     50           61   \n",
      "33  13 - Rangueil / Sauzelong / Jules-Julien / Pec...     50           61   \n",
      "34  13 - Rangueil / Sauzelong / Jules-Julien / Pec...     50           61   \n",
      "35  13 - Rangueil / Sauzelong / Jules-Julien / Pec...     50           61   \n",
      "36  13 - Rangueil / Sauzelong / Jules-Julien / Pec...     50           61   \n",
      "37  13 - Rangueil / Sauzelong / Jules-Julien / Pec...     50           61   \n",
      "38  13 - Rangueil / Sauzelong / Jules-Julien / Pec...     50           61   \n",
      "39  13 - Rangueil / Sauzelong / Jules-Julien / Pec...     50           61   \n",
      "40  13 - Rangueil / Sauzelong / Jules-Julien / Pec...     50           61   \n",
      "41  13 - Rangueil / Sauzelong / Jules-Julien / Pec...     50           61   \n",
      "42  13 - Rangueil / Sauzelong / Jules-Julien / Pec...     50           61   \n",
      "43  13 - Rangueil / Sauzelong / Jules-Julien / Pec...     50           61   \n",
      "44  13 - Rangueil / Sauzelong / Jules-Julien / Pec...     50           61   \n",
      "45  13 - Rangueil / Sauzelong / Jules-Julien / Pec...     50           61   \n",
      "46  13 - Rangueil / Sauzelong / Jules-Julien / Pec...     50           61   \n",
      "47  13 - Rangueil / Sauzelong / Jules-Julien / Pec...     50           61   \n",
      "48  13 - Rangueil / Sauzelong / Jules-Julien / Pec...     50           61   \n",
      "49  13 - Rangueil / Sauzelong / Jules-Julien / Pec...     50           61   \n",
      "\n",
      "    description_length  agg_district_code  \\\n",
      "0                 1115                 13   \n",
      "1                 1115                 13   \n",
      "2                 1115                 13   \n",
      "3                 1115                 13   \n",
      "4                 1115                 13   \n",
      "5                 1115                 13   \n",
      "6                 1115                 13   \n",
      "7                 1115                 13   \n",
      "8                 1115                 13   \n",
      "9                 1115                 13   \n",
      "10                1115                 13   \n",
      "11                1115                 13   \n",
      "12                1115                 13   \n",
      "13                1115                 13   \n",
      "14                1115                 13   \n",
      "15                1115                 13   \n",
      "16                1115                 13   \n",
      "17                1115                 13   \n",
      "18                1115                 13   \n",
      "19                1115                 13   \n",
      "20                1115                 13   \n",
      "21                1115                 13   \n",
      "22                1115                 13   \n",
      "23                1115                 13   \n",
      "24                1115                 13   \n",
      "25                1115                 13   \n",
      "26                1115                 13   \n",
      "27                1115                 13   \n",
      "28                1115                 13   \n",
      "29                1115                 13   \n",
      "30                1115                 13   \n",
      "31                1115                 13   \n",
      "32                1115                 13   \n",
      "33                1115                 13   \n",
      "34                1115                 13   \n",
      "35                1115                 13   \n",
      "36                1115                 13   \n",
      "37                1115                 13   \n",
      "38                1115                 13   \n",
      "39                1115                 13   \n",
      "40                1115                 13   \n",
      "41                1115                 13   \n",
      "42                1115                 13   \n",
      "43                1115                 13   \n",
      "44                1115                 13   \n",
      "45                1115                 13   \n",
      "46                1115                 13   \n",
      "47                1115                 13   \n",
      "48                1115                 13   \n",
      "49                1115                 13   \n",
      "\n",
      "                                        agg_quartiers  src_district_code  \\\n",
      "0   Rangueil / Sauzelong / Jules-Julien / Pech-Dav...                5.2   \n",
      "1   Rangueil / Sauzelong / Jules-Julien / Pech-Dav...                5.2   \n",
      "2   Rangueil / Sauzelong / Jules-Julien / Pech-Dav...                5.2   \n",
      "3   Rangueil / Sauzelong / Jules-Julien / Pech-Dav...                5.2   \n",
      "4   Rangueil / Sauzelong / Jules-Julien / Pech-Dav...                5.2   \n",
      "5   Rangueil / Sauzelong / Jules-Julien / Pech-Dav...                5.2   \n",
      "6   Rangueil / Sauzelong / Jules-Julien / Pech-Dav...                5.2   \n",
      "7   Rangueil / Sauzelong / Jules-Julien / Pech-Dav...                5.2   \n",
      "8   Rangueil / Sauzelong / Jules-Julien / Pech-Dav...                5.2   \n",
      "9   Rangueil / Sauzelong / Jules-Julien / Pech-Dav...                5.2   \n",
      "10  Rangueil / Sauzelong / Jules-Julien / Pech-Dav...                5.2   \n",
      "11  Rangueil / Sauzelong / Jules-Julien / Pech-Dav...                5.2   \n",
      "12  Rangueil / Sauzelong / Jules-Julien / Pech-Dav...                5.2   \n",
      "13  Rangueil / Sauzelong / Jules-Julien / Pech-Dav...                5.2   \n",
      "14  Rangueil / Sauzelong / Jules-Julien / Pech-Dav...                5.2   \n",
      "15  Rangueil / Sauzelong / Jules-Julien / Pech-Dav...                5.2   \n",
      "16  Rangueil / Sauzelong / Jules-Julien / Pech-Dav...                5.2   \n",
      "17  Rangueil / Sauzelong / Jules-Julien / Pech-Dav...                5.2   \n",
      "18  Rangueil / Sauzelong / Jules-Julien / Pech-Dav...                5.2   \n",
      "19  Rangueil / Sauzelong / Jules-Julien / Pech-Dav...                5.2   \n",
      "20  Rangueil / Sauzelong / Jules-Julien / Pech-Dav...                5.2   \n",
      "21  Rangueil / Sauzelong / Jules-Julien / Pech-Dav...                5.2   \n",
      "22  Rangueil / Sauzelong / Jules-Julien / Pech-Dav...                5.2   \n",
      "23  Rangueil / Sauzelong / Jules-Julien / Pech-Dav...                5.2   \n",
      "24  Rangueil / Sauzelong / Jules-Julien / Pech-Dav...                5.2   \n",
      "25  Rangueil / Sauzelong / Jules-Julien / Pech-Dav...                5.2   \n",
      "26  Rangueil / Sauzelong / Jules-Julien / Pech-Dav...                5.2   \n",
      "27  Rangueil / Sauzelong / Jules-Julien / Pech-Dav...                5.2   \n",
      "28  Rangueil / Sauzelong / Jules-Julien / Pech-Dav...                5.2   \n",
      "29  Rangueil / Sauzelong / Jules-Julien / Pech-Dav...                5.2   \n",
      "30  Rangueil / Sauzelong / Jules-Julien / Pech-Dav...                5.2   \n",
      "31  Rangueil / Sauzelong / Jules-Julien / Pech-Dav...                5.2   \n",
      "32  Rangueil / Sauzelong / Jules-Julien / Pech-Dav...                5.2   \n",
      "33  Rangueil / Sauzelong / Jules-Julien / Pech-Dav...                5.2   \n",
      "34  Rangueil / Sauzelong / Jules-Julien / Pech-Dav...                5.2   \n",
      "35  Rangueil / Sauzelong / Jules-Julien / Pech-Dav...                5.2   \n",
      "36  Rangueil / Sauzelong / Jules-Julien / Pech-Dav...                5.2   \n",
      "37  Rangueil / Sauzelong / Jules-Julien / Pech-Dav...                5.2   \n",
      "38  Rangueil / Sauzelong / Jules-Julien / Pech-Dav...                5.2   \n",
      "39  Rangueil / Sauzelong / Jules-Julien / Pech-Dav...                5.2   \n",
      "40  Rangueil / Sauzelong / Jules-Julien / Pech-Dav...                5.2   \n",
      "41  Rangueil / Sauzelong / Jules-Julien / Pech-Dav...                5.2   \n",
      "42  Rangueil / Sauzelong / Jules-Julien / Pech-Dav...                5.2   \n",
      "43  Rangueil / Sauzelong / Jules-Julien / Pech-Dav...                5.2   \n",
      "44  Rangueil / Sauzelong / Jules-Julien / Pech-Dav...                5.2   \n",
      "45  Rangueil / Sauzelong / Jules-Julien / Pech-Dav...                5.2   \n",
      "46  Rangueil / Sauzelong / Jules-Julien / Pech-Dav...                5.2   \n",
      "47  Rangueil / Sauzelong / Jules-Julien / Pech-Dav...                5.2   \n",
      "48  Rangueil / Sauzelong / Jules-Julien / Pech-Dav...                5.2   \n",
      "49  Rangueil / Sauzelong / Jules-Julien / Pech-Dav...                5.2   \n",
      "\n",
      "   approved approved_binary  cost_range  \n",
      "0     False               0       0-50k  \n",
      "1     False               0       0-50k  \n",
      "2     False               0       0-50k  \n",
      "3     False               0       0-50k  \n",
      "4     False               0       0-50k  \n",
      "5     False               0       0-50k  \n",
      "6     False               0       0-50k  \n",
      "7     False               0       0-50k  \n",
      "8     False               0       0-50k  \n",
      "9     False               0       0-50k  \n",
      "10    False               0       0-50k  \n",
      "11    False               0       0-50k  \n",
      "12    False               0       0-50k  \n",
      "13    False               0       0-50k  \n",
      "14    False               0       0-50k  \n",
      "15    False               0       0-50k  \n",
      "16    False               0       0-50k  \n",
      "17    False               0       0-50k  \n",
      "18    False               0       0-50k  \n",
      "19    False               0       0-50k  \n",
      "20    False               0       0-50k  \n",
      "21    False               0       0-50k  \n",
      "22    False               0       0-50k  \n",
      "23    False               0       0-50k  \n",
      "24    False               0       0-50k  \n",
      "25    False               0       0-50k  \n",
      "26    False               0       0-50k  \n",
      "27    False               0       0-50k  \n",
      "28    False               0       0-50k  \n",
      "29    False               0       0-50k  \n",
      "30    False               0       0-50k  \n",
      "31    False               0       0-50k  \n",
      "32    False               0       0-50k  \n",
      "33    False               0       0-50k  \n",
      "34    False               0       0-50k  \n",
      "35    False               0       0-50k  \n",
      "36    False               0       0-50k  \n",
      "37    False               0       0-50k  \n",
      "38    False               0       0-50k  \n",
      "39    False               0       0-50k  \n",
      "40    False               0       0-50k  \n",
      "41    False               0       0-50k  \n",
      "42    False               0       0-50k  \n",
      "43    False               0       0-50k  \n",
      "44    False               0       0-50k  \n",
      "45    False               0       0-50k  \n",
      "46    False               0       0-50k  \n",
      "47    False               0       0-50k  \n",
      "48    False               0       0-50k  \n",
      "49    False               0       0-50k  \n",
      "\n",
      "[50 rows x 22 columns]\n"
     ]
    }
   ],
   "source": [
    "merged_df = pd.merge(electionDetailsDF, aggregatedProjectsDF, on='project_id')\n",
    "# merged_df.to_csv('mergedElectionData.csv')\n",
    "test = merged_df[merged_df['project_id']==143]\n",
    "print(test)"
   ]
  },
  {
   "cell_type": "code",
   "execution_count": 35,
   "id": "cc999473-acf5-4466-bb10-b1d7f021a66c",
   "metadata": {},
   "outputs": [
    {
     "data": {
      "text/html": [
       "<div>\n",
       "<style scoped>\n",
       "    .dataframe tbody tr th:only-of-type {\n",
       "        vertical-align: middle;\n",
       "    }\n",
       "\n",
       "    .dataframe tbody tr th {\n",
       "        vertical-align: top;\n",
       "    }\n",
       "\n",
       "    .dataframe thead th {\n",
       "        text-align: right;\n",
       "    }\n",
       "</style>\n",
       "<table border=\"1\" class=\"dataframe\">\n",
       "  <thead>\n",
       "    <tr style=\"text-align: right;\">\n",
       "      <th></th>\n",
       "      <th>project_id</th>\n",
       "      <th>num_unique_districts</th>\n",
       "      <th>districts_in_voter_pool</th>\n",
       "    </tr>\n",
       "  </thead>\n",
       "  <tbody>\n",
       "    <tr>\n",
       "      <th>0</th>\n",
       "      <td>5</td>\n",
       "      <td>20</td>\n",
       "      <td>[1.2, 5.1, 2.2, 1.1, 1.3, 2.4, 5.2, 5.3, 3.2, ...</td>\n",
       "    </tr>\n",
       "    <tr>\n",
       "      <th>2</th>\n",
       "      <td>7</td>\n",
       "      <td>19</td>\n",
       "      <td>[1.2, 5.1, 2.2, 1.1, 1.3, 2.4, 5.2, 5.3, 6.2, ...</td>\n",
       "    </tr>\n",
       "    <tr>\n",
       "      <th>5</th>\n",
       "      <td>12</td>\n",
       "      <td>19</td>\n",
       "      <td>[5.1, 1.1, 1.3, 2.2, 5.2, 5.3, 1.2, 3.2, 3.3, ...</td>\n",
       "    </tr>\n",
       "    <tr>\n",
       "      <th>18</th>\n",
       "      <td>44</td>\n",
       "      <td>19</td>\n",
       "      <td>[1.2, 5.1, 2.2, 1.3, 3.3, 2.3, 3.2, 4.2, 2.1, ...</td>\n",
       "    </tr>\n",
       "    <tr>\n",
       "      <th>8</th>\n",
       "      <td>19</td>\n",
       "      <td>19</td>\n",
       "      <td>[1.2, 5.1, 1.1, 1.3, 2.2, 5.2, 5.3, 3.2, 3.3, ...</td>\n",
       "    </tr>\n",
       "    <tr>\n",
       "      <th>13</th>\n",
       "      <td>34</td>\n",
       "      <td>19</td>\n",
       "      <td>[1.2, 5.1, 2.2, 1.1, 2.4, 5.3, 2.3, 3.2, 2.1, ...</td>\n",
       "    </tr>\n",
       "    <tr>\n",
       "      <th>20</th>\n",
       "      <td>52</td>\n",
       "      <td>19</td>\n",
       "      <td>[5.1, 2.2, 1.3, 5.2, 5.3, 1.2, 2.3, 2.1, 6.4, ...</td>\n",
       "    </tr>\n",
       "    <tr>\n",
       "      <th>28</th>\n",
       "      <td>71</td>\n",
       "      <td>19</td>\n",
       "      <td>[1.2, 5.1, 1.1, 1.3, 2.2, 5.2, 5.3, 3.2, 3.3, ...</td>\n",
       "    </tr>\n",
       "    <tr>\n",
       "      <th>58</th>\n",
       "      <td>136</td>\n",
       "      <td>19</td>\n",
       "      <td>[1.2, 5.1, 1.1, 1.3, 2.2, 5.2, 5.3, 3.3, 6.3, ...</td>\n",
       "    </tr>\n",
       "    <tr>\n",
       "      <th>3</th>\n",
       "      <td>9</td>\n",
       "      <td>18</td>\n",
       "      <td>[1.2, 5.1, 2.2, 1.1, 1.3, 3.3, 4.1, 4.2, 5.2, ...</td>\n",
       "    </tr>\n",
       "    <tr>\n",
       "      <th>7</th>\n",
       "      <td>17</td>\n",
       "      <td>18</td>\n",
       "      <td>[1.2, 5.1, 1.3, 2.2, 5.2, 3.2, 2.3, 3.3, 4.1, ...</td>\n",
       "    </tr>\n",
       "    <tr>\n",
       "      <th>29</th>\n",
       "      <td>72</td>\n",
       "      <td>18</td>\n",
       "      <td>[1.2, 5.1, 1.1, 2.2, 5.3, 6.2, 3.2, 4.1, 2.3, ...</td>\n",
       "    </tr>\n",
       "    <tr>\n",
       "      <th>56</th>\n",
       "      <td>132</td>\n",
       "      <td>18</td>\n",
       "      <td>[5.1, 1.1, 2.2, 2.4, 5.3, 1.2, 6.3, 2.3, 4.3, ...</td>\n",
       "    </tr>\n",
       "    <tr>\n",
       "      <th>68</th>\n",
       "      <td>162</td>\n",
       "      <td>17</td>\n",
       "      <td>[1.2, 5.1, 2.2, 2.4, 3.2, 2.1, 4.3, 5.2, 5.3, ...</td>\n",
       "    </tr>\n",
       "    <tr>\n",
       "      <th>44</th>\n",
       "      <td>102</td>\n",
       "      <td>17</td>\n",
       "      <td>[1.3, 2.2, 5.2, 5.3, 1.2, 2.3, 3.3, 4.1, 6.3, ...</td>\n",
       "    </tr>\n",
       "    <tr>\n",
       "      <th>36</th>\n",
       "      <td>91</td>\n",
       "      <td>17</td>\n",
       "      <td>[5.1, 1.1, 1.3, 2.2, 5.2, 5.3, 1.2, 3.3, 3.2, ...</td>\n",
       "    </tr>\n",
       "    <tr>\n",
       "      <th>67</th>\n",
       "      <td>157</td>\n",
       "      <td>17</td>\n",
       "      <td>[5.1, 2.2, 1.3, 5.2, 5.3, 6.3, 6.1, 1.1, 6.4, ...</td>\n",
       "    </tr>\n",
       "    <tr>\n",
       "      <th>69</th>\n",
       "      <td>163</td>\n",
       "      <td>17</td>\n",
       "      <td>[2.2, 1.1, 2.4, 5.3, 1.2, 2.1, 5.1, 5.2, 6.1, ...</td>\n",
       "    </tr>\n",
       "    <tr>\n",
       "      <th>4</th>\n",
       "      <td>11</td>\n",
       "      <td>16</td>\n",
       "      <td>[1.2, 5.1, 2.2, 1.1, 5.2, 3.3, 4.1, 5.3, 6.1, ...</td>\n",
       "    </tr>\n",
       "    <tr>\n",
       "      <th>65</th>\n",
       "      <td>155</td>\n",
       "      <td>16</td>\n",
       "      <td>[5.1, 2.2, 1.1, 5.2, 5.3, 1.2, 3.3, 4.3, 6.1, ...</td>\n",
       "    </tr>\n",
       "    <tr>\n",
       "      <th>14</th>\n",
       "      <td>38</td>\n",
       "      <td>16</td>\n",
       "      <td>[1.2, 5.1, 2.2, 1.1, 2.4, 2.1, 2.3, 5.3, 6.1, ...</td>\n",
       "    </tr>\n",
       "    <tr>\n",
       "      <th>64</th>\n",
       "      <td>153</td>\n",
       "      <td>16</td>\n",
       "      <td>[5.1, 2.2, 1.1, 1.3, 5.2, 5.3, 1.2, 2.3, 4.1, ...</td>\n",
       "    </tr>\n",
       "    <tr>\n",
       "      <th>53</th>\n",
       "      <td>125</td>\n",
       "      <td>16</td>\n",
       "      <td>[5.1, 2.2, 5.2, 1.2, 3.3, 3.2, 4.2, 6.3, 4.3, ...</td>\n",
       "    </tr>\n",
       "    <tr>\n",
       "      <th>27</th>\n",
       "      <td>69</td>\n",
       "      <td>16</td>\n",
       "      <td>[5.1, 2.2, 1.1, 2.4, 1.2, 2.3, 3.2, 2.1, 5.2, ...</td>\n",
       "    </tr>\n",
       "    <tr>\n",
       "      <th>71</th>\n",
       "      <td>172</td>\n",
       "      <td>15</td>\n",
       "      <td>[1.2, 5.1, 2.2, 1.1, 2.4, 6.2, 2.3, 4.3, 6.4, ...</td>\n",
       "    </tr>\n",
       "    <tr>\n",
       "      <th>39</th>\n",
       "      <td>94</td>\n",
       "      <td>15</td>\n",
       "      <td>[5.1, 1.1, 2.2, 5.2, 3.3, 3.2, 4.2, 4.1, 4.3, ...</td>\n",
       "    </tr>\n",
       "    <tr>\n",
       "      <th>48</th>\n",
       "      <td>108</td>\n",
       "      <td>15</td>\n",
       "      <td>[5.1, 5.2, 1.2, 4.1, 2.1, 5.3, 6.2, 1.1, 1.3, ...</td>\n",
       "    </tr>\n",
       "    <tr>\n",
       "      <th>59</th>\n",
       "      <td>139</td>\n",
       "      <td>15</td>\n",
       "      <td>[1.2, 5.1, 1.1, 1.3, 5.2, 5.3, 6.4, 2.3, 4.1, ...</td>\n",
       "    </tr>\n",
       "    <tr>\n",
       "      <th>82</th>\n",
       "      <td>203</td>\n",
       "      <td>15</td>\n",
       "      <td>[5.1, 1.1, 1.3, 2.2, 1.2, 4.3, 5.3, 6.2, 2.3, ...</td>\n",
       "    </tr>\n",
       "    <tr>\n",
       "      <th>54</th>\n",
       "      <td>126</td>\n",
       "      <td>15</td>\n",
       "      <td>[5.1, 1.3, 2.2, 5.2, 5.3, 1.2, 4.3, 6.1, 1.1, ...</td>\n",
       "    </tr>\n",
       "    <tr>\n",
       "      <th>61</th>\n",
       "      <td>142</td>\n",
       "      <td>15</td>\n",
       "      <td>[1.2, 5.1, 1.1, 2.2, 5.2, 5.3, 6.3, 4.3, 6.1, ...</td>\n",
       "    </tr>\n",
       "    <tr>\n",
       "      <th>70</th>\n",
       "      <td>169</td>\n",
       "      <td>15</td>\n",
       "      <td>[5.1, 2.2, 1.2, 6.2, 3.2, 2.3, 5.2, 6.4, 5.3, ...</td>\n",
       "    </tr>\n",
       "    <tr>\n",
       "      <th>9</th>\n",
       "      <td>25</td>\n",
       "      <td>14</td>\n",
       "      <td>[1.2, 5.1, 1.3, 2.2, 5.3, 4.1, 1.1, 2.3, 4.3, ...</td>\n",
       "    </tr>\n",
       "    <tr>\n",
       "      <th>50</th>\n",
       "      <td>115</td>\n",
       "      <td>14</td>\n",
       "      <td>[5.1, 1.1, 1.3, 3.3, 4.2, 6.3, 2.1, 4.3, 5.3, ...</td>\n",
       "    </tr>\n",
       "    <tr>\n",
       "      <th>11</th>\n",
       "      <td>29</td>\n",
       "      <td>14</td>\n",
       "      <td>[1.2, 5.1, 1.1, 1.3, 5.2, 3.3, 4.1, 4.3, 5.3, ...</td>\n",
       "    </tr>\n",
       "    <tr>\n",
       "      <th>46</th>\n",
       "      <td>106</td>\n",
       "      <td>14</td>\n",
       "      <td>[5.1, 1.3, 2.2, 3.3, 4.1, 4.2, 4.3, 5.2, 1.1, ...</td>\n",
       "    </tr>\n",
       "    <tr>\n",
       "      <th>66</th>\n",
       "      <td>156</td>\n",
       "      <td>14</td>\n",
       "      <td>[5.1, 1.1, 1.3, 2.2, 5.2, 5.3, 6.3, 4.3, 6.4, ...</td>\n",
       "    </tr>\n",
       "    <tr>\n",
       "      <th>31</th>\n",
       "      <td>77</td>\n",
       "      <td>13</td>\n",
       "      <td>[1.2, 1.1, 2.2, 5.3, 6.2, 3.3, 4.1, 2.1, 6.1, ...</td>\n",
       "    </tr>\n",
       "    <tr>\n",
       "      <th>62</th>\n",
       "      <td>144</td>\n",
       "      <td>13</td>\n",
       "      <td>[5.1, 1.1, 5.2, 5.3, 1.2, 6.3, 4.1, 2.3, 4.3, ...</td>\n",
       "    </tr>\n",
       "    <tr>\n",
       "      <th>6</th>\n",
       "      <td>16</td>\n",
       "      <td>13</td>\n",
       "      <td>[1.2, 5.1, 1.1, 1.3, 2.2, 3.2, 2.1, 2.3, 5.2, ...</td>\n",
       "    </tr>\n",
       "    <tr>\n",
       "      <th>10</th>\n",
       "      <td>27</td>\n",
       "      <td>13</td>\n",
       "      <td>[5.1, 1.1, 1.3, 5.3, 1.2, 4.1, 6.2, 4.3, 2.1, ...</td>\n",
       "    </tr>\n",
       "    <tr>\n",
       "      <th>1</th>\n",
       "      <td>6</td>\n",
       "      <td>13</td>\n",
       "      <td>[1.1, 1.3, 5.3, 1.2, 5.2, 4.1, 2.1, 5.1, 6.1, ...</td>\n",
       "    </tr>\n",
       "    <tr>\n",
       "      <th>15</th>\n",
       "      <td>39</td>\n",
       "      <td>13</td>\n",
       "      <td>[2.2, 1.1, 1.3, 2.3, 2.1, 5.1, 5.3, 6.1, 6.2, ...</td>\n",
       "    </tr>\n",
       "    <tr>\n",
       "      <th>22</th>\n",
       "      <td>58</td>\n",
       "      <td>13</td>\n",
       "      <td>[1.2, 2.2, 5.2, 2.3, 3.2, 3.3, 5.1, 5.3, 6.2, ...</td>\n",
       "    </tr>\n",
       "    <tr>\n",
       "      <th>75</th>\n",
       "      <td>183</td>\n",
       "      <td>13</td>\n",
       "      <td>[1.2, 6.2, 2.3, 3.3, 6.1, 1.1, 2.1, 4.1, 6.4, ...</td>\n",
       "    </tr>\n",
       "    <tr>\n",
       "      <th>55</th>\n",
       "      <td>128</td>\n",
       "      <td>13</td>\n",
       "      <td>[5.1, 1.1, 2.2, 5.2, 5.3, 1.2, 3.3, 4.3, 1.3, ...</td>\n",
       "    </tr>\n",
       "    <tr>\n",
       "      <th>21</th>\n",
       "      <td>56</td>\n",
       "      <td>13</td>\n",
       "      <td>[2.2, 5.2, 2.3, 3.3, 6.3, 5.3, 6.2, 1.1, 1.3, ...</td>\n",
       "    </tr>\n",
       "    <tr>\n",
       "      <th>51</th>\n",
       "      <td>116</td>\n",
       "      <td>12</td>\n",
       "      <td>[5.1, 1.3, 4.2, 5.3, 6.1, 1.1, 2.3, 4.3, 2.4, ...</td>\n",
       "    </tr>\n",
       "    <tr>\n",
       "      <th>78</th>\n",
       "      <td>193</td>\n",
       "      <td>12</td>\n",
       "      <td>[5.1, 2.2, 5.2, 6.2, 3.3, 5.3, 6.4, 2.3, 2.4, ...</td>\n",
       "    </tr>\n",
       "    <tr>\n",
       "      <th>77</th>\n",
       "      <td>192</td>\n",
       "      <td>12</td>\n",
       "      <td>[5.1, 2.2, 5.3, 6.4, 6.1, 6.2, 1.1, 4.1, 2.1, ...</td>\n",
       "    </tr>\n",
       "    <tr>\n",
       "      <th>49</th>\n",
       "      <td>110</td>\n",
       "      <td>12</td>\n",
       "      <td>[5.1, 1.1, 3.3, 4.2, 4.3, 5.3, 6.1, 6.2, 4.1, ...</td>\n",
       "    </tr>\n",
       "    <tr>\n",
       "      <th>60</th>\n",
       "      <td>141</td>\n",
       "      <td>12</td>\n",
       "      <td>[5.1, 2.2, 5.2, 5.3, 1.2, 2.3, 6.4, 1.1, 1.3, ...</td>\n",
       "    </tr>\n",
       "    <tr>\n",
       "      <th>23</th>\n",
       "      <td>60</td>\n",
       "      <td>11</td>\n",
       "      <td>[2.2, 1.2, 2.3, 2.1, 5.2, 5.3, 1.1, 6.3, 2.4, ...</td>\n",
       "    </tr>\n",
       "    <tr>\n",
       "      <th>12</th>\n",
       "      <td>32</td>\n",
       "      <td>11</td>\n",
       "      <td>[1.2, 5.1, 2.2, 2.4, 2.3, 2.1, 6.1, 4.1, 1.1, ...</td>\n",
       "    </tr>\n",
       "    <tr>\n",
       "      <th>17</th>\n",
       "      <td>43</td>\n",
       "      <td>11</td>\n",
       "      <td>[5.1, 2.2, 1.1, 3.3, 6.3, 2.3, 5.2, 5.3, 6.4, ...</td>\n",
       "    </tr>\n",
       "    <tr>\n",
       "      <th>79</th>\n",
       "      <td>195</td>\n",
       "      <td>11</td>\n",
       "      <td>[2.2, 2.4, 5.3, 1.2, 2.3, 6.4, 6.2, 4.2, 6.3, ...</td>\n",
       "    </tr>\n",
       "    <tr>\n",
       "      <th>32</th>\n",
       "      <td>82</td>\n",
       "      <td>11</td>\n",
       "      <td>[1.2, 2.2, 3.2, 2.3, 4.3, 1.1, 3.3, 2.1, 6.1, ...</td>\n",
       "    </tr>\n",
       "    <tr>\n",
       "      <th>26</th>\n",
       "      <td>68</td>\n",
       "      <td>11</td>\n",
       "      <td>[2.2, 1.1, 2.4, 1.2, 5.1, 5.2, 6.4, 6.1, 2.3, ...</td>\n",
       "    </tr>\n",
       "    <tr>\n",
       "      <th>16</th>\n",
       "      <td>41</td>\n",
       "      <td>10</td>\n",
       "      <td>[5.1, 2.2, 1.1, 1.3, 5.3, 2.1, 2.3, 3.3, 2.4, ...</td>\n",
       "    </tr>\n",
       "    <tr>\n",
       "      <th>74</th>\n",
       "      <td>182</td>\n",
       "      <td>10</td>\n",
       "      <td>[5.1, 2.2, 5.2, 5.3, 6.3, 4.3, 4.2, 2.3, 4.1, ...</td>\n",
       "    </tr>\n",
       "    <tr>\n",
       "      <th>24</th>\n",
       "      <td>64</td>\n",
       "      <td>10</td>\n",
       "      <td>[5.1, 2.2, 2.4, 5.3, 3.3, 2.1, 6.1, 6.2, 1.1, ...</td>\n",
       "    </tr>\n",
       "    <tr>\n",
       "      <th>19</th>\n",
       "      <td>49</td>\n",
       "      <td>10</td>\n",
       "      <td>[2.2, 1.1, 2.4, 5.3, 3.2, 2.1, 2.3, 6.4, 6.1, ...</td>\n",
       "    </tr>\n",
       "    <tr>\n",
       "      <th>63</th>\n",
       "      <td>149</td>\n",
       "      <td>10</td>\n",
       "      <td>[5.1, 2.2, 5.2, 5.3, 1.2, 6.1, 1.1, 3.1, 2.3, ...</td>\n",
       "    </tr>\n",
       "    <tr>\n",
       "      <th>45</th>\n",
       "      <td>105</td>\n",
       "      <td>9</td>\n",
       "      <td>[1.2, 4.1, 1.1, 1.3, 5.1, 4.3, 3.1, 4.2, 3.3]</td>\n",
       "    </tr>\n",
       "    <tr>\n",
       "      <th>57</th>\n",
       "      <td>135</td>\n",
       "      <td>9</td>\n",
       "      <td>[5.1, 2.2, 5.2, 4.3, 5.3, 1.3, 2.1, 1.1, 3.1]</td>\n",
       "    </tr>\n",
       "    <tr>\n",
       "      <th>80</th>\n",
       "      <td>201</td>\n",
       "      <td>9</td>\n",
       "      <td>[3.3, 3.2, 4.1, 1.1, 2.3, 2.2, 2.4, 1.2, 3.1]</td>\n",
       "    </tr>\n",
       "    <tr>\n",
       "      <th>47</th>\n",
       "      <td>107</td>\n",
       "      <td>9</td>\n",
       "      <td>[5.1, 1.1, 1.3, 5.2, 1.2, 3.3, 4.1, 5.3, 3.1]</td>\n",
       "    </tr>\n",
       "    <tr>\n",
       "      <th>38</th>\n",
       "      <td>93</td>\n",
       "      <td>8</td>\n",
       "      <td>[5.1, 1.1, 3.3, 5.3, 1.3, 4.1, 3.1, 2.4]</td>\n",
       "    </tr>\n",
       "    <tr>\n",
       "      <th>25</th>\n",
       "      <td>67</td>\n",
       "      <td>8</td>\n",
       "      <td>[2.2, 2.4, 2.1, 5.1, 6.1, 6.2, 1.1, 6.4]</td>\n",
       "    </tr>\n",
       "    <tr>\n",
       "      <th>81</th>\n",
       "      <td>202</td>\n",
       "      <td>8</td>\n",
       "      <td>[1.1, 3.3, 4.1, 2.3, 5.3, 1.3, 2.1, 3.1]</td>\n",
       "    </tr>\n",
       "    <tr>\n",
       "      <th>30</th>\n",
       "      <td>76</td>\n",
       "      <td>7</td>\n",
       "      <td>[1.2, 1.1, 3.2, 6.2, 1.3, 3.1, 5.2]</td>\n",
       "    </tr>\n",
       "    <tr>\n",
       "      <th>40</th>\n",
       "      <td>98</td>\n",
       "      <td>7</td>\n",
       "      <td>[1.2, 3.3, 6.4, 1.1, 6.3, 3.1, 4.2]</td>\n",
       "    </tr>\n",
       "    <tr>\n",
       "      <th>37</th>\n",
       "      <td>92</td>\n",
       "      <td>7</td>\n",
       "      <td>[2.2, 3.3, 4.1, 4.3, 1.1, 1.2, 3.1]</td>\n",
       "    </tr>\n",
       "    <tr>\n",
       "      <th>33</th>\n",
       "      <td>84</td>\n",
       "      <td>6</td>\n",
       "      <td>[3.2, 1.1, 3.3, 4.1, 6.3, 3.1]</td>\n",
       "    </tr>\n",
       "    <tr>\n",
       "      <th>34</th>\n",
       "      <td>86</td>\n",
       "      <td>6</td>\n",
       "      <td>[1.2, 3.2, 4.1, 1.1, 6.2, 3.1]</td>\n",
       "    </tr>\n",
       "    <tr>\n",
       "      <th>52</th>\n",
       "      <td>118</td>\n",
       "      <td>6</td>\n",
       "      <td>[2.2, 3.3, 4.2, 4.3, 4.1, 1.1]</td>\n",
       "    </tr>\n",
       "    <tr>\n",
       "      <th>76</th>\n",
       "      <td>189</td>\n",
       "      <td>6</td>\n",
       "      <td>[2.2, 5.3, 6.4, 6.2, 1.1, 6.3]</td>\n",
       "    </tr>\n",
       "    <tr>\n",
       "      <th>42</th>\n",
       "      <td>100</td>\n",
       "      <td>6</td>\n",
       "      <td>[1.1, 1.3, 4.1, 5.3, 4.2, 3.1]</td>\n",
       "    </tr>\n",
       "    <tr>\n",
       "      <th>41</th>\n",
       "      <td>99</td>\n",
       "      <td>6</td>\n",
       "      <td>[3.3, 4.2, 4.1, 2.3, 6.4, 1.1]</td>\n",
       "    </tr>\n",
       "    <tr>\n",
       "      <th>73</th>\n",
       "      <td>177</td>\n",
       "      <td>5</td>\n",
       "      <td>[6.2, 6.4, 1.1, 6.3, 3.1]</td>\n",
       "    </tr>\n",
       "    <tr>\n",
       "      <th>43</th>\n",
       "      <td>101</td>\n",
       "      <td>5</td>\n",
       "      <td>[1.2, 3.2, 4.1, 1.3, 1.1]</td>\n",
       "    </tr>\n",
       "    <tr>\n",
       "      <th>35</th>\n",
       "      <td>87</td>\n",
       "      <td>3</td>\n",
       "      <td>[3.2, 4.3, 3.1]</td>\n",
       "    </tr>\n",
       "    <tr>\n",
       "      <th>72</th>\n",
       "      <td>174</td>\n",
       "      <td>2</td>\n",
       "      <td>[6.2, 1.1]</td>\n",
       "    </tr>\n",
       "  </tbody>\n",
       "</table>\n",
       "</div>"
      ],
      "text/plain": [
       "    project_id  num_unique_districts  \\\n",
       "0            5                    20   \n",
       "2            7                    19   \n",
       "5           12                    19   \n",
       "18          44                    19   \n",
       "8           19                    19   \n",
       "13          34                    19   \n",
       "20          52                    19   \n",
       "28          71                    19   \n",
       "58         136                    19   \n",
       "3            9                    18   \n",
       "7           17                    18   \n",
       "29          72                    18   \n",
       "56         132                    18   \n",
       "68         162                    17   \n",
       "44         102                    17   \n",
       "36          91                    17   \n",
       "67         157                    17   \n",
       "69         163                    17   \n",
       "4           11                    16   \n",
       "65         155                    16   \n",
       "14          38                    16   \n",
       "64         153                    16   \n",
       "53         125                    16   \n",
       "27          69                    16   \n",
       "71         172                    15   \n",
       "39          94                    15   \n",
       "48         108                    15   \n",
       "59         139                    15   \n",
       "82         203                    15   \n",
       "54         126                    15   \n",
       "61         142                    15   \n",
       "70         169                    15   \n",
       "9           25                    14   \n",
       "50         115                    14   \n",
       "11          29                    14   \n",
       "46         106                    14   \n",
       "66         156                    14   \n",
       "31          77                    13   \n",
       "62         144                    13   \n",
       "6           16                    13   \n",
       "10          27                    13   \n",
       "1            6                    13   \n",
       "15          39                    13   \n",
       "22          58                    13   \n",
       "75         183                    13   \n",
       "55         128                    13   \n",
       "21          56                    13   \n",
       "51         116                    12   \n",
       "78         193                    12   \n",
       "77         192                    12   \n",
       "49         110                    12   \n",
       "60         141                    12   \n",
       "23          60                    11   \n",
       "12          32                    11   \n",
       "17          43                    11   \n",
       "79         195                    11   \n",
       "32          82                    11   \n",
       "26          68                    11   \n",
       "16          41                    10   \n",
       "74         182                    10   \n",
       "24          64                    10   \n",
       "19          49                    10   \n",
       "63         149                    10   \n",
       "45         105                     9   \n",
       "57         135                     9   \n",
       "80         201                     9   \n",
       "47         107                     9   \n",
       "38          93                     8   \n",
       "25          67                     8   \n",
       "81         202                     8   \n",
       "30          76                     7   \n",
       "40          98                     7   \n",
       "37          92                     7   \n",
       "33          84                     6   \n",
       "34          86                     6   \n",
       "52         118                     6   \n",
       "76         189                     6   \n",
       "42         100                     6   \n",
       "41          99                     6   \n",
       "73         177                     5   \n",
       "43         101                     5   \n",
       "35          87                     3   \n",
       "72         174                     2   \n",
       "\n",
       "                              districts_in_voter_pool  \n",
       "0   [1.2, 5.1, 2.2, 1.1, 1.3, 2.4, 5.2, 5.3, 3.2, ...  \n",
       "2   [1.2, 5.1, 2.2, 1.1, 1.3, 2.4, 5.2, 5.3, 6.2, ...  \n",
       "5   [5.1, 1.1, 1.3, 2.2, 5.2, 5.3, 1.2, 3.2, 3.3, ...  \n",
       "18  [1.2, 5.1, 2.2, 1.3, 3.3, 2.3, 3.2, 4.2, 2.1, ...  \n",
       "8   [1.2, 5.1, 1.1, 1.3, 2.2, 5.2, 5.3, 3.2, 3.3, ...  \n",
       "13  [1.2, 5.1, 2.2, 1.1, 2.4, 5.3, 2.3, 3.2, 2.1, ...  \n",
       "20  [5.1, 2.2, 1.3, 5.2, 5.3, 1.2, 2.3, 2.1, 6.4, ...  \n",
       "28  [1.2, 5.1, 1.1, 1.3, 2.2, 5.2, 5.3, 3.2, 3.3, ...  \n",
       "58  [1.2, 5.1, 1.1, 1.3, 2.2, 5.2, 5.3, 3.3, 6.3, ...  \n",
       "3   [1.2, 5.1, 2.2, 1.1, 1.3, 3.3, 4.1, 4.2, 5.2, ...  \n",
       "7   [1.2, 5.1, 1.3, 2.2, 5.2, 3.2, 2.3, 3.3, 4.1, ...  \n",
       "29  [1.2, 5.1, 1.1, 2.2, 5.3, 6.2, 3.2, 4.1, 2.3, ...  \n",
       "56  [5.1, 1.1, 2.2, 2.4, 5.3, 1.2, 6.3, 2.3, 4.3, ...  \n",
       "68  [1.2, 5.1, 2.2, 2.4, 3.2, 2.1, 4.3, 5.2, 5.3, ...  \n",
       "44  [1.3, 2.2, 5.2, 5.3, 1.2, 2.3, 3.3, 4.1, 6.3, ...  \n",
       "36  [5.1, 1.1, 1.3, 2.2, 5.2, 5.3, 1.2, 3.3, 3.2, ...  \n",
       "67  [5.1, 2.2, 1.3, 5.2, 5.3, 6.3, 6.1, 1.1, 6.4, ...  \n",
       "69  [2.2, 1.1, 2.4, 5.3, 1.2, 2.1, 5.1, 5.2, 6.1, ...  \n",
       "4   [1.2, 5.1, 2.2, 1.1, 5.2, 3.3, 4.1, 5.3, 6.1, ...  \n",
       "65  [5.1, 2.2, 1.1, 5.2, 5.3, 1.2, 3.3, 4.3, 6.1, ...  \n",
       "14  [1.2, 5.1, 2.2, 1.1, 2.4, 2.1, 2.3, 5.3, 6.1, ...  \n",
       "64  [5.1, 2.2, 1.1, 1.3, 5.2, 5.3, 1.2, 2.3, 4.1, ...  \n",
       "53  [5.1, 2.2, 5.2, 1.2, 3.3, 3.2, 4.2, 6.3, 4.3, ...  \n",
       "27  [5.1, 2.2, 1.1, 2.4, 1.2, 2.3, 3.2, 2.1, 5.2, ...  \n",
       "71  [1.2, 5.1, 2.2, 1.1, 2.4, 6.2, 2.3, 4.3, 6.4, ...  \n",
       "39  [5.1, 1.1, 2.2, 5.2, 3.3, 3.2, 4.2, 4.1, 4.3, ...  \n",
       "48  [5.1, 5.2, 1.2, 4.1, 2.1, 5.3, 6.2, 1.1, 1.3, ...  \n",
       "59  [1.2, 5.1, 1.1, 1.3, 5.2, 5.3, 6.4, 2.3, 4.1, ...  \n",
       "82  [5.1, 1.1, 1.3, 2.2, 1.2, 4.3, 5.3, 6.2, 2.3, ...  \n",
       "54  [5.1, 1.3, 2.2, 5.2, 5.3, 1.2, 4.3, 6.1, 1.1, ...  \n",
       "61  [1.2, 5.1, 1.1, 2.2, 5.2, 5.3, 6.3, 4.3, 6.1, ...  \n",
       "70  [5.1, 2.2, 1.2, 6.2, 3.2, 2.3, 5.2, 6.4, 5.3, ...  \n",
       "9   [1.2, 5.1, 1.3, 2.2, 5.3, 4.1, 1.1, 2.3, 4.3, ...  \n",
       "50  [5.1, 1.1, 1.3, 3.3, 4.2, 6.3, 2.1, 4.3, 5.3, ...  \n",
       "11  [1.2, 5.1, 1.1, 1.3, 5.2, 3.3, 4.1, 4.3, 5.3, ...  \n",
       "46  [5.1, 1.3, 2.2, 3.3, 4.1, 4.2, 4.3, 5.2, 1.1, ...  \n",
       "66  [5.1, 1.1, 1.3, 2.2, 5.2, 5.3, 6.3, 4.3, 6.4, ...  \n",
       "31  [1.2, 1.1, 2.2, 5.3, 6.2, 3.3, 4.1, 2.1, 6.1, ...  \n",
       "62  [5.1, 1.1, 5.2, 5.3, 1.2, 6.3, 4.1, 2.3, 4.3, ...  \n",
       "6   [1.2, 5.1, 1.1, 1.3, 2.2, 3.2, 2.1, 2.3, 5.2, ...  \n",
       "10  [5.1, 1.1, 1.3, 5.3, 1.2, 4.1, 6.2, 4.3, 2.1, ...  \n",
       "1   [1.1, 1.3, 5.3, 1.2, 5.2, 4.1, 2.1, 5.1, 6.1, ...  \n",
       "15  [2.2, 1.1, 1.3, 2.3, 2.1, 5.1, 5.3, 6.1, 6.2, ...  \n",
       "22  [1.2, 2.2, 5.2, 2.3, 3.2, 3.3, 5.1, 5.3, 6.2, ...  \n",
       "75  [1.2, 6.2, 2.3, 3.3, 6.1, 1.1, 2.1, 4.1, 6.4, ...  \n",
       "55  [5.1, 1.1, 2.2, 5.2, 5.3, 1.2, 3.3, 4.3, 1.3, ...  \n",
       "21  [2.2, 5.2, 2.3, 3.3, 6.3, 5.3, 6.2, 1.1, 1.3, ...  \n",
       "51  [5.1, 1.3, 4.2, 5.3, 6.1, 1.1, 2.3, 4.3, 2.4, ...  \n",
       "78  [5.1, 2.2, 5.2, 6.2, 3.3, 5.3, 6.4, 2.3, 2.4, ...  \n",
       "77  [5.1, 2.2, 5.3, 6.4, 6.1, 6.2, 1.1, 4.1, 2.1, ...  \n",
       "49  [5.1, 1.1, 3.3, 4.2, 4.3, 5.3, 6.1, 6.2, 4.1, ...  \n",
       "60  [5.1, 2.2, 5.2, 5.3, 1.2, 2.3, 6.4, 1.1, 1.3, ...  \n",
       "23  [2.2, 1.2, 2.3, 2.1, 5.2, 5.3, 1.1, 6.3, 2.4, ...  \n",
       "12  [1.2, 5.1, 2.2, 2.4, 2.3, 2.1, 6.1, 4.1, 1.1, ...  \n",
       "17  [5.1, 2.2, 1.1, 3.3, 6.3, 2.3, 5.2, 5.3, 6.4, ...  \n",
       "79  [2.2, 2.4, 5.3, 1.2, 2.3, 6.4, 6.2, 4.2, 6.3, ...  \n",
       "32  [1.2, 2.2, 3.2, 2.3, 4.3, 1.1, 3.3, 2.1, 6.1, ...  \n",
       "26  [2.2, 1.1, 2.4, 1.2, 5.1, 5.2, 6.4, 6.1, 2.3, ...  \n",
       "16  [5.1, 2.2, 1.1, 1.3, 5.3, 2.1, 2.3, 3.3, 2.4, ...  \n",
       "74  [5.1, 2.2, 5.2, 5.3, 6.3, 4.3, 4.2, 2.3, 4.1, ...  \n",
       "24  [5.1, 2.2, 2.4, 5.3, 3.3, 2.1, 6.1, 6.2, 1.1, ...  \n",
       "19  [2.2, 1.1, 2.4, 5.3, 3.2, 2.1, 2.3, 6.4, 6.1, ...  \n",
       "63  [5.1, 2.2, 5.2, 5.3, 1.2, 6.1, 1.1, 3.1, 2.3, ...  \n",
       "45      [1.2, 4.1, 1.1, 1.3, 5.1, 4.3, 3.1, 4.2, 3.3]  \n",
       "57      [5.1, 2.2, 5.2, 4.3, 5.3, 1.3, 2.1, 1.1, 3.1]  \n",
       "80      [3.3, 3.2, 4.1, 1.1, 2.3, 2.2, 2.4, 1.2, 3.1]  \n",
       "47      [5.1, 1.1, 1.3, 5.2, 1.2, 3.3, 4.1, 5.3, 3.1]  \n",
       "38           [5.1, 1.1, 3.3, 5.3, 1.3, 4.1, 3.1, 2.4]  \n",
       "25           [2.2, 2.4, 2.1, 5.1, 6.1, 6.2, 1.1, 6.4]  \n",
       "81           [1.1, 3.3, 4.1, 2.3, 5.3, 1.3, 2.1, 3.1]  \n",
       "30                [1.2, 1.1, 3.2, 6.2, 1.3, 3.1, 5.2]  \n",
       "40                [1.2, 3.3, 6.4, 1.1, 6.3, 3.1, 4.2]  \n",
       "37                [2.2, 3.3, 4.1, 4.3, 1.1, 1.2, 3.1]  \n",
       "33                     [3.2, 1.1, 3.3, 4.1, 6.3, 3.1]  \n",
       "34                     [1.2, 3.2, 4.1, 1.1, 6.2, 3.1]  \n",
       "52                     [2.2, 3.3, 4.2, 4.3, 4.1, 1.1]  \n",
       "76                     [2.2, 5.3, 6.4, 6.2, 1.1, 6.3]  \n",
       "42                     [1.1, 1.3, 4.1, 5.3, 4.2, 3.1]  \n",
       "41                     [3.3, 4.2, 4.1, 2.3, 6.4, 1.1]  \n",
       "73                          [6.2, 6.4, 1.1, 6.3, 3.1]  \n",
       "43                          [1.2, 3.2, 4.1, 1.3, 1.1]  \n",
       "35                                    [3.2, 4.3, 3.1]  \n",
       "72                                         [6.2, 1.1]  "
      ]
     },
     "execution_count": 35,
     "metadata": {},
     "output_type": "execute_result"
    }
   ],
   "source": [
    "pd.set_option('display.max_rows', None)  # Show all rows\n",
    "# Example DataFrame\n",
    "# Each row is a vote: who (voter_id) voted for what (project_id) and from which district\n",
    "winners_merged_df = merged_df[merged_df['approved_binary'] == 1]\n",
    "\n",
    "df = winners_merged_df\n",
    "\n",
    "# Step 1: Get mapping from each project to its voter pool\n",
    "project_voters = df.groupby('project_id')['ID'].unique().reset_index()\n",
    "\n",
    "# Step 2: For each project, get the voters' full voting history and extract districts\n",
    "def get_districts_for_voters(voter_list):\n",
    "    return df[df['ID'].isin(voter_list)]['src_district_code'].unique()\n",
    "\n",
    "project_voters['districts_in_voter_pool'] = project_voters['ID'].apply(get_districts_for_voters)\n",
    "project_voters['num_unique_districts'] = project_voters['districts_in_voter_pool'].apply(len)\n",
    "\n",
    "# Result: project_id, how many distinct districts in the pool of voters\n",
    "project_voters[['project_id', 'num_unique_districts', 'districts_in_voter_pool']].sort_values('num_unique_districts', ascending=False)\n"
   ]
  },
  {
   "cell_type": "code",
   "execution_count": null,
   "id": "815e9f56-2b73-426a-9726-726bb79c80c1",
   "metadata": {},
   "outputs": [],
   "source": []
  }
 ],
 "metadata": {
  "kernelspec": {
   "display_name": "Python 3 (ipykernel)",
   "language": "python",
   "name": "python3"
  },
  "language_info": {
   "codemirror_mode": {
    "name": "ipython",
    "version": 3
   },
   "file_extension": ".py",
   "mimetype": "text/x-python",
   "name": "python",
   "nbconvert_exporter": "python",
   "pygments_lexer": "ipython3",
   "version": "3.12.3"
  }
 },
 "nbformat": 4,
 "nbformat_minor": 5
}
