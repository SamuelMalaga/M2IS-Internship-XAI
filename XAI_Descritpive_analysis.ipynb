{
 "cells": [
  {
   "cell_type": "markdown",
   "id": "1ff40cde-2b10-42b8-b824-523b8b744d38",
   "metadata": {},
   "source": [
    "## This is a descriptive analysis to verify the current state of the elections of 2022 in toulouse for participatory budget\n",
    "\n",
    "This notebook is based on the output of another notebook that was created by Juan Ignacio"
   ]
  },
  {
   "cell_type": "markdown",
   "id": "4df9985b-523d-45a8-bcca-794fc37cf067",
   "metadata": {},
   "source": [
    "#### Imports"
   ]
  },
  {
   "cell_type": "code",
   "execution_count": 1,
   "id": "c88c20f9-bc99-42e8-bcd7-09d65b060d01",
   "metadata": {},
   "outputs": [
    {
     "data": {
      "text/html": [
       "\n",
       "            <div>\n",
       "                <ins><a href=\"https://ydata.ai/register\">Upgrade to ydata-sdk</a></ins>\n",
       "                <p>\n",
       "                    Improve your data and profiling with ydata-sdk, featuring data quality scoring, redundancy detection, outlier identification, text validation, and synthetic data generation.\n",
       "                </p>\n",
       "            </div>\n",
       "            "
      ],
      "text/plain": [
       "<IPython.core.display.HTML object>"
      ]
     },
     "metadata": {},
     "output_type": "display_data"
    }
   ],
   "source": [
    "import pandas as pd\n",
    "import numpy as np\n",
    "import matplotlib.pyplot as plt\n",
    "from ydata_profiling import ProfileReport\n"
   ]
  },
  {
   "cell_type": "markdown",
   "id": "b4896fa4-6249-4f61-89ba-3291369ae1a8",
   "metadata": {},
   "source": [
    "#### Loading the datasources"
   ]
  },
  {
   "cell_type": "code",
   "execution_count": 2,
   "id": "4b67d8b5-a8f2-4d55-bcff-fc45a67b79ae",
   "metadata": {},
   "outputs": [
    {
     "name": "stdout",
     "output_type": "stream",
     "text": [
      "Election aggregated projects Index(['project_id', 'project_name', 'description', 'category', 'cost',\n",
      "       'district', 'votes'],\n",
      "      dtype='object') \n",
      "\n",
      "Election details Index(['ID', 'project_id', 'project_title', 'created_at', 'checked_out_at',\n",
      "       'project_url', 'vote_finished'],\n",
      "      dtype='object') \n",
      "\n",
      "Election results Index(['Quartier', 'Catégorie', 'Titre de l'idée', 'Montant', 'VOIX',\n",
      "       'Total par quartier', 'Hypothèse \\nRepêchage', 'Nb projets'],\n",
      "      dtype='object') \n",
      "\n"
     ]
    }
   ],
   "source": [
    "aggregatedProjectsDF = pd.read_csv('projectsAgg2.csv',sep=\";\")\n",
    "electionDetailsDF = pd.read_csv('projectDetails.csv', sep=\";\")\n",
    "xlsx = pd.ExcelFile('/home/samuelaga/Documents/Master2IS/Stage M1/M2IS-Internship-XAI/PBToulouse2022/Copie de Resultats BP31102022-.xlsx')\n",
    "electionResultsDF = pd.read_excel(xlsx,'lauréats')\n",
    "##Drop the last summary row in the dataframe\n",
    "electionResultsDF.drop(electionResultsDF.tail(1).index,inplace=True)\n",
    "\n",
    "print(\"Election aggregated projects\", aggregatedProjectsDF.columns,\"\\n\")\n",
    "print(\"Election details\",electionDetailsDF.columns,\"\\n\")\n",
    "print(\"Election results\", electionResultsDF.columns,\"\\n\")"
   ]
  },
  {
   "cell_type": "code",
   "execution_count": 3,
   "id": "d8aff8da-d398-42b9-95a1-ee960e9f7306",
   "metadata": {},
   "outputs": [],
   "source": [
    "electionDetailsDF['created_at'] = pd.to_datetime(electionDetailsDF['created_at'])\n",
    "electionDetailsDF['checked_out_at'] = pd.to_datetime(electionDetailsDF['checked_out_at'])\n",
    "electionDetailsDF['session_duration'] = electionDetailsDF['checked_out_at'] - electionDetailsDF['created_at']\n",
    "aggregatedProjectsDF['title_length'] = aggregatedProjectsDF['project_name'].str.len()\n",
    "aggregatedProjectsDF['description_length'] = aggregatedProjectsDF['description'].str.len()"
   ]
  },
  {
   "cell_type": "markdown",
   "id": "dfd50b71-fe4d-4030-8d2f-99f1ab72c847",
   "metadata": {},
   "source": [
    "#### Performing some cleaning and mapping before analyzing"
   ]
  },
  {
   "cell_type": "code",
   "execution_count": 4,
   "id": "5c7b5c88-03f7-4c6a-9b21-baf9af63d9e7",
   "metadata": {},
   "outputs": [
    {
     "name": "stdout",
     "output_type": "stream",
     "text": [
      "['12 - Pont des Demoiselles / Ormeau / Montaudran / La Terrasse / Malepère'\n",
      " '8 - Minimes / Barrière de Paris / Ponts-Jumeaux / La Vache / Raisins / Fondeyre'\n",
      " \"11 - Bonhoure / Guilheméry / Château de l'Hers / Limayrac / Côte Pavée\"\n",
      " '5 - Saint-Michel / Saint-Agne / Empalot / Le Busca / Ile du Ramier / Monplaisir'\n",
      " '7 - Sept Deniers / Ginestous-Sesquières / Lalande'\n",
      " \"15 - Croix de Pierre / Route d'Espagne\"\n",
      " '17 - Mirail-Université / Reynerie / Bellefontaine'\n",
      " '9 - Trois Cocus / Borderouge / Croix-Daurade / Paléficat / Grand Selve'\n",
      " '4 - Lapujade / Bonnefoy / Périole / Marengo / La Colonne'\n",
      " '18 - Lardenne / Pradettes / Basso-Cambo'\n",
      " '20 - Arènes Romaines / Ancely / Saint-Martin du Touch / Purpan'\n",
      " '1 - Capitole / Arnaud Bernard / Carmes'\n",
      " '13 - Rangueil / Sauzelong / Jules-Julien / Pech-David / Pouvourville'\n",
      " '14 - Saint-Simon / Lafourguette / Oncopole-Campus Santé du Futur'\n",
      " '6 - Saint-Cyprien'\n",
      " '16 - Fontaine-Lestang / Arènes / Bagatelle / Papus / Tabar / Bordelongue / Mermoz / La Faourette'\n",
      " '3 - Les Chalets / Bayard / Belfort / Saint Aubin / Dupuy'\n",
      " '2 - Amidonniers / Compans-Caffarelli / Brouardel'\n",
      " '19 - Casselardit / Fontaine-Bayonne / Cartoucherie'\n",
      " '10 - Jolimont / Soupetard / Roseraie / Gloire / Gramont / Amouroux']\n",
      "20\n",
      "[12  8 11  5  7 15 17  9  4 18 20  1 13 14  6 16  3  2 19 10]\n",
      "20\n"
     ]
    }
   ],
   "source": [
    "##Unique districts from the aggregated projects\n",
    "print(aggregatedProjectsDF['district'].unique())\n",
    "print(len(aggregatedProjectsDF['district'].unique()))\n",
    "\n",
    "##Separating district number from the district description\n",
    "## add_district_code stands for district code from the aggregated values (most likely the data that was scraped had different codes than the\n",
    "## source data)\n",
    "aggregatedProjectsDF[['agg_district_code', 'agg_quartiers']] = aggregatedProjectsDF['district'].str.extract(r'^(\\d+)\\s*-\\s*(.+)$')\n",
    "aggregatedProjectsDF['agg_district_code'] = aggregatedProjectsDF['agg_district_code'].astype(int)\n",
    "print(aggregatedProjectsDF['agg_district_code'].unique())\n",
    "print(len(aggregatedProjectsDF['agg_district_code'].unique()))\n"
   ]
  },
  {
   "cell_type": "code",
   "execution_count": 5,
   "id": "8329af66-c909-42f6-a844-bd9e7fac3a54",
   "metadata": {},
   "outputs": [
    {
     "name": "stdout",
     "output_type": "stream",
     "text": [
      "['1.1 - Capitole / Arnaud Bernard / Carmes'\n",
      " '1.2 - Amidonniers / Compans-Caffarelli'\n",
      " '1.3 - Les Chalets / Bayard / Belfort / Saint Aubin / Dupuy'\n",
      " '2.1 - Saint-Cyprien' \"2.2 - Croix-de-Pierre / Route d'Espagne\"\n",
      " '2.3 - Fontaine-Lestang / Arènes / Bagatelle / Papus / Tabar / Bordelongue / Mermoz / La Faourette'\n",
      " '2.4 - Casselardit / Fontaine-Bayonne / Cartoucherie'\n",
      " '3.1 - Minimes / Barrière de Paris / Ponts-Jumeaux'\n",
      " '3.2 - Sept-Deniers / Ginestous / Lalande'\n",
      " '3.3 - Trois Cocus / Borderouge / Croix Daurade / Paléficat / Grand Selve'\n",
      " '4.1 - Lapujade / Bonnefoy / Périole / Marengo / La Colonne'\n",
      " '4.2 - Jolimont / Soupetard / Roseraie / Gloire / Gramont / Amouroux'\n",
      " \"4.3 - Bonhoure / Guilheméry / Château de l'Hers / Limayrac / Côte Pavée\"\n",
      " '5.1 - Pont des Demoiselles / Ormeau / Montaudran / La Terrasse / Malepère'\n",
      " '5.2 - Rangueil / Sauzelong / Pech-David / Pouvourville'\n",
      " '5.3 - Saint-Michel / Le Busca / Empalot / Saint-Agne / Ile du Ramier'\n",
      " '6.1 - Arènes Romaines / Saint-Martin-du-Touch / Purpan'\n",
      " '6.2 - Lardenne / Pradettes / Basso-Cambo'\n",
      " '6.3 - Mirail-Université / Reynerie / Bellefontaine'\n",
      " '6.4 - Saint-Simon / Lafourguette / Oncopole']\n",
      "20\n",
      "['1.1' '1.2' '1.3' '2.1' '2.2' '2.3' '2.4' '3.1' '3.2' '3.3' '4.1' '4.2'\n",
      " '4.3' '5.1' '5.2' '5.3' '6.1' '6.2' '6.3' '6.4']\n",
      "20\n"
     ]
    }
   ],
   "source": [
    "##Unique districts from the election results\n",
    "print(electionResultsDF['Quartier'].unique())\n",
    "print(len(electionResultsDF['Quartier'].unique()))\n",
    "\n",
    "##Separating the district number from the district description\n",
    "## src_district_code stand for source district code and it refers to the distric codes that were inputted in the dataset from 2022\n",
    "electionResultsDF[['src_district_code','src_quartiers']] = electionResultsDF['Quartier'].str.extract(r'([0-9]+\\.[0-9]+)\\s*-\\s*(.*)')\n",
    "print(electionResultsDF['src_district_code'].unique())\n",
    "print(len(electionResultsDF['src_district_code'].unique()))"
   ]
  },
  {
   "cell_type": "code",
   "execution_count": 6,
   "id": "c0d6a077-df92-4a48-998c-9a34a0683310",
   "metadata": {},
   "outputs": [
    {
     "name": "stdout",
     "output_type": "stream",
     "text": [
      "   src_district_code  agg_district_code\n",
      "0                5.1                 12\n",
      "1                3.1                  8\n",
      "2                4.3                 11\n",
      "3                5.3                  5\n",
      "6                3.2                  7\n",
      "7                2.2                 15\n",
      "8                6.3                 17\n",
      "9                3.3                  9\n",
      "13               4.1                  4\n",
      "15               6.2                 18\n",
      "18               6.1                 20\n",
      "21               1.1                  1\n",
      "22               5.2                 13\n",
      "26               6.4                 14\n",
      "27               2.1                  6\n",
      "32               2.3                 16\n",
      "35               1.3                  3\n",
      "38               1.2                  2\n",
      "42               2.4                 19\n",
      "51               4.2                 10\n"
     ]
    }
   ],
   "source": [
    "##Preparation to merge the district codes from the source to the aggregated dataset\n",
    "district_mapping = {\n",
    "    1: '1.1', 2: '1.2', 3: '1.3', 4: '4.1', 5: '5.3', 6: '2.1', \n",
    "    7: '3.2', 8: '3.1', 9: '3.3', 10: '4.2', 11: '4.3', 12: '5.1', \n",
    "    13: '5.2', 14: '6.4', 15: '2.2', 16: '2.3', 17: '6.3', 18: '6.2', \n",
    "    19: '2.4', 20: '6.1'\n",
    "}\n",
    "\n",
    "aggregatedProjectsDF['src_district_code'] = aggregatedProjectsDF['agg_district_code'].map(district_mapping)\n",
    "\n",
    "print(aggregatedProjectsDF[['src_district_code','agg_district_code']].drop_duplicates())\n"
   ]
  },
  {
   "cell_type": "code",
   "execution_count": 7,
   "id": "120a731b-8233-427c-8539-5b3bbfc471e3",
   "metadata": {},
   "outputs": [],
   "source": [
    "# Create a set of tuples from 'Titre de l'idée' and 'src_district_code' columns in electionResultsDF\n",
    "election_results_tuples = set(zip(electionResultsDF['Titre de l\\'idée'], electionResultsDF['src_district_code']))\n",
    "\n",
    "# Create the 'approved' column by checking if the combination of 'project_name' and 'src_district_code' exists in the set\n",
    "aggregatedProjectsDF['approved'] = aggregatedProjectsDF.apply(\n",
    "    lambda row: (row['project_name'], row['src_district_code']) in election_results_tuples, axis=1\n",
    ")\n",
    "\n",
    "aggregatedProjectsDF['approved_binary'] = aggregatedProjectsDF['approved'].astype(int)"
   ]
  },
  {
   "cell_type": "code",
   "execution_count": 8,
   "id": "30bf53ee-1c77-4f0e-bbec-3f50e858293a",
   "metadata": {},
   "outputs": [
    {
     "name": "stdout",
     "output_type": "stream",
     "text": [
      "Index(['project_id', 'project_name', 'description', 'category', 'cost',\n",
      "       'district', 'votes', 'title_length', 'description_length',\n",
      "       'agg_district_code', 'agg_quartiers', 'src_district_code', 'approved',\n",
      "       'approved_binary'],\n",
      "      dtype='object')\n"
     ]
    }
   ],
   "source": [
    "print(aggregatedProjectsDF.columns)"
   ]
  },
  {
   "cell_type": "markdown",
   "id": "8611eb71-f3f8-4a73-9ffc-41b57abe8149",
   "metadata": {},
   "source": [
    "### Exploratory analysis\n",
    "The following questions are going to be the base for the analysis and then we can improve from that"
   ]
  },
  {
   "cell_type": "markdown",
   "id": "0c5817e1-69cc-4114-84b3-79d119a5b882",
   "metadata": {},
   "source": [
    "**Total number of projects**"
   ]
  },
  {
   "cell_type": "code",
   "execution_count": 9,
   "id": "17fcdc61-9983-4e79-9a72-50bc9397c0a8",
   "metadata": {},
   "outputs": [
    {
     "name": "stdout",
     "output_type": "stream",
     "text": [
      "199\n"
     ]
    }
   ],
   "source": [
    "print(len(aggregatedProjectsDF))"
   ]
  },
  {
   "cell_type": "markdown",
   "id": "60b9a2da-5838-4946-98f4-0a3fc0eb8b1f",
   "metadata": {},
   "source": [
    "**Total number of voters**"
   ]
  },
  {
   "cell_type": "code",
   "execution_count": 10,
   "id": "8abe28bf-22f7-4639-b042-892c590f17c0",
   "metadata": {},
   "outputs": [
    {
     "name": "stdout",
     "output_type": "stream",
     "text": [
      "4532\n"
     ]
    }
   ],
   "source": [
    "print(len(electionDetailsDF[\"ID\"].unique()))"
   ]
  },
  {
   "cell_type": "markdown",
   "id": "a4115c82-ca7d-4029-b579-527e678dbc10",
   "metadata": {},
   "source": [
    "**Count of voters per project**"
   ]
  },
  {
   "cell_type": "code",
   "execution_count": 11,
   "id": "10f2d56e-5153-4943-9657-56618d103ea4",
   "metadata": {},
   "outputs": [
    {
     "name": "stdout",
     "output_type": "stream",
     "text": [
      "     project_id  votes\n",
      "62          136    492\n",
      "50            7    467\n",
      "23            5    358\n",
      "0           132    258\n",
      "100          71    243\n",
      "..          ...    ...\n",
      "8           181      2\n",
      "20           50      2\n",
      "79          187      2\n",
      "157         176      2\n",
      "148         178      2\n",
      "\n",
      "[199 rows x 2 columns]\n"
     ]
    }
   ],
   "source": [
    "print(aggregatedProjectsDF[['project_id','votes']].sort_values('votes', ascending=False))"
   ]
  },
  {
   "cell_type": "markdown",
   "id": "3423dedb-bd6b-4688-8442-66332f82a7ea",
   "metadata": {},
   "source": [
    "**What are the avaliable categories of projects?**"
   ]
  },
  {
   "cell_type": "code",
   "execution_count": 12,
   "id": "1b7a15ba-f483-44fc-b5ed-836363f018f2",
   "metadata": {},
   "outputs": [
    {
     "name": "stdout",
     "output_type": "stream",
     "text": [
      "['Nature en ville' 'Cadre de vie' 'Éco-mobilité'\n",
      " 'Consommation responsable' 'Énergie' 'Déchets et Recyclage']\n"
     ]
    }
   ],
   "source": [
    "print(aggregatedProjectsDF['category'].unique())"
   ]
  },
  {
   "cell_type": "markdown",
   "id": "06316f3b-0bbf-4cfa-a030-9e07d69d0aa2",
   "metadata": {},
   "source": [
    "**Frequency distribution of the voters**  \n",
    "How many voters voted only for one project, two projects and three projects"
   ]
  },
  {
   "cell_type": "code",
   "execution_count": 13,
   "id": "d93270a7-f8c6-4be7-b641-dd2ebde3a0b8",
   "metadata": {},
   "outputs": [
    {
     "name": "stdout",
     "output_type": "stream",
     "text": [
      "project_title\n",
      "1     872\n",
      "2     250\n",
      "3    3410\n",
      "Name: count, dtype: int64\n"
     ]
    }
   ],
   "source": [
    "voters_project_count = electionDetailsDF.groupby('ID')['project_title'].nunique()\n",
    "print(voters_project_count.value_counts().sort_index())"
   ]
  },
  {
   "cell_type": "markdown",
   "id": "ea07b22f-87ed-4d5d-8da2-7afeac0a0ef4",
   "metadata": {},
   "source": [
    "**How many projects were proposed per district**  "
   ]
  },
  {
   "cell_type": "code",
   "execution_count": 14,
   "id": "47415430-b2cb-4cee-bb6e-0d23f9a0f53a",
   "metadata": {},
   "outputs": [
    {
     "name": "stdout",
     "output_type": "stream",
     "text": [
      "agg_district_code\n",
      "1     10\n",
      "2     10\n",
      "3     10\n",
      "4     10\n",
      "5     10\n",
      "6     10\n",
      "7     10\n",
      "8     10\n",
      "9      9\n",
      "10    10\n",
      "11    10\n",
      "12    10\n",
      "13    10\n",
      "14    10\n",
      "15    10\n",
      "16    10\n",
      "17    10\n",
      "18    10\n",
      "19    10\n",
      "20    10\n",
      "Name: project_name, dtype: int64\n"
     ]
    }
   ],
   "source": [
    "projects_per_district = aggregatedProjectsDF.groupby('agg_district_code')['project_name'].nunique()\n",
    "print(projects_per_district)"
   ]
  },
  {
   "cell_type": "markdown",
   "id": "aed8c562-5c8d-4990-b697-ae6491aac15a",
   "metadata": {},
   "source": [
    "**Votes per district and number of approved projects**  "
   ]
  },
  {
   "cell_type": "code",
   "execution_count": 15,
   "id": "15685859-8470-4131-a1bd-f32bf7086985",
   "metadata": {},
   "outputs": [
    {
     "name": "stdout",
     "output_type": "stream",
     "text": [
      "                   total_votes  winning_projects_per_district\n",
      "agg_district_code                                            \n",
      "1                         1369                              6\n",
      "2                          582                              3\n",
      "3                          524                              3\n",
      "4                          410                              8\n",
      "5                          768                              5\n",
      "6                          778                              4\n",
      "7                          308                              4\n",
      "8                          752                              4\n",
      "9                          329                              7\n",
      "10                         714                              4\n",
      "11                         436                              3\n",
      "12                        1169                              4\n",
      "13                         557                              4\n",
      "14                         404                              4\n",
      "15                         451                              4\n",
      "16                         392                              4\n",
      "17                         105                              2\n",
      "18                         622                              4\n",
      "19                         498                              4\n",
      "20                         438                              2\n"
     ]
    }
   ],
   "source": [
    "votes_per_district = aggregatedProjectsDF.groupby('agg_district_code')['votes'].sum()\n",
    "winning_projects = aggregatedProjectsDF.loc[aggregatedProjectsDF.approved].groupby('agg_district_code').size()\n",
    "\n",
    "result = pd.DataFrame({\n",
    "    'total_votes': votes_per_district,\n",
    "    'winning_projects_per_district': winning_projects\n",
    "}).fillna(0).astype(int)\n",
    "\n",
    "#votes_per_district_sorted = votes_per_district.sort_values(ascending=False)\n",
    "print(result)"
   ]
  },
  {
   "cell_type": "markdown",
   "id": "a7e901ee-baeb-4f38-8523-d0fd45fa07e1",
   "metadata": {},
   "source": [
    "**Votes per category**  "
   ]
  },
  {
   "cell_type": "code",
   "execution_count": 16,
   "id": "7342678c-351b-483a-a3cb-c4be5151d932",
   "metadata": {},
   "outputs": [
    {
     "name": "stdout",
     "output_type": "stream",
     "text": [
      "category\n",
      "Nature en ville             5936\n",
      "Éco-mobilité                2562\n",
      "Cadre de vie                2281\n",
      "Énergie                      531\n",
      "Déchets et Recyclage         235\n",
      "Consommation responsable      61\n",
      "Name: votes, dtype: int64\n"
     ]
    }
   ],
   "source": [
    "votes_per_category = aggregatedProjectsDF.groupby('category')['votes'].sum()\n",
    "votes_per_category_sorted = votes_per_category.sort_values(ascending=False)\n",
    "print(votes_per_category_sorted)"
   ]
  },
  {
   "cell_type": "markdown",
   "id": "8c213e4c-c71a-4136-977a-c3273161859f",
   "metadata": {},
   "source": [
    "**Number of voter per category of winning project**  "
   ]
  },
  {
   "cell_type": "code",
   "execution_count": 17,
   "id": "7021bddd-bb9f-4985-ac23-97052ddbb817",
   "metadata": {},
   "outputs": [
    {
     "name": "stdout",
     "output_type": "stream",
     "text": [
      "category\n",
      "Nature en ville         4914\n",
      "Éco-mobilité            1951\n",
      "Cadre de vie            1087\n",
      "Énergie                  442\n",
      "Déchets et Recyclage     171\n",
      "Name: votes, dtype: int64\n"
     ]
    }
   ],
   "source": [
    "approvedProjects = aggregatedProjectsDF.loc[aggregatedProjectsDF.approved]\n",
    "votes_per_category = approvedProjects.groupby('category')['votes'].sum()\n",
    "votes_per_category_sorted = votes_per_category.sort_values(ascending=False)\n",
    "print(votes_per_category_sorted)"
   ]
  },
  {
   "cell_type": "markdown",
   "id": "05585dce-ea0f-4a5a-8a14-6dc7d99f20ec",
   "metadata": {},
   "source": [
    "**Max project budget**  "
   ]
  },
  {
   "cell_type": "code",
   "execution_count": 18,
   "id": "444e9d1e-5d0e-4cbb-812a-0641ff6bc73a",
   "metadata": {},
   "outputs": [
    {
     "name": "stdout",
     "output_type": "stream",
     "text": [
      "200000.0\n"
     ]
    }
   ],
   "source": [
    "print(aggregatedProjectsDF['cost'].max())"
   ]
  },
  {
   "cell_type": "markdown",
   "id": "e1fefa54-87f4-4f43-9c4f-2a9733a5986c",
   "metadata": {},
   "source": [
    "**Min project budget**  "
   ]
  },
  {
   "cell_type": "code",
   "execution_count": 19,
   "id": "713e7b4b-5cc2-4be5-9d17-1ae437a9c4c5",
   "metadata": {},
   "outputs": [
    {
     "name": "stdout",
     "output_type": "stream",
     "text": [
      "1200.0\n"
     ]
    }
   ],
   "source": [
    "print(aggregatedProjectsDF['cost'].min())"
   ]
  },
  {
   "cell_type": "markdown",
   "id": "3fddcd65-7b75-4481-bc42-7fc099fa677d",
   "metadata": {},
   "source": [
    "**Mean project budget**  "
   ]
  },
  {
   "cell_type": "code",
   "execution_count": 20,
   "id": "315143b1-0174-4f86-b8b9-fb73ce28ae0d",
   "metadata": {},
   "outputs": [
    {
     "name": "stdout",
     "output_type": "stream",
     "text": [
      "79586.53266331658\n"
     ]
    }
   ],
   "source": [
    "print(aggregatedProjectsDF['cost'].mean())"
   ]
  },
  {
   "cell_type": "markdown",
   "id": "f0c81e7f-5717-4d49-8644-062aef410861",
   "metadata": {},
   "source": [
    "**Min session time**  \n",
    "The duration of a voting process, the timediff between the checked out time and the vote finished time"
   ]
  },
  {
   "cell_type": "code",
   "execution_count": 21,
   "id": "2a01bb1a-9ec3-4f59-af60-a01f62ee6354",
   "metadata": {},
   "outputs": [
    {
     "name": "stdout",
     "output_type": "stream",
     "text": [
      "0 days 00:00:02.102000\n"
     ]
    }
   ],
   "source": [
    "print(electionDetailsDF['session_duration'].min())"
   ]
  },
  {
   "cell_type": "markdown",
   "id": "aee0073e-14c6-4ae4-a9cf-8f2ac639e1f1",
   "metadata": {},
   "source": [
    "**Max session time**"
   ]
  },
  {
   "cell_type": "code",
   "execution_count": 22,
   "id": "b2906d31-10e0-48e6-87fb-f9d8f8b320b2",
   "metadata": {},
   "outputs": [
    {
     "name": "stdout",
     "output_type": "stream",
     "text": [
      "23 days 05:08:02.164000\n"
     ]
    }
   ],
   "source": [
    "print(electionDetailsDF['session_duration'].max())"
   ]
  },
  {
   "cell_type": "markdown",
   "id": "f9936f48-fe53-4359-8611-0adf8950bb3b",
   "metadata": {},
   "source": [
    "**Mean session time**"
   ]
  },
  {
   "cell_type": "code",
   "execution_count": 23,
   "id": "a997f0b9-055c-4e6a-83f1-2c83ebd1be5b",
   "metadata": {},
   "outputs": [
    {
     "name": "stdout",
     "output_type": "stream",
     "text": [
      "0 days 04:39:04.790282612\n"
     ]
    }
   ],
   "source": [
    "print(electionDetailsDF['session_duration'].mean())"
   ]
  },
  {
   "cell_type": "markdown",
   "id": "2b68078c-6196-404b-9221-b3b8dec5fc31",
   "metadata": {},
   "source": [
    "**How well the title lenght correlates to the approval of the project**  "
   ]
  },
  {
   "cell_type": "code",
   "execution_count": 24,
   "id": "31a04616-415f-4bb6-b6e9-300ad6270b58",
   "metadata": {},
   "outputs": [
    {
     "name": "stdout",
     "output_type": "stream",
     "text": [
      "Correlation between title length and approval: 0.12025577226355394\n"
     ]
    }
   ],
   "source": [
    "correlation_title = aggregatedProjectsDF['title_length'].corr(aggregatedProjectsDF['approved_binary'])\n",
    "print(f\"Correlation between title length and approval: {correlation_title}\")"
   ]
  },
  {
   "cell_type": "markdown",
   "id": "bc00bd16-2807-4922-afba-17cc6bbdc595",
   "metadata": {},
   "source": [
    "**How well the description lenght correlates to the approval of the project**  "
   ]
  },
  {
   "cell_type": "code",
   "execution_count": 25,
   "id": "d0a5c0b8-b6c3-49fd-b40f-c0ac6c267563",
   "metadata": {},
   "outputs": [
    {
     "name": "stdout",
     "output_type": "stream",
     "text": [
      "Correlation between title length and approval: 0.19023653907295024\n"
     ]
    }
   ],
   "source": [
    "correlation_description = aggregatedProjectsDF['description_length'].corr(aggregatedProjectsDF['approved_binary'])\n",
    "print(f\"Correlation between title length and approval: {correlation_description}\")"
   ]
  },
  {
   "cell_type": "markdown",
   "id": "43bcb37c-dc38-4e93-8230-47e7a967d87d",
   "metadata": {},
   "source": [
    "**Project Approval by budget**  "
   ]
  },
  {
   "cell_type": "code",
   "execution_count": 26,
   "id": "037ee577-e733-4c71-abc3-1ff09eb0d6ca",
   "metadata": {
    "scrolled": true
   },
   "outputs": [
    {
     "name": "stdout",
     "output_type": "stream",
     "text": [
      "            % Approved  % Not Approved  Total\n",
      "cost_range                                   \n",
      "0-50k            35.79           64.21     95\n",
      "50k-100k         33.33           66.67     45\n",
      "100k-150k        36.36           63.64     22\n",
      "150k-200k        70.27           29.73     37\n"
     ]
    },
    {
     "name": "stderr",
     "output_type": "stream",
     "text": [
      "/tmp/ipykernel_11911/2491333920.py:6: FutureWarning: The default of observed=False is deprecated and will be changed to True in a future version of pandas. Pass observed=False to retain current behavior or observed=True to adopt the future default and silence this warning.\n",
      "  result = aggregatedProjectsDF.groupby(['cost_range', 'approved']).size().unstack()\n"
     ]
    }
   ],
   "source": [
    "budget_bins = [0,50000,100000, 150000, 200000]\n",
    "budget_labels = ['0-50k', '50k-100k', '100k-150k', '150k-200k']\n",
    "\n",
    "aggregatedProjectsDF['cost_range'] = pd.cut(aggregatedProjectsDF['cost'], bins=budget_bins, labels = budget_labels, right=True)\n",
    "\n",
    "result = aggregatedProjectsDF.groupby(['cost_range', 'approved']).size().unstack()\n",
    "\n",
    "result.columns = ['Not Approved', 'Approved'] if False in result.columns else ['Approved', 'Not Approved']\n",
    "\n",
    "result['Total'] = result['Not Approved'] + result['Approved']\n",
    "\n",
    "result['% Approved'] = ((result['Approved'] / result['Total']) * 100).round(2)\n",
    "result['% Not Approved'] = ((result['Not Approved'] / result['Total']) * 100).round(2)\n",
    "\n",
    "print(result[['% Approved','% Not Approved','Total']])"
   ]
  },
  {
   "cell_type": "markdown",
   "id": "fa21053b-d2a5-4311-840b-f5efd7b896fa",
   "metadata": {},
   "source": [
    "**Automated EDA for the aggregated dataframe**"
   ]
  },
  {
   "cell_type": "code",
   "execution_count": 37,
   "id": "3c55936f-f3b2-4af9-a7ba-dde40a244492",
   "metadata": {},
   "outputs": [
    {
     "data": {
      "application/vnd.jupyter.widget-view+json": {
       "model_id": "5806597f1d8144e7bda059be309a9f26",
       "version_major": 2,
       "version_minor": 0
      },
      "text/plain": [
       "Summarize dataset:   0%|          | 0/5 [00:00<?, ?it/s]"
      ]
     },
     "metadata": {},
     "output_type": "display_data"
    },
    {
     "name": "stderr",
     "output_type": "stream",
     "text": [
      "\n",
      "100%|████████████████████████████████████████████████████████████████████████████████████████████████████████████████████████████████████████████████████████████████████████████████████████████████████████████████████████████| 12/12 [00:00<00:00, 127.29it/s]\u001b[A\n"
     ]
    },
    {
     "data": {
      "application/vnd.jupyter.widget-view+json": {
       "model_id": "da2ad0e16dcf4752a5dd57f823ac4d20",
       "version_major": 2,
       "version_minor": 0
      },
      "text/plain": [
       "Generate report structure:   0%|          | 0/1 [00:00<?, ?it/s]"
      ]
     },
     "metadata": {},
     "output_type": "display_data"
    },
    {
     "data": {
      "application/vnd.jupyter.widget-view+json": {
       "model_id": "f2b2beabc2694a18bb0be06d2f3d050f",
       "version_major": 2,
       "version_minor": 0
      },
      "text/plain": [
       "Render HTML:   0%|          | 0/1 [00:00<?, ?it/s]"
      ]
     },
     "metadata": {},
     "output_type": "display_data"
    },
    {
     "data": {
      "application/vnd.jupyter.widget-view+json": {
       "model_id": "7547ce5f738048b78e4f15b2644ae21e",
       "version_major": 2,
       "version_minor": 0
      },
      "text/plain": [
       "Export report to file:   0%|          | 0/1 [00:00<?, ?it/s]"
      ]
     },
     "metadata": {},
     "output_type": "display_data"
    }
   ],
   "source": [
    "reportDataframe = aggregatedProjectsDF.copy(deep=True)\n",
    "reportDataframe = reportDataframe.drop(columns=['agg_district_code', 'agg_quartiers','approved_binary'])\n",
    "profile = ProfileReport(reportDataframe,title=\"EDA aggregated\")\n",
    "profile.to_file(\"Report.html\")"
   ]
  },
  {
   "cell_type": "code",
   "execution_count": 46,
   "id": "ea9cf62a-0a8c-442e-bd8b-870e36a94fa9",
   "metadata": {},
   "outputs": [
    {
     "name": "stdout",
     "output_type": "stream",
     "text": [
      "Index(['ID', 'project_id', 'project_title', 'created_at', 'checked_out_at',\n",
      "       'project_url', 'vote_finished', 'session_duration', 'approved',\n",
      "       'session_duration_hours'],\n",
      "      dtype='object')\n"
     ]
    },
    {
     "data": {
      "application/vnd.jupyter.widget-view+json": {
       "model_id": "e9aa9a42432b4716a181dc9fe1335787",
       "version_major": 2,
       "version_minor": 0
      },
      "text/plain": [
       "Summarize dataset:   0%|          | 0/5 [00:00<?, ?it/s]"
      ]
     },
     "metadata": {},
     "output_type": "display_data"
    },
    {
     "name": "stderr",
     "output_type": "stream",
     "text": [
      "\n",
      "100%|███████████████████████████████████████████████████████████████████████████████████████████████████████████████████████████████████████████████████████████████████████████████████████████████████████████████████████████████| 5/5 [00:00<00:00, 93.13it/s]\u001b[A\n"
     ]
    },
    {
     "data": {
      "application/vnd.jupyter.widget-view+json": {
       "model_id": "cfa9d820aa524678be48cf46761b0d49",
       "version_major": 2,
       "version_minor": 0
      },
      "text/plain": [
       "Generate report structure:   0%|          | 0/1 [00:00<?, ?it/s]"
      ]
     },
     "metadata": {},
     "output_type": "display_data"
    },
    {
     "data": {
      "application/vnd.jupyter.widget-view+json": {
       "model_id": "2712837e3e204a359899998c75aea4d2",
       "version_major": 2,
       "version_minor": 0
      },
      "text/plain": [
       "Render HTML:   0%|          | 0/1 [00:00<?, ?it/s]"
      ]
     },
     "metadata": {},
     "output_type": "display_data"
    },
    {
     "data": {
      "application/vnd.jupyter.widget-view+json": {
       "model_id": "e97b7961acf744ec8864555a802f494d",
       "version_major": 2,
       "version_minor": 0
      },
      "text/plain": [
       "Export report to file:   0%|          | 0/1 [00:00<?, ?it/s]"
      ]
     },
     "metadata": {},
     "output_type": "display_data"
    }
   ],
   "source": [
    "detailsDataFrame = electionDetailsDF.copy(deep=True)\n",
    "mergingDataFrame = aggregatedProjectsDF[['project_id','approved']]\n",
    "mergedDataframe = pd.merge(detailsDataFrame,mergingDataFrame, on=\"project_id\")\n",
    "mergedDataframe['session_duration_hours'] = (mergedDataframe['session_duration'].dt.total_seconds()/3600).astype(int)\n",
    "print(mergedDataframe.columns)\n",
    "mergedDataframe = mergedDataframe.drop(columns=['checked_out_at', 'created_at','vote_finished', 'project_url','session_duration'])\n",
    "#mergedDataframe.dtypes\n",
    "details_profile = ProfileReport(mergedDataframe,title=\"EDA details\")\n",
    "details_profile.to_file(\"Details Report.html\")"
   ]
  },
  {
   "cell_type": "code",
   "execution_count": null,
   "id": "9e5d76d8-d017-4af4-a797-fc84e8a7c3b3",
   "metadata": {},
   "outputs": [],
   "source": []
  }
 ],
 "metadata": {
  "kernelspec": {
   "display_name": "Python 3 (ipykernel)",
   "language": "python",
   "name": "python3"
  },
  "language_info": {
   "codemirror_mode": {
    "name": "ipython",
    "version": 3
   },
   "file_extension": ".py",
   "mimetype": "text/x-python",
   "name": "python",
   "nbconvert_exporter": "python",
   "pygments_lexer": "ipython3",
   "version": "3.12.3"
  }
 },
 "nbformat": 4,
 "nbformat_minor": 5
}
